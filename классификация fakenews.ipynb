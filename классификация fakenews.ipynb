{
 "cells": [
  {
   "cell_type": "markdown",
   "metadata": {
    "id": "bSm0ju9puyiP"
   },
   "source": [
    "Используя ноутбук занятия (также размещен в папке Materials) и данные fakenews, 3 раза разными способами получить на задаче классификации значение f1 выше 0.91 для методов на sklearn и выше 0.52 для методов на pytorch."
   ]
  },
  {
   "cell_type": "markdown",
   "metadata": {
    "id": "BcgMmb-QuyiT"
   },
   "source": [
    "# Классификация текстов\n",
    "\n",
    "## Fakenews\n",
    "\n",
    "1. Мы будем работать с данными fakenews отсюда: https://raw.githubusercontent.com/diptamath/covid_fake_news/main/data/Constraint_Train.csv\n",
    "2. Проведите препроцессинг текста. Разбейте данные на train и test для задачи классификации.\n",
    "3. Векторизуйте.\n",
    "4. Обучите на полученных векторах алгоритм классификации.\n",
    "\n",
    "Мы уже видели как эта задача выполняется с помощью Word2vec. Давайте вспомним."
   ]
  },
  {
   "cell_type": "code",
   "execution_count": 1,
   "metadata": {
    "colab": {
     "base_uri": "https://localhost:8080/"
    },
    "executionInfo": {
     "elapsed": 407,
     "status": "ok",
     "timestamp": 1639832634012,
     "user": {
      "displayName": "Татьяна Розитис",
      "photoUrl": "https://lh3.googleusercontent.com/a-/AOh14GhQAtxbsmN0PY09aq0oqLn3JND0vuwIBQFwAwpM=s64",
      "userId": "03558129229986280864"
     },
     "user_tz": -180
    },
    "id": "8EQ4-xO7uyiU",
    "outputId": "ed41a67c-92c6-4a3a-d863-bdc06e7eb587"
   },
   "outputs": [
    {
     "name": "stderr",
     "output_type": "stream",
     "text": [
      "--2024-08-17 16:09:42--  https://raw.githubusercontent.com/diptamath/covid_fake_news/main/data/Constraint_Train.csv\n",
      "Resolving raw.githubusercontent.com (raw.githubusercontent.com)... 185.199.110.133, 185.199.111.133, 185.199.109.133, ...\n",
      "Connecting to raw.githubusercontent.com (raw.githubusercontent.com)|185.199.110.133|:443... connected.\n",
      "HTTP request sent, awaiting response... 200 OK\n",
      "Length: 1253562 (1,2M) [text/plain]\n",
      "Saving to: 'Constraint_Train.csv.3'\n",
      "\n",
      "     0K .......... .......... .......... .......... ..........  4% 1,00M 1s\n",
      "    50K .......... .......... .......... .......... ..........  8%  727K 1s\n",
      "   100K .......... .......... .......... .......... .......... 12%  938K 1s\n",
      "   150K .......... .......... .......... .......... .......... 16%  954K 1s\n",
      "   200K .......... .......... .......... .......... .......... 20%  979K 1s\n",
      "   250K .......... .......... .......... .......... .......... 24%  813K 1s\n",
      "   300K .......... .......... .......... .......... .......... 28%  973K 1s\n",
      "   350K .......... .......... .......... .......... .......... 32% 1,00M 1s\n",
      "   400K .......... .......... .......... .......... .......... 36%  732K 1s\n",
      "   450K .......... .......... .......... .......... .......... 40%  976K 1s\n",
      "   500K .......... .......... .......... .......... .......... 44% 1,04M 1s\n",
      "   550K .......... .......... .......... .......... .......... 49% 1013K 1s\n",
      "   600K .......... .......... .......... .......... .......... 53% 1,04M 1s\n",
      "   650K .......... .......... .......... .......... .......... 57% 1,17M 1s\n",
      "   700K .......... .......... .......... .......... .......... 61% 1,18M 0s\n",
      "   750K .......... .......... .......... .......... .......... 65% 1,24M 0s\n",
      "   800K .......... .......... .......... .......... .......... 69% 1,19M 0s\n",
      "   850K .......... .......... .......... .......... .......... 73%  942K 0s\n",
      "   900K .......... .......... .......... .......... .......... 77% 1,30M 0s\n",
      "   950K .......... .......... .......... .......... .......... 81% 1,31M 0s\n",
      "  1000K .......... .......... .......... .......... .......... 85% 1,24M 0s\n",
      "  1050K .......... .......... .......... .......... .......... 89% 1,29M 0s\n",
      "  1100K .......... .......... .......... .......... .......... 93% 1,25M 0s\n",
      "  1150K .......... .......... .......... .......... .......... 98% 1,33M 0s\n",
      "  1200K .......... .......... ....                            100% 1,95M=1,2s\n",
      "\n",
      "2024-08-17 16:09:44 (1,03 MB/s) - 'Constraint_Train.csv.3' saved [1253562/1253562]\n",
      "\n"
     ]
    }
   ],
   "source": [
    "!wget https://raw.githubusercontent.com/diptamath/covid_fake_news/main/data/Constraint_Train.csv"
   ]
  },
  {
   "cell_type": "code",
   "execution_count": 2,
   "metadata": {
    "executionInfo": {
     "elapsed": 245,
     "status": "ok",
     "timestamp": 1639834953488,
     "user": {
      "displayName": "Татьяна Розитис",
      "photoUrl": "https://lh3.googleusercontent.com/a-/AOh14GhQAtxbsmN0PY09aq0oqLn3JND0vuwIBQFwAwpM=s64",
      "userId": "03558129229986280864"
     },
     "user_tz": -180
    },
    "id": "5YCpo8FuuyiW"
   },
   "outputs": [],
   "source": [
    "import pandas as pd"
   ]
  },
  {
   "cell_type": "code",
   "execution_count": 3,
   "metadata": {
    "executionInfo": {
     "elapsed": 338,
     "status": "ok",
     "timestamp": 1639834955558,
     "user": {
      "displayName": "Татьяна Розитис",
      "photoUrl": "https://lh3.googleusercontent.com/a-/AOh14GhQAtxbsmN0PY09aq0oqLn3JND0vuwIBQFwAwpM=s64",
      "userId": "03558129229986280864"
     },
     "user_tz": -180
    },
    "id": "5NSv9Mo9X-tT"
   },
   "outputs": [],
   "source": [
    "df = pd.read_csv('Constraint_Train.csv')"
   ]
  },
  {
   "cell_type": "code",
   "execution_count": 4,
   "metadata": {
    "colab": {
     "base_uri": "https://localhost:8080/",
     "height": 206
    },
    "executionInfo": {
     "elapsed": 291,
     "status": "ok",
     "timestamp": 1639834956893,
     "user": {
      "displayName": "Татьяна Розитис",
      "photoUrl": "https://lh3.googleusercontent.com/a-/AOh14GhQAtxbsmN0PY09aq0oqLn3JND0vuwIBQFwAwpM=s64",
      "userId": "03558129229986280864"
     },
     "user_tz": -180
    },
    "id": "hgpfPhA0uyiX",
    "outputId": "a0146f85-c7d9-4d75-e138-4ac050172872"
   },
   "outputs": [
    {
     "data": {
      "text/html": [
       "<div>\n",
       "<style scoped>\n",
       "    .dataframe tbody tr th:only-of-type {\n",
       "        vertical-align: middle;\n",
       "    }\n",
       "\n",
       "    .dataframe tbody tr th {\n",
       "        vertical-align: top;\n",
       "    }\n",
       "\n",
       "    .dataframe thead th {\n",
       "        text-align: right;\n",
       "    }\n",
       "</style>\n",
       "<table border=\"1\" class=\"dataframe\">\n",
       "  <thead>\n",
       "    <tr style=\"text-align: right;\">\n",
       "      <th></th>\n",
       "      <th>id</th>\n",
       "      <th>tweet</th>\n",
       "      <th>label</th>\n",
       "    </tr>\n",
       "  </thead>\n",
       "  <tbody>\n",
       "    <tr>\n",
       "      <th>0</th>\n",
       "      <td>1</td>\n",
       "      <td>The CDC currently reports 99031 deaths. In gen...</td>\n",
       "      <td>real</td>\n",
       "    </tr>\n",
       "    <tr>\n",
       "      <th>1</th>\n",
       "      <td>2</td>\n",
       "      <td>States reported 1121 deaths a small rise from ...</td>\n",
       "      <td>real</td>\n",
       "    </tr>\n",
       "    <tr>\n",
       "      <th>2</th>\n",
       "      <td>3</td>\n",
       "      <td>Politically Correct Woman (Almost) Uses Pandem...</td>\n",
       "      <td>fake</td>\n",
       "    </tr>\n",
       "    <tr>\n",
       "      <th>3</th>\n",
       "      <td>4</td>\n",
       "      <td>#IndiaFightsCorona: We have 1524 #COVID testin...</td>\n",
       "      <td>real</td>\n",
       "    </tr>\n",
       "    <tr>\n",
       "      <th>4</th>\n",
       "      <td>5</td>\n",
       "      <td>Populous states can generate large case counts...</td>\n",
       "      <td>real</td>\n",
       "    </tr>\n",
       "  </tbody>\n",
       "</table>\n",
       "</div>"
      ],
      "text/plain": [
       "   id                                              tweet label\n",
       "0   1  The CDC currently reports 99031 deaths. In gen...  real\n",
       "1   2  States reported 1121 deaths a small rise from ...  real\n",
       "2   3  Politically Correct Woman (Almost) Uses Pandem...  fake\n",
       "3   4  #IndiaFightsCorona: We have 1524 #COVID testin...  real\n",
       "4   5  Populous states can generate large case counts...  real"
      ]
     },
     "execution_count": 4,
     "metadata": {},
     "output_type": "execute_result"
    }
   ],
   "source": [
    "df.head()"
   ]
  },
  {
   "cell_type": "code",
   "execution_count": 5,
   "metadata": {
    "id": "-QVUEiLfuyiY"
   },
   "outputs": [],
   "source": [
    "from nltk.tokenize import word_tokenize\n",
    "from tqdm import tqdm"
   ]
  },
  {
   "cell_type": "code",
   "execution_count": 6,
   "metadata": {
    "colab": {
     "base_uri": "https://localhost:8080/"
    },
    "executionInfo": {
     "elapsed": 2080,
     "status": "ok",
     "timestamp": 1639832650779,
     "user": {
      "displayName": "Татьяна Розитис",
      "photoUrl": "https://lh3.googleusercontent.com/a-/AOh14GhQAtxbsmN0PY09aq0oqLn3JND0vuwIBQFwAwpM=s64",
      "userId": "03558129229986280864"
     },
     "user_tz": -180
    },
    "id": "9HbHy4nVNKtt",
    "outputId": "565b027b-4ca3-4eee-983a-020ece8aea16"
   },
   "outputs": [
    {
     "name": "stderr",
     "output_type": "stream",
     "text": [
      "[nltk_data] Downloading package punkt to\n",
      "[nltk_data]     C:\\Users\\yuril\\AppData\\Roaming\\nltk_data...\n",
      "[nltk_data]   Package punkt is already up-to-date!\n"
     ]
    },
    {
     "data": {
      "text/plain": [
       "True"
      ]
     },
     "execution_count": 6,
     "metadata": {},
     "output_type": "execute_result"
    }
   ],
   "source": [
    "import nltk\n",
    "nltk.download('punkt')"
   ]
  },
  {
   "cell_type": "code",
   "execution_count": 7,
   "metadata": {
    "colab": {
     "base_uri": "https://localhost:8080/"
    },
    "executionInfo": {
     "elapsed": 2550,
     "status": "ok",
     "timestamp": 1639832693527,
     "user": {
      "displayName": "Татьяна Розитис",
      "photoUrl": "https://lh3.googleusercontent.com/a-/AOh14GhQAtxbsmN0PY09aq0oqLn3JND0vuwIBQFwAwpM=s64",
      "userId": "03558129229986280864"
     },
     "user_tz": -180
    },
    "id": "sO62Fv2YuyiY",
    "outputId": "727a162d-cd03-4790-fcbc-6a61d5d07c9f"
   },
   "outputs": [
    {
     "name": "stderr",
     "output_type": "stream",
     "text": [
      "100%|████████████████████████████████████████████████████████████████████████████| 6420/6420 [00:01<00:00, 4340.75it/s]\n"
     ]
    }
   ],
   "source": [
    "sentences = [word_tokenize(text.lower()) for text in tqdm(df.tweet)]"
   ]
  },
  {
   "cell_type": "code",
   "execution_count": 8,
   "metadata": {
    "colab": {
     "base_uri": "https://localhost:8080/"
    },
    "executionInfo": {
     "elapsed": 6516,
     "status": "ok",
     "timestamp": 1639832700035,
     "user": {
      "displayName": "Татьяна Розитис",
      "photoUrl": "https://lh3.googleusercontent.com/a-/AOh14GhQAtxbsmN0PY09aq0oqLn3JND0vuwIBQFwAwpM=s64",
      "userId": "03558129229986280864"
     },
     "user_tz": -180
    },
    "id": "HV6DsOOPuyiZ",
    "outputId": "0eab11fe-bf4d-4854-e23b-63aaead04158"
   },
   "outputs": [
    {
     "name": "stdout",
     "output_type": "stream",
     "text": [
      "CPU times: total: 5.56 s\n",
      "Wall time: 3.63 s\n"
     ]
    }
   ],
   "source": [
    "from gensim.models.word2vec import Word2Vec\n",
    "%time model_tweets = Word2Vec(sentences, workers=6, vector_size=300, min_count=3, window=5, epochs=30)"
   ]
  },
  {
   "cell_type": "code",
   "execution_count": 9,
   "metadata": {
    "colab": {
     "base_uri": "https://localhost:8080/"
    },
    "executionInfo": {
     "elapsed": 278,
     "status": "ok",
     "timestamp": 1639832703498,
     "user": {
      "displayName": "Татьяна Розитис",
      "photoUrl": "https://lh3.googleusercontent.com/a-/AOh14GhQAtxbsmN0PY09aq0oqLn3JND0vuwIBQFwAwpM=s64",
      "userId": "03558129229986280864"
     },
     "user_tz": -180
    },
    "id": "lmqe5t6BuyiZ",
    "outputId": "5b293043-5ab4-496e-bba6-07509f7336e3"
   },
   "outputs": [
    {
     "data": {
      "text/plain": [
       "[('drug', 0.5828571915626526),\n",
       " ('vaccines', 0.5670225024223328),\n",
       " ('developed', 0.5512670874595642),\n",
       " ('trial', 0.5361182689666748),\n",
       " ('cure', 0.5307860970497131),\n",
       " ('manufacturing', 0.5240650773048401),\n",
       " ('remedy', 0.49537548422813416),\n",
       " ('company', 0.4888715147972107),\n",
       " ('trials', 0.48215413093566895),\n",
       " ('therapeutics', 0.4667731523513794)]"
      ]
     },
     "execution_count": 9,
     "metadata": {},
     "output_type": "execute_result"
    }
   ],
   "source": [
    "model_tweets.wv.most_similar('vaccine')"
   ]
  },
  {
   "cell_type": "code",
   "execution_count": 10,
   "metadata": {
    "id": "H1C2ivBwuyia"
   },
   "outputs": [],
   "source": [
    "model_tweets.wv.fill_norms()\n",
    "#model_tweets.wv.init_sims()"
   ]
  },
  {
   "cell_type": "code",
   "execution_count": 11,
   "metadata": {
    "id": "gegRNK8fuyib"
   },
   "outputs": [],
   "source": [
    "import numpy as np"
   ]
  },
  {
   "cell_type": "code",
   "execution_count": 12,
   "metadata": {
    "id": "9aQM-6_Cuyib"
   },
   "outputs": [],
   "source": [
    "def get_text_embedding(text):\n",
    "    result = []\n",
    "    for word in word_tokenize(text.lower()):\n",
    "        if word in model_tweets.wv:\n",
    "            result.append(model_tweets.wv[word])\n",
    "\n",
    "    if len(result):\n",
    "        result = np.average(result, axis=0)\n",
    "    else:\n",
    "        result = np.zeros(300)\n",
    "    return result"
   ]
  },
  {
   "cell_type": "code",
   "execution_count": 13,
   "metadata": {
    "colab": {
     "base_uri": "https://localhost:8080/"
    },
    "executionInfo": {
     "elapsed": 3046,
     "status": "ok",
     "timestamp": 1639831499111,
     "user": {
      "displayName": "Татьяна Розитис",
      "photoUrl": "https://lh3.googleusercontent.com/a-/AOh14GhQAtxbsmN0PY09aq0oqLn3JND0vuwIBQFwAwpM=s64",
      "userId": "03558129229986280864"
     },
     "user_tz": -180
    },
    "id": "MEXHIkb7uyib",
    "outputId": "ff263567-1beb-482f-dea6-d8376cf4cbd9"
   },
   "outputs": [
    {
     "name": "stderr",
     "output_type": "stream",
     "text": [
      "100%|████████████████████████████████████████████████████████████████████████████| 6420/6420 [00:02<00:00, 3048.64it/s]\n"
     ]
    }
   ],
   "source": [
    "features = [get_text_embedding(text) for text in tqdm(df.tweet)]"
   ]
  },
  {
   "cell_type": "code",
   "execution_count": 14,
   "metadata": {
    "id": "KYWbsK2Duyic"
   },
   "outputs": [],
   "source": [
    "from sklearn.linear_model import LogisticRegression\n",
    "from sklearn.model_selection import train_test_split"
   ]
  },
  {
   "cell_type": "code",
   "execution_count": 15,
   "metadata": {
    "id": "45OhRwtTuyic"
   },
   "outputs": [],
   "source": [
    "X_train, X_test, y_train, y_test = train_test_split(features, df.label, test_size=0.3,  random_state=42)"
   ]
  },
  {
   "cell_type": "code",
   "execution_count": 16,
   "metadata": {
    "colab": {
     "base_uri": "https://localhost:8080/"
    },
    "executionInfo": {
     "elapsed": 11,
     "status": "ok",
     "timestamp": 1639831504148,
     "user": {
      "displayName": "Татьяна Розитис",
      "photoUrl": "https://lh3.googleusercontent.com/a-/AOh14GhQAtxbsmN0PY09aq0oqLn3JND0vuwIBQFwAwpM=s64",
      "userId": "03558129229986280864"
     },
     "user_tz": -180
    },
    "id": "r_JNAMZ2uyic",
    "outputId": "3c74467f-1ab6-48d6-ed63-54b45564ae80"
   },
   "outputs": [
    {
     "data": {
      "text/html": [
       "<style>#sk-container-id-1 {color: black;background-color: white;}#sk-container-id-1 pre{padding: 0;}#sk-container-id-1 div.sk-toggleable {background-color: white;}#sk-container-id-1 label.sk-toggleable__label {cursor: pointer;display: block;width: 100%;margin-bottom: 0;padding: 0.3em;box-sizing: border-box;text-align: center;}#sk-container-id-1 label.sk-toggleable__label-arrow:before {content: \"▸\";float: left;margin-right: 0.25em;color: #696969;}#sk-container-id-1 label.sk-toggleable__label-arrow:hover:before {color: black;}#sk-container-id-1 div.sk-estimator:hover label.sk-toggleable__label-arrow:before {color: black;}#sk-container-id-1 div.sk-toggleable__content {max-height: 0;max-width: 0;overflow: hidden;text-align: left;background-color: #f0f8ff;}#sk-container-id-1 div.sk-toggleable__content pre {margin: 0.2em;color: black;border-radius: 0.25em;background-color: #f0f8ff;}#sk-container-id-1 input.sk-toggleable__control:checked~div.sk-toggleable__content {max-height: 200px;max-width: 100%;overflow: auto;}#sk-container-id-1 input.sk-toggleable__control:checked~label.sk-toggleable__label-arrow:before {content: \"▾\";}#sk-container-id-1 div.sk-estimator input.sk-toggleable__control:checked~label.sk-toggleable__label {background-color: #d4ebff;}#sk-container-id-1 div.sk-label input.sk-toggleable__control:checked~label.sk-toggleable__label {background-color: #d4ebff;}#sk-container-id-1 input.sk-hidden--visually {border: 0;clip: rect(1px 1px 1px 1px);clip: rect(1px, 1px, 1px, 1px);height: 1px;margin: -1px;overflow: hidden;padding: 0;position: absolute;width: 1px;}#sk-container-id-1 div.sk-estimator {font-family: monospace;background-color: #f0f8ff;border: 1px dotted black;border-radius: 0.25em;box-sizing: border-box;margin-bottom: 0.5em;}#sk-container-id-1 div.sk-estimator:hover {background-color: #d4ebff;}#sk-container-id-1 div.sk-parallel-item::after {content: \"\";width: 100%;border-bottom: 1px solid gray;flex-grow: 1;}#sk-container-id-1 div.sk-label:hover label.sk-toggleable__label {background-color: #d4ebff;}#sk-container-id-1 div.sk-serial::before {content: \"\";position: absolute;border-left: 1px solid gray;box-sizing: border-box;top: 0;bottom: 0;left: 50%;z-index: 0;}#sk-container-id-1 div.sk-serial {display: flex;flex-direction: column;align-items: center;background-color: white;padding-right: 0.2em;padding-left: 0.2em;position: relative;}#sk-container-id-1 div.sk-item {position: relative;z-index: 1;}#sk-container-id-1 div.sk-parallel {display: flex;align-items: stretch;justify-content: center;background-color: white;position: relative;}#sk-container-id-1 div.sk-item::before, #sk-container-id-1 div.sk-parallel-item::before {content: \"\";position: absolute;border-left: 1px solid gray;box-sizing: border-box;top: 0;bottom: 0;left: 50%;z-index: -1;}#sk-container-id-1 div.sk-parallel-item {display: flex;flex-direction: column;z-index: 1;position: relative;background-color: white;}#sk-container-id-1 div.sk-parallel-item:first-child::after {align-self: flex-end;width: 50%;}#sk-container-id-1 div.sk-parallel-item:last-child::after {align-self: flex-start;width: 50%;}#sk-container-id-1 div.sk-parallel-item:only-child::after {width: 0;}#sk-container-id-1 div.sk-dashed-wrapped {border: 1px dashed gray;margin: 0 0.4em 0.5em 0.4em;box-sizing: border-box;padding-bottom: 0.4em;background-color: white;}#sk-container-id-1 div.sk-label label {font-family: monospace;font-weight: bold;display: inline-block;line-height: 1.2em;}#sk-container-id-1 div.sk-label-container {text-align: center;}#sk-container-id-1 div.sk-container {/* jupyter's `normalize.less` sets `[hidden] { display: none; }` but bootstrap.min.css set `[hidden] { display: none !important; }` so we also need the `!important` here to be able to override the default hidden behavior on the sphinx rendered scikit-learn.org. See: https://github.com/scikit-learn/scikit-learn/issues/21755 */display: inline-block !important;position: relative;}#sk-container-id-1 div.sk-text-repr-fallback {display: none;}</style><div id=\"sk-container-id-1\" class=\"sk-top-container\"><div class=\"sk-text-repr-fallback\"><pre>LogisticRegression(max_iter=5000)</pre><b>In a Jupyter environment, please rerun this cell to show the HTML representation or trust the notebook. <br />On GitHub, the HTML representation is unable to render, please try loading this page with nbviewer.org.</b></div><div class=\"sk-container\" hidden><div class=\"sk-item\"><div class=\"sk-estimator sk-toggleable\"><input class=\"sk-toggleable__control sk-hidden--visually\" id=\"sk-estimator-id-1\" type=\"checkbox\" checked><label for=\"sk-estimator-id-1\" class=\"sk-toggleable__label sk-toggleable__label-arrow\">LogisticRegression</label><div class=\"sk-toggleable__content\"><pre>LogisticRegression(max_iter=5000)</pre></div></div></div></div></div>"
      ],
      "text/plain": [
       "LogisticRegression(max_iter=5000)"
      ]
     },
     "execution_count": 16,
     "metadata": {},
     "output_type": "execute_result"
    }
   ],
   "source": [
    "model = LogisticRegression(max_iter=5000)\n",
    "model.fit(X_train, y_train)"
   ]
  },
  {
   "cell_type": "code",
   "execution_count": 17,
   "metadata": {
    "id": "mrWxWWhmuyic"
   },
   "outputs": [],
   "source": [
    "from sklearn.metrics import classification_report"
   ]
  },
  {
   "cell_type": "code",
   "execution_count": 18,
   "metadata": {
    "id": "OSBQINBVuyid"
   },
   "outputs": [],
   "source": [
    "predicted = model.predict(X_test)"
   ]
  },
  {
   "cell_type": "code",
   "execution_count": 19,
   "metadata": {
    "colab": {
     "base_uri": "https://localhost:8080/"
    },
    "executionInfo": {
     "elapsed": 259,
     "status": "ok",
     "timestamp": 1639831511683,
     "user": {
      "displayName": "Татьяна Розитис",
      "photoUrl": "https://lh3.googleusercontent.com/a-/AOh14GhQAtxbsmN0PY09aq0oqLn3JND0vuwIBQFwAwpM=s64",
      "userId": "03558129229986280864"
     },
     "user_tz": -180
    },
    "id": "Gh8xvZ-nuyid",
    "outputId": "26d79546-1bb8-4ce9-db16-3158e19e3f1b"
   },
   "outputs": [
    {
     "name": "stdout",
     "output_type": "stream",
     "text": [
      "              precision    recall  f1-score   support\n",
      "\n",
      "        fake       0.93      0.88      0.90       920\n",
      "        real       0.90      0.94      0.92      1006\n",
      "\n",
      "    accuracy                           0.91      1926\n",
      "   macro avg       0.91      0.91      0.91      1926\n",
      "weighted avg       0.91      0.91      0.91      1926\n",
      "\n"
     ]
    }
   ],
   "source": [
    "print(classification_report(y_test, predicted))"
   ]
  },
  {
   "cell_type": "code",
   "execution_count": 20,
   "metadata": {},
   "outputs": [],
   "source": [
    "# f1 выше 0.91 для методов на sklearn"
   ]
  },
  {
   "cell_type": "markdown",
   "metadata": {
    "id": "z5qCQpNduyid"
   },
   "source": [
    "###  Что будет, если использовать самый наивный метод?"
   ]
  },
  {
   "cell_type": "code",
   "execution_count": 21,
   "metadata": {
    "id": "TKLUWP8huyie"
   },
   "outputs": [],
   "source": [
    "from sklearn.feature_extraction.text import CountVectorizer"
   ]
  },
  {
   "cell_type": "code",
   "execution_count": 22,
   "metadata": {
    "id": "EY2CQW0wuyie"
   },
   "outputs": [],
   "source": [
    "vec = CountVectorizer()"
   ]
  },
  {
   "cell_type": "code",
   "execution_count": 23,
   "metadata": {
    "id": "M7CxqeGwuyie"
   },
   "outputs": [],
   "source": [
    "bow = vec.fit_transform(df.tweet)"
   ]
  },
  {
   "cell_type": "code",
   "execution_count": 24,
   "metadata": {
    "colab": {
     "base_uri": "https://localhost:8080/"
    },
    "executionInfo": {
     "elapsed": 778,
     "status": "ok",
     "timestamp": 1639831400923,
     "user": {
      "displayName": "Татьяна Розитис",
      "photoUrl": "https://lh3.googleusercontent.com/a-/AOh14GhQAtxbsmN0PY09aq0oqLn3JND0vuwIBQFwAwpM=s64",
      "userId": "03558129229986280864"
     },
     "user_tz": -180
    },
    "id": "sVzRicjKuyif",
    "outputId": "f5a15cf5-e296-4420-b726-81572a8bcddb"
   },
   "outputs": [
    {
     "data": {
      "text/html": [
       "<style>#sk-container-id-2 {color: black;background-color: white;}#sk-container-id-2 pre{padding: 0;}#sk-container-id-2 div.sk-toggleable {background-color: white;}#sk-container-id-2 label.sk-toggleable__label {cursor: pointer;display: block;width: 100%;margin-bottom: 0;padding: 0.3em;box-sizing: border-box;text-align: center;}#sk-container-id-2 label.sk-toggleable__label-arrow:before {content: \"▸\";float: left;margin-right: 0.25em;color: #696969;}#sk-container-id-2 label.sk-toggleable__label-arrow:hover:before {color: black;}#sk-container-id-2 div.sk-estimator:hover label.sk-toggleable__label-arrow:before {color: black;}#sk-container-id-2 div.sk-toggleable__content {max-height: 0;max-width: 0;overflow: hidden;text-align: left;background-color: #f0f8ff;}#sk-container-id-2 div.sk-toggleable__content pre {margin: 0.2em;color: black;border-radius: 0.25em;background-color: #f0f8ff;}#sk-container-id-2 input.sk-toggleable__control:checked~div.sk-toggleable__content {max-height: 200px;max-width: 100%;overflow: auto;}#sk-container-id-2 input.sk-toggleable__control:checked~label.sk-toggleable__label-arrow:before {content: \"▾\";}#sk-container-id-2 div.sk-estimator input.sk-toggleable__control:checked~label.sk-toggleable__label {background-color: #d4ebff;}#sk-container-id-2 div.sk-label input.sk-toggleable__control:checked~label.sk-toggleable__label {background-color: #d4ebff;}#sk-container-id-2 input.sk-hidden--visually {border: 0;clip: rect(1px 1px 1px 1px);clip: rect(1px, 1px, 1px, 1px);height: 1px;margin: -1px;overflow: hidden;padding: 0;position: absolute;width: 1px;}#sk-container-id-2 div.sk-estimator {font-family: monospace;background-color: #f0f8ff;border: 1px dotted black;border-radius: 0.25em;box-sizing: border-box;margin-bottom: 0.5em;}#sk-container-id-2 div.sk-estimator:hover {background-color: #d4ebff;}#sk-container-id-2 div.sk-parallel-item::after {content: \"\";width: 100%;border-bottom: 1px solid gray;flex-grow: 1;}#sk-container-id-2 div.sk-label:hover label.sk-toggleable__label {background-color: #d4ebff;}#sk-container-id-2 div.sk-serial::before {content: \"\";position: absolute;border-left: 1px solid gray;box-sizing: border-box;top: 0;bottom: 0;left: 50%;z-index: 0;}#sk-container-id-2 div.sk-serial {display: flex;flex-direction: column;align-items: center;background-color: white;padding-right: 0.2em;padding-left: 0.2em;position: relative;}#sk-container-id-2 div.sk-item {position: relative;z-index: 1;}#sk-container-id-2 div.sk-parallel {display: flex;align-items: stretch;justify-content: center;background-color: white;position: relative;}#sk-container-id-2 div.sk-item::before, #sk-container-id-2 div.sk-parallel-item::before {content: \"\";position: absolute;border-left: 1px solid gray;box-sizing: border-box;top: 0;bottom: 0;left: 50%;z-index: -1;}#sk-container-id-2 div.sk-parallel-item {display: flex;flex-direction: column;z-index: 1;position: relative;background-color: white;}#sk-container-id-2 div.sk-parallel-item:first-child::after {align-self: flex-end;width: 50%;}#sk-container-id-2 div.sk-parallel-item:last-child::after {align-self: flex-start;width: 50%;}#sk-container-id-2 div.sk-parallel-item:only-child::after {width: 0;}#sk-container-id-2 div.sk-dashed-wrapped {border: 1px dashed gray;margin: 0 0.4em 0.5em 0.4em;box-sizing: border-box;padding-bottom: 0.4em;background-color: white;}#sk-container-id-2 div.sk-label label {font-family: monospace;font-weight: bold;display: inline-block;line-height: 1.2em;}#sk-container-id-2 div.sk-label-container {text-align: center;}#sk-container-id-2 div.sk-container {/* jupyter's `normalize.less` sets `[hidden] { display: none; }` but bootstrap.min.css set `[hidden] { display: none !important; }` so we also need the `!important` here to be able to override the default hidden behavior on the sphinx rendered scikit-learn.org. See: https://github.com/scikit-learn/scikit-learn/issues/21755 */display: inline-block !important;position: relative;}#sk-container-id-2 div.sk-text-repr-fallback {display: none;}</style><div id=\"sk-container-id-2\" class=\"sk-top-container\"><div class=\"sk-text-repr-fallback\"><pre>LogisticRegression(max_iter=5000)</pre><b>In a Jupyter environment, please rerun this cell to show the HTML representation or trust the notebook. <br />On GitHub, the HTML representation is unable to render, please try loading this page with nbviewer.org.</b></div><div class=\"sk-container\" hidden><div class=\"sk-item\"><div class=\"sk-estimator sk-toggleable\"><input class=\"sk-toggleable__control sk-hidden--visually\" id=\"sk-estimator-id-2\" type=\"checkbox\" checked><label for=\"sk-estimator-id-2\" class=\"sk-toggleable__label sk-toggleable__label-arrow\">LogisticRegression</label><div class=\"sk-toggleable__content\"><pre>LogisticRegression(max_iter=5000)</pre></div></div></div></div></div>"
      ],
      "text/plain": [
       "LogisticRegression(max_iter=5000)"
      ]
     },
     "execution_count": 24,
     "metadata": {},
     "output_type": "execute_result"
    }
   ],
   "source": [
    "X_train, X_test, y_train, y_test = train_test_split(bow, df.label, test_size=0.3, random_state=42)\n",
    "model = LogisticRegression(max_iter=5000)\n",
    "model.fit(X_train, y_train)"
   ]
  },
  {
   "cell_type": "code",
   "execution_count": 25,
   "metadata": {
    "colab": {
     "base_uri": "https://localhost:8080/"
    },
    "executionInfo": {
     "elapsed": 471,
     "status": "ok",
     "timestamp": 1639831403914,
     "user": {
      "displayName": "Татьяна Розитис",
      "photoUrl": "https://lh3.googleusercontent.com/a-/AOh14GhQAtxbsmN0PY09aq0oqLn3JND0vuwIBQFwAwpM=s64",
      "userId": "03558129229986280864"
     },
     "user_tz": -180
    },
    "id": "xMowWWtnuyif",
    "outputId": "bd9df8b7-1089-4231-b709-e88eb87b8155"
   },
   "outputs": [
    {
     "name": "stdout",
     "output_type": "stream",
     "text": [
      "              precision    recall  f1-score   support\n",
      "\n",
      "        fake       0.91      0.93      0.92       920\n",
      "        real       0.93      0.92      0.92      1006\n",
      "\n",
      "    accuracy                           0.92      1926\n",
      "   macro avg       0.92      0.92      0.92      1926\n",
      "weighted avg       0.92      0.92      0.92      1926\n",
      "\n"
     ]
    }
   ],
   "source": [
    "predicted = model.predict(X_test)\n",
    "print(classification_report(y_test, predicted))"
   ]
  },
  {
   "cell_type": "code",
   "execution_count": 26,
   "metadata": {},
   "outputs": [],
   "source": [
    "# f1 выше 0.91 для методов на sklearn"
   ]
  },
  {
   "cell_type": "code",
   "execution_count": 27,
   "metadata": {},
   "outputs": [],
   "source": [
    "#попробуем векторизатор Tf-Idf с параметрами по умолчанию\n",
    "from sklearn.feature_extraction.text import TfidfVectorizer\n",
    "tfidf = TfidfVectorizer()"
   ]
  },
  {
   "cell_type": "code",
   "execution_count": null,
   "metadata": {},
   "outputs": [],
   "source": []
  },
  {
   "cell_type": "code",
   "execution_count": 28,
   "metadata": {},
   "outputs": [],
   "source": [
    "bow = tfidf.fit_transform(df.tweet)"
   ]
  },
  {
   "cell_type": "code",
   "execution_count": 29,
   "metadata": {},
   "outputs": [
    {
     "data": {
      "text/html": [
       "<style>#sk-container-id-3 {color: black;background-color: white;}#sk-container-id-3 pre{padding: 0;}#sk-container-id-3 div.sk-toggleable {background-color: white;}#sk-container-id-3 label.sk-toggleable__label {cursor: pointer;display: block;width: 100%;margin-bottom: 0;padding: 0.3em;box-sizing: border-box;text-align: center;}#sk-container-id-3 label.sk-toggleable__label-arrow:before {content: \"▸\";float: left;margin-right: 0.25em;color: #696969;}#sk-container-id-3 label.sk-toggleable__label-arrow:hover:before {color: black;}#sk-container-id-3 div.sk-estimator:hover label.sk-toggleable__label-arrow:before {color: black;}#sk-container-id-3 div.sk-toggleable__content {max-height: 0;max-width: 0;overflow: hidden;text-align: left;background-color: #f0f8ff;}#sk-container-id-3 div.sk-toggleable__content pre {margin: 0.2em;color: black;border-radius: 0.25em;background-color: #f0f8ff;}#sk-container-id-3 input.sk-toggleable__control:checked~div.sk-toggleable__content {max-height: 200px;max-width: 100%;overflow: auto;}#sk-container-id-3 input.sk-toggleable__control:checked~label.sk-toggleable__label-arrow:before {content: \"▾\";}#sk-container-id-3 div.sk-estimator input.sk-toggleable__control:checked~label.sk-toggleable__label {background-color: #d4ebff;}#sk-container-id-3 div.sk-label input.sk-toggleable__control:checked~label.sk-toggleable__label {background-color: #d4ebff;}#sk-container-id-3 input.sk-hidden--visually {border: 0;clip: rect(1px 1px 1px 1px);clip: rect(1px, 1px, 1px, 1px);height: 1px;margin: -1px;overflow: hidden;padding: 0;position: absolute;width: 1px;}#sk-container-id-3 div.sk-estimator {font-family: monospace;background-color: #f0f8ff;border: 1px dotted black;border-radius: 0.25em;box-sizing: border-box;margin-bottom: 0.5em;}#sk-container-id-3 div.sk-estimator:hover {background-color: #d4ebff;}#sk-container-id-3 div.sk-parallel-item::after {content: \"\";width: 100%;border-bottom: 1px solid gray;flex-grow: 1;}#sk-container-id-3 div.sk-label:hover label.sk-toggleable__label {background-color: #d4ebff;}#sk-container-id-3 div.sk-serial::before {content: \"\";position: absolute;border-left: 1px solid gray;box-sizing: border-box;top: 0;bottom: 0;left: 50%;z-index: 0;}#sk-container-id-3 div.sk-serial {display: flex;flex-direction: column;align-items: center;background-color: white;padding-right: 0.2em;padding-left: 0.2em;position: relative;}#sk-container-id-3 div.sk-item {position: relative;z-index: 1;}#sk-container-id-3 div.sk-parallel {display: flex;align-items: stretch;justify-content: center;background-color: white;position: relative;}#sk-container-id-3 div.sk-item::before, #sk-container-id-3 div.sk-parallel-item::before {content: \"\";position: absolute;border-left: 1px solid gray;box-sizing: border-box;top: 0;bottom: 0;left: 50%;z-index: -1;}#sk-container-id-3 div.sk-parallel-item {display: flex;flex-direction: column;z-index: 1;position: relative;background-color: white;}#sk-container-id-3 div.sk-parallel-item:first-child::after {align-self: flex-end;width: 50%;}#sk-container-id-3 div.sk-parallel-item:last-child::after {align-self: flex-start;width: 50%;}#sk-container-id-3 div.sk-parallel-item:only-child::after {width: 0;}#sk-container-id-3 div.sk-dashed-wrapped {border: 1px dashed gray;margin: 0 0.4em 0.5em 0.4em;box-sizing: border-box;padding-bottom: 0.4em;background-color: white;}#sk-container-id-3 div.sk-label label {font-family: monospace;font-weight: bold;display: inline-block;line-height: 1.2em;}#sk-container-id-3 div.sk-label-container {text-align: center;}#sk-container-id-3 div.sk-container {/* jupyter's `normalize.less` sets `[hidden] { display: none; }` but bootstrap.min.css set `[hidden] { display: none !important; }` so we also need the `!important` here to be able to override the default hidden behavior on the sphinx rendered scikit-learn.org. See: https://github.com/scikit-learn/scikit-learn/issues/21755 */display: inline-block !important;position: relative;}#sk-container-id-3 div.sk-text-repr-fallback {display: none;}</style><div id=\"sk-container-id-3\" class=\"sk-top-container\"><div class=\"sk-text-repr-fallback\"><pre>LogisticRegression(max_iter=5000)</pre><b>In a Jupyter environment, please rerun this cell to show the HTML representation or trust the notebook. <br />On GitHub, the HTML representation is unable to render, please try loading this page with nbviewer.org.</b></div><div class=\"sk-container\" hidden><div class=\"sk-item\"><div class=\"sk-estimator sk-toggleable\"><input class=\"sk-toggleable__control sk-hidden--visually\" id=\"sk-estimator-id-3\" type=\"checkbox\" checked><label for=\"sk-estimator-id-3\" class=\"sk-toggleable__label sk-toggleable__label-arrow\">LogisticRegression</label><div class=\"sk-toggleable__content\"><pre>LogisticRegression(max_iter=5000)</pre></div></div></div></div></div>"
      ],
      "text/plain": [
       "LogisticRegression(max_iter=5000)"
      ]
     },
     "execution_count": 29,
     "metadata": {},
     "output_type": "execute_result"
    }
   ],
   "source": [
    "X_train, X_test, y_train, y_test = train_test_split(bow, df.label, test_size=0.3, random_state=42)\n",
    "model = LogisticRegression(max_iter=5000)\n",
    "model.fit(X_train, y_train)"
   ]
  },
  {
   "cell_type": "code",
   "execution_count": 30,
   "metadata": {},
   "outputs": [
    {
     "name": "stdout",
     "output_type": "stream",
     "text": [
      "              precision    recall  f1-score   support\n",
      "\n",
      "        fake       0.90      0.93      0.92       920\n",
      "        real       0.94      0.91      0.92      1006\n",
      "\n",
      "    accuracy                           0.92      1926\n",
      "   macro avg       0.92      0.92      0.92      1926\n",
      "weighted avg       0.92      0.92      0.92      1926\n",
      "\n"
     ]
    }
   ],
   "source": [
    "predicted = model.predict(X_test)\n",
    "print(classification_report(y_test, predicted))"
   ]
  },
  {
   "cell_type": "code",
   "execution_count": 31,
   "metadata": {},
   "outputs": [],
   "source": [
    "# метрика f1-score осталась прежней 0.92"
   ]
  },
  {
   "cell_type": "markdown",
   "metadata": {
    "id": "T6qOclJPuyif"
   },
   "source": [
    "### PyTorch + LSTM"
   ]
  },
  {
   "cell_type": "code",
   "execution_count": 32,
   "metadata": {
    "id": "wHDxqZnTuyif"
   },
   "outputs": [],
   "source": [
    "labels = (df.label == 'real').astype(int).to_list()"
   ]
  },
  {
   "cell_type": "markdown",
   "metadata": {
    "id": "7fUz2OKauyif"
   },
   "source": [
    "Нужно заранее задать размер для макксимальной длины предложений."
   ]
  },
  {
   "cell_type": "code",
   "execution_count": 33,
   "metadata": {
    "id": "8BkQTxbMuyig"
   },
   "outputs": [],
   "source": [
    "token_lists = [word_tokenize(text.lower()) for text in df.tweet]\n",
    "max_len = len(max(token_lists, key=len))"
   ]
  },
  {
   "cell_type": "code",
   "execution_count": 34,
   "metadata": {
    "colab": {
     "base_uri": "https://localhost:8080/"
    },
    "executionInfo": {
     "elapsed": 7,
     "status": "ok",
     "timestamp": 1639832662258,
     "user": {
      "displayName": "Татьяна Розитис",
      "photoUrl": "https://lh3.googleusercontent.com/a-/AOh14GhQAtxbsmN0PY09aq0oqLn3JND0vuwIBQFwAwpM=s64",
      "userId": "03558129229986280864"
     },
     "user_tz": -180
    },
    "id": "125Q6tQhuyig",
    "outputId": "af8d1103-7e6f-44bd-834f-d1d9435f90e6"
   },
   "outputs": [
    {
     "data": {
      "text/plain": [
       "1592"
      ]
     },
     "execution_count": 34,
     "metadata": {},
     "output_type": "execute_result"
    }
   ],
   "source": [
    "max_len"
   ]
  },
  {
   "cell_type": "markdown",
   "metadata": {
    "id": "0HUNPzqWuyig"
   },
   "source": [
    "Это слишком много. Но какая длина обычно?"
   ]
  },
  {
   "cell_type": "code",
   "execution_count": 35,
   "metadata": {
    "id": "4TQVd6Fruyig"
   },
   "outputs": [],
   "source": [
    "from collections import Counter\n",
    "fd = Counter([len(tokens) for tokens in token_lists])"
   ]
  },
  {
   "cell_type": "code",
   "execution_count": 36,
   "metadata": {
    "colab": {
     "base_uri": "https://localhost:8080/"
    },
    "executionInfo": {
     "elapsed": 9,
     "status": "ok",
     "timestamp": 1639832665664,
     "user": {
      "displayName": "Татьяна Розитис",
      "photoUrl": "https://lh3.googleusercontent.com/a-/AOh14GhQAtxbsmN0PY09aq0oqLn3JND0vuwIBQFwAwpM=s64",
      "userId": "03558129229986280864"
     },
     "user_tz": -180
    },
    "id": "CycieWjbuyih",
    "outputId": "f1e7625c-3fa4-49f1-c62f-1c57e4065576"
   },
   "outputs": [
    {
     "data": {
      "text/plain": [
       "[(20, 178),\n",
       " (25, 174),\n",
       " (22, 170),\n",
       " (18, 170),\n",
       " (19, 168),\n",
       " (21, 168),\n",
       " (16, 163),\n",
       " (17, 162),\n",
       " (15, 160),\n",
       " (23, 156)]"
      ]
     },
     "execution_count": 36,
     "metadata": {},
     "output_type": "execute_result"
    }
   ],
   "source": [
    "fd.most_common(10)"
   ]
  },
  {
   "cell_type": "markdown",
   "metadata": {
    "id": "3LNWZldVuyih"
   },
   "source": [
    "Зададим максимум 300."
   ]
  },
  {
   "cell_type": "markdown",
   "metadata": {
    "id": "FxPTNDQ0uyii"
   },
   "source": [
    "Возьмём те же w2v эмбеддинги."
   ]
  },
  {
   "cell_type": "code",
   "execution_count": 37,
   "metadata": {
    "executionInfo": {
     "elapsed": 241,
     "status": "ok",
     "timestamp": 1639835944261,
     "user": {
      "displayName": "Татьяна Розитис",
      "photoUrl": "https://lh3.googleusercontent.com/a-/AOh14GhQAtxbsmN0PY09aq0oqLn3JND0vuwIBQFwAwpM=s64",
      "userId": "03558129229986280864"
     },
     "user_tz": -180
    },
    "id": "cNOPWCq1uyii"
   },
   "outputs": [],
   "source": [
    "def get_word_embedding(tokens, max_len):\n",
    "    result = []\n",
    "    for i in range(max_len):\n",
    "        if i < len(tokens):\n",
    "            word = tokens[i]\n",
    "            if word in model_tweets.wv:\n",
    "                result.append(model_tweets.wv[word])\n",
    "            else:\n",
    "                result.append(np.zeros(300))\n",
    "        else:\n",
    "            result.append(np.zeros(300))\n",
    "    return result"
   ]
  },
  {
   "cell_type": "code",
   "execution_count": 38,
   "metadata": {
    "colab": {
     "base_uri": "https://localhost:8080/"
    },
    "executionInfo": {
     "elapsed": 1998,
     "status": "ok",
     "timestamp": 1639835947286,
     "user": {
      "displayName": "Татьяна Розитис",
      "photoUrl": "https://lh3.googleusercontent.com/a-/AOh14GhQAtxbsmN0PY09aq0oqLn3JND0vuwIBQFwAwpM=s64",
      "userId": "03558129229986280864"
     },
     "user_tz": -180
    },
    "id": "tBkyQdORuyii",
    "outputId": "8d917331-01bd-4f12-83a4-733ef55bceb4"
   },
   "outputs": [
    {
     "name": "stderr",
     "output_type": "stream",
     "text": [
      "100%|████████████████████████████████████████████████████████████████████████████| 6420/6420 [00:02<00:00, 2183.04it/s]\n"
     ]
    }
   ],
   "source": [
    "features = [get_word_embedding(text, 300) for text in tqdm(token_lists)]"
   ]
  },
  {
   "cell_type": "code",
   "execution_count": null,
   "metadata": {
    "id": "qtvbPfmelvnE"
   },
   "outputs": [],
   "source": []
  },
  {
   "cell_type": "code",
   "execution_count": 39,
   "metadata": {
    "executionInfo": {
     "elapsed": 246,
     "status": "ok",
     "timestamp": 1639835949418,
     "user": {
      "displayName": "Татьяна Розитис",
      "photoUrl": "https://lh3.googleusercontent.com/a-/AOh14GhQAtxbsmN0PY09aq0oqLn3JND0vuwIBQFwAwpM=s64",
      "userId": "03558129229986280864"
     },
     "user_tz": -180
    },
    "id": "DXHLD6eKuyij"
   },
   "outputs": [],
   "source": [
    "import torch\n",
    "import torch.nn as nn\n",
    "import torch.optim as optim"
   ]
  },
  {
   "cell_type": "code",
   "execution_count": 40,
   "metadata": {
    "colab": {
     "base_uri": "https://localhost:8080/"
    },
    "executionInfo": {
     "elapsed": 5,
     "status": "ok",
     "timestamp": 1639835976869,
     "user": {
      "displayName": "Татьяна Розитис",
      "photoUrl": "https://lh3.googleusercontent.com/a-/AOh14GhQAtxbsmN0PY09aq0oqLn3JND0vuwIBQFwAwpM=s64",
      "userId": "03558129229986280864"
     },
     "user_tz": -180
    },
    "id": "J-N2gN0xuyij",
    "outputId": "beb41425-b75f-48ab-fd61-b5d2dac35212"
   },
   "outputs": [
    {
     "name": "stdout",
     "output_type": "stream",
     "text": [
      "Net(\n",
      "  (lstm): LSTM(300, 100)\n",
      "  (out): Linear(in_features=100, out_features=1, bias=True)\n",
      ")\n"
     ]
    }
   ],
   "source": [
    "class Net(nn.Module):\n",
    "\n",
    "    def __init__(self):\n",
    "        super(Net, self).__init__()\n",
    "        self.lstm = nn.LSTM(300, 100)\n",
    "        self.out = nn.Linear(100, 1)\n",
    "\n",
    "    def forward(self, x):\n",
    "        embeddings, (shortterm, longterm) = self.lstm(x.transpose(0, 1))\n",
    "        prediction = torch.sigmoid(self.out(longterm))\n",
    "        return prediction\n",
    "\n",
    "\n",
    "net = Net()\n",
    "#net.cuda()\n",
    "print(net)"
   ]
  },
  {
   "cell_type": "code",
   "execution_count": 41,
   "metadata": {
    "executionInfo": {
     "elapsed": 5,
     "status": "ok",
     "timestamp": 1639835976870,
     "user": {
      "displayName": "Татьяна Розитис",
      "photoUrl": "https://lh3.googleusercontent.com/a-/AOh14GhQAtxbsmN0PY09aq0oqLn3JND0vuwIBQFwAwpM=s64",
      "userId": "03558129229986280864"
     },
     "user_tz": -180
    },
    "id": "36Xy0m9Amv_T"
   },
   "outputs": [],
   "source": [
    "X_train, X_test, y_train, y_test = train_test_split(features, labels, test_size=0.25, random_state = 42)"
   ]
  },
  {
   "cell_type": "code",
   "execution_count": 42,
   "metadata": {
    "executionInfo": {
     "elapsed": 22888,
     "status": "ok",
     "timestamp": 1639835976303,
     "user": {
      "displayName": "Татьяна Розитис",
      "photoUrl": "https://lh3.googleusercontent.com/a-/AOh14GhQAtxbsmN0PY09aq0oqLn3JND0vuwIBQFwAwpM=s64",
      "userId": "03558129229986280864"
     },
     "user_tz": -180
    },
    "id": "cOjKyQdnuyij"
   },
   "outputs": [
    {
     "name": "stderr",
     "output_type": "stream",
     "text": [
      "C:\\Users\\yuril\\AppData\\Local\\Temp\\ipykernel_21344\\2606355789.py:1: UserWarning: Creating a tensor from a list of numpy.ndarrays is extremely slow. Please consider converting the list to a single numpy.ndarray with numpy.array() before converting to a tensor. (Triggered internally at ..\\torch\\csrc\\utils\\tensor_new.cpp:278.)\n",
      "  in_data = torch.tensor(X_train).float()\n"
     ]
    }
   ],
   "source": [
    "in_data = torch.tensor(X_train).float()\n",
    "targets = torch.tensor(y_train).float()"
   ]
  },
  {
   "cell_type": "code",
   "execution_count": 43,
   "metadata": {
    "colab": {
     "base_uri": "https://localhost:8080/"
    },
    "executionInfo": {
     "elapsed": 14,
     "status": "ok",
     "timestamp": 1639835976305,
     "user": {
      "displayName": "Татьяна Розитис",
      "photoUrl": "https://lh3.googleusercontent.com/a-/AOh14GhQAtxbsmN0PY09aq0oqLn3JND0vuwIBQFwAwpM=s64",
      "userId": "03558129229986280864"
     },
     "user_tz": -180
    },
    "id": "Surg_PcQuyij",
    "outputId": "fce8694f-fbb1-4fdc-9d53-aa6464d38784"
   },
   "outputs": [
    {
     "data": {
      "text/plain": [
       "torch.Size([4815, 300, 300])"
      ]
     },
     "execution_count": 43,
     "metadata": {},
     "output_type": "execute_result"
    }
   ],
   "source": [
    "in_data.shape"
   ]
  },
  {
   "cell_type": "code",
   "execution_count": 44,
   "metadata": {
    "executionInfo": {
     "elapsed": 7,
     "status": "ok",
     "timestamp": 1639835977147,
     "user": {
      "displayName": "Татьяна Розитис",
      "photoUrl": "https://lh3.googleusercontent.com/a-/AOh14GhQAtxbsmN0PY09aq0oqLn3JND0vuwIBQFwAwpM=s64",
      "userId": "03558129229986280864"
     },
     "user_tz": -180
    },
    "id": "dQ8WQFlnuyik"
   },
   "outputs": [],
   "source": [
    "optimizer = optim.SGD(net.parameters(), lr=0.01)\n",
    "criterion = nn.BCELoss()"
   ]
  },
  {
   "cell_type": "code",
   "execution_count": 45,
   "metadata": {
    "executionInfo": {
     "elapsed": 7,
     "status": "ok",
     "timestamp": 1639835977148,
     "user": {
      "displayName": "Татьяна Розитис",
      "photoUrl": "https://lh3.googleusercontent.com/a-/AOh14GhQAtxbsmN0PY09aq0oqLn3JND0vuwIBQFwAwpM=s64",
      "userId": "03558129229986280864"
     },
     "user_tz": -180
    },
    "id": "ujjn4KVIuyik"
   },
   "outputs": [],
   "source": [
    "def train_one_epoch(in_data, targets, batch_size=16):\n",
    "    for i in tqdm(range(0, in_data.shape[0], batch_size)):\n",
    "#        batch_x = in_data[i:i + batch_size].cuda()\n",
    "#        batch_y = targets[i:i + batch_size].cuda()\n",
    "        batch_x = in_data[i:i + batch_size]\n",
    "        batch_y = targets[i:i + batch_size]\n",
    "        optimizer.zero_grad()\n",
    "        output = net(batch_x)\n",
    "        loss = criterion(output.reshape(-1), batch_y)\n",
    "        loss.backward()\n",
    "        optimizer.step()\n",
    "    print(loss)"
   ]
  },
  {
   "cell_type": "code",
   "execution_count": 46,
   "metadata": {},
   "outputs": [
    {
     "name": "stderr",
     "output_type": "stream",
     "text": [
      "100%|████████████████████████████████████████████████████████████████████████████████| 301/301 [00:10<00:00, 27.80it/s]"
     ]
    },
    {
     "name": "stdout",
     "output_type": "stream",
     "text": [
      "tensor(0.6880, grad_fn=<BinaryCrossEntropyBackward0>)\n"
     ]
    },
    {
     "name": "stderr",
     "output_type": "stream",
     "text": [
      "\n"
     ]
    }
   ],
   "source": [
    "train_one_epoch(in_data, targets)"
   ]
  },
  {
   "cell_type": "markdown",
   "metadata": {
    "id": "pna8zQLluyil"
   },
   "source": [
    "Что получилось?"
   ]
  },
  {
   "cell_type": "code",
   "execution_count": 47,
   "metadata": {
    "executionInfo": {
     "elapsed": 13,
     "status": "ok",
     "timestamp": 1639836168924,
     "user": {
      "displayName": "Татьяна Розитис",
      "photoUrl": "https://lh3.googleusercontent.com/a-/AOh14GhQAtxbsmN0PY09aq0oqLn3JND0vuwIBQFwAwpM=s64",
      "userId": "03558129229986280864"
     },
     "user_tz": -180
    },
    "id": "CQGiiAiLuyil"
   },
   "outputs": [],
   "source": [
    "in_data_test = torch.tensor(X_test).float()\n",
    "targets_test = torch.tensor(y_test).float()"
   ]
  },
  {
   "cell_type": "code",
   "execution_count": 48,
   "metadata": {
    "executionInfo": {
     "elapsed": 13,
     "status": "ok",
     "timestamp": 1639836168925,
     "user": {
      "displayName": "Татьяна Розитис",
      "photoUrl": "https://lh3.googleusercontent.com/a-/AOh14GhQAtxbsmN0PY09aq0oqLn3JND0vuwIBQFwAwpM=s64",
      "userId": "03558129229986280864"
     },
     "user_tz": -180
    },
    "id": "9VuVw4uUuyil"
   },
   "outputs": [],
   "source": [
    "with torch.no_grad():\n",
    "    output = net(in_data_test).reshape(-1)"
   ]
  },
  {
   "cell_type": "code",
   "execution_count": 49,
   "metadata": {
    "colab": {
     "base_uri": "https://localhost:8080/"
    },
    "executionInfo": {
     "elapsed": 8,
     "status": "ok",
     "timestamp": 1639833993032,
     "user": {
      "displayName": "Татьяна Розитис",
      "photoUrl": "https://lh3.googleusercontent.com/a-/AOh14GhQAtxbsmN0PY09aq0oqLn3JND0vuwIBQFwAwpM=s64",
      "userId": "03558129229986280864"
     },
     "user_tz": -180
    },
    "id": "NWvSy0lnr3B4",
    "outputId": "f83db4e8-5308-418b-972c-dd527398f0c8"
   },
   "outputs": [
    {
     "name": "stderr",
     "output_type": "stream",
     "text": [
      "C:\\Users\\yuril\\AppData\\Local\\Temp\\ipykernel_21344\\3603612712.py:1: UserWarning: Implicit dimension choice for softmax has been deprecated. Change the call to include dim=X as an argument.\n",
      "  max(torch.nn.functional.softmax(output))\n"
     ]
    },
    {
     "data": {
      "text/plain": [
       "tensor(0.0007)"
      ]
     },
     "execution_count": 49,
     "metadata": {},
     "output_type": "execute_result"
    }
   ],
   "source": [
    "max(torch.nn.functional.softmax(output))"
   ]
  },
  {
   "cell_type": "code",
   "execution_count": 50,
   "metadata": {
    "colab": {
     "base_uri": "https://localhost:8080/"
    },
    "executionInfo": {
     "elapsed": 225,
     "status": "ok",
     "timestamp": 1639833995044,
     "user": {
      "displayName": "Татьяна Розитис",
      "photoUrl": "https://lh3.googleusercontent.com/a-/AOh14GhQAtxbsmN0PY09aq0oqLn3JND0vuwIBQFwAwpM=s64",
      "userId": "03558129229986280864"
     },
     "user_tz": -180
    },
    "id": "yLXBZI47tn8w",
    "outputId": "61549d1d-702f-49a0-fce7-6705f88664e6"
   },
   "outputs": [
    {
     "data": {
      "text/plain": [
       "tensor([0., 1., 1.,  ..., 0., 1., 0.])"
      ]
     },
     "execution_count": 50,
     "metadata": {},
     "output_type": "execute_result"
    }
   ],
   "source": [
    "targets_test"
   ]
  },
  {
   "cell_type": "code",
   "execution_count": 51,
   "metadata": {
    "executionInfo": {
     "elapsed": 12,
     "status": "ok",
     "timestamp": 1639836168925,
     "user": {
      "displayName": "Татьяна Розитис",
      "photoUrl": "https://lh3.googleusercontent.com/a-/AOh14GhQAtxbsmN0PY09aq0oqLn3JND0vuwIBQFwAwpM=s64",
      "userId": "03558129229986280864"
     },
     "user_tz": -180
    },
    "id": "cJxlSn2buyil"
   },
   "outputs": [],
   "source": [
    "result = (output.cpu() > 0.5) == targets_test"
   ]
  },
  {
   "cell_type": "code",
   "execution_count": 52,
   "metadata": {
    "colab": {
     "base_uri": "https://localhost:8080/"
    },
    "executionInfo": {
     "elapsed": 13,
     "status": "ok",
     "timestamp": 1639836168926,
     "user": {
      "displayName": "Татьяна Розитис",
      "photoUrl": "https://lh3.googleusercontent.com/a-/AOh14GhQAtxbsmN0PY09aq0oqLn3JND0vuwIBQFwAwpM=s64",
      "userId": "03558129229986280864"
     },
     "user_tz": -180
    },
    "id": "JTYoH6Xpuyil",
    "outputId": "ff842eba-05e8-4f88-cda1-93ce3680b873"
   },
   "outputs": [
    {
     "data": {
      "text/plain": [
       "0.5214953271028038"
      ]
     },
     "execution_count": 52,
     "metadata": {},
     "output_type": "execute_result"
    }
   ],
   "source": [
    "result.sum().item() / len(result)"
   ]
  },
  {
   "cell_type": "code",
   "execution_count": 53,
   "metadata": {
    "id": "NRYTS_Z10zdK"
   },
   "outputs": [],
   "source": [
    "# f1-score  0.5214"
   ]
  },
  {
   "cell_type": "code",
   "execution_count": 54,
   "metadata": {},
   "outputs": [],
   "source": [
    "optimizer = optim.Adam(net.parameters(), lr=0.001)\n",
    "criterion = nn.MSELoss()"
   ]
  },
  {
   "cell_type": "code",
   "execution_count": 55,
   "metadata": {},
   "outputs": [
    {
     "name": "stderr",
     "output_type": "stream",
     "text": [
      "100%|████████████████████████████████████████████████████████████████████████████████| 301/301 [00:11<00:00, 26.09it/s]"
     ]
    },
    {
     "name": "stdout",
     "output_type": "stream",
     "text": [
      "tensor(0.2496, grad_fn=<MseLossBackward0>)\n"
     ]
    },
    {
     "name": "stderr",
     "output_type": "stream",
     "text": [
      "\n"
     ]
    }
   ],
   "source": [
    "train_one_epoch(in_data, targets)"
   ]
  },
  {
   "cell_type": "code",
   "execution_count": 56,
   "metadata": {},
   "outputs": [],
   "source": [
    "in_data_test = torch.tensor(X_test).float()\n",
    "targets_test = torch.tensor(y_test).float()\n",
    "with torch.no_grad():\n",
    "    output = net(in_data_test).reshape(-1)"
   ]
  },
  {
   "cell_type": "code",
   "execution_count": 57,
   "metadata": {},
   "outputs": [],
   "source": [
    "result = (output > 0.5) == targets_test"
   ]
  },
  {
   "cell_type": "code",
   "execution_count": 58,
   "metadata": {},
   "outputs": [
    {
     "data": {
      "text/plain": [
       "0.5221183800623053"
      ]
     },
     "execution_count": 58,
     "metadata": {},
     "output_type": "execute_result"
    }
   ],
   "source": [
    "result.sum().item() / len(result)"
   ]
  },
  {
   "cell_type": "code",
   "execution_count": 59,
   "metadata": {},
   "outputs": [],
   "source": [
    "# f1-score 0.5221"
   ]
  }
 ],
 "metadata": {
  "accelerator": "GPU",
  "colab": {
   "collapsed_sections": [],
   "name": "Классификация в NLP.ipynb",
   "provenance": []
  },
  "kernelspec": {
   "display_name": "Python 3 (ipykernel)",
   "language": "python",
   "name": "python3"
  },
  "language_info": {
   "codemirror_mode": {
    "name": "ipython",
    "version": 3
   },
   "file_extension": ".py",
   "mimetype": "text/x-python",
   "name": "python",
   "nbconvert_exporter": "python",
   "pygments_lexer": "ipython3",
   "version": "3.11.8"
  }
 },
 "nbformat": 4,
 "nbformat_minor": 4
}
