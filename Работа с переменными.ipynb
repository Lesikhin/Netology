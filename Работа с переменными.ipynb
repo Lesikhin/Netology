{
 "cells": [
  {
   "cell_type": "markdown",
   "id": "4690ea74",
   "metadata": {},
   "source": [
    "В домашнем задании нужно улучшить метрики RMSE, R2 модели линейной регрессии путем работы с данными, а именно проведения разведочного анализа данных. В качестве датасета необходимо загрузить данные о недвижимости Калифорнии из библиотеки sklearn.datasets. Целевая переменная – MedHouseVal. Прочитать информацию о признаках датасета можно, выполнив следующий код – print(fetch_california_housing().DESCR)"
   ]
  },
  {
   "cell_type": "markdown",
   "id": "75837bd0",
   "metadata": {},
   "source": [
    "Получите данные и загрузите их в рабочую среду. (Jupyter Notebook или другую)"
   ]
  },
  {
   "cell_type": "code",
   "execution_count": 1,
   "id": "06f9f513",
   "metadata": {},
   "outputs": [],
   "source": [
    "import pandas as pd\n",
    "import numpy as np\n",
    "import seaborn as sns\n",
    "from matplotlib import pyplot as plt\n",
    "from sklearn.linear_model import LinearRegression\n",
    "from sklearn.model_selection import train_test_split\n",
    "from sklearn import datasets\n",
    "from sklearn.metrics import mean_squared_error\n",
    "from sklearn.metrics import r2_score"
   ]
  },
  {
   "cell_type": "code",
   "execution_count": 2,
   "id": "51c63ebf",
   "metadata": {},
   "outputs": [],
   "source": [
    "data = datasets.fetch_california_housing(as_frame=True).frame"
   ]
  },
  {
   "cell_type": "code",
   "execution_count": 3,
   "id": "9b2be411",
   "metadata": {},
   "outputs": [
    {
     "data": {
      "text/html": [
       "<div>\n",
       "<style scoped>\n",
       "    .dataframe tbody tr th:only-of-type {\n",
       "        vertical-align: middle;\n",
       "    }\n",
       "\n",
       "    .dataframe tbody tr th {\n",
       "        vertical-align: top;\n",
       "    }\n",
       "\n",
       "    .dataframe thead th {\n",
       "        text-align: right;\n",
       "    }\n",
       "</style>\n",
       "<table border=\"1\" class=\"dataframe\">\n",
       "  <thead>\n",
       "    <tr style=\"text-align: right;\">\n",
       "      <th></th>\n",
       "      <th>MedInc</th>\n",
       "      <th>HouseAge</th>\n",
       "      <th>AveRooms</th>\n",
       "      <th>AveBedrms</th>\n",
       "      <th>Population</th>\n",
       "      <th>AveOccup</th>\n",
       "      <th>Latitude</th>\n",
       "      <th>Longitude</th>\n",
       "      <th>MedHouseVal</th>\n",
       "    </tr>\n",
       "  </thead>\n",
       "  <tbody>\n",
       "    <tr>\n",
       "      <th>0</th>\n",
       "      <td>8.3252</td>\n",
       "      <td>41.0</td>\n",
       "      <td>6.984127</td>\n",
       "      <td>1.023810</td>\n",
       "      <td>322.0</td>\n",
       "      <td>2.555556</td>\n",
       "      <td>37.88</td>\n",
       "      <td>-122.23</td>\n",
       "      <td>4.526</td>\n",
       "    </tr>\n",
       "    <tr>\n",
       "      <th>1</th>\n",
       "      <td>8.3014</td>\n",
       "      <td>21.0</td>\n",
       "      <td>6.238137</td>\n",
       "      <td>0.971880</td>\n",
       "      <td>2401.0</td>\n",
       "      <td>2.109842</td>\n",
       "      <td>37.86</td>\n",
       "      <td>-122.22</td>\n",
       "      <td>3.585</td>\n",
       "    </tr>\n",
       "    <tr>\n",
       "      <th>2</th>\n",
       "      <td>7.2574</td>\n",
       "      <td>52.0</td>\n",
       "      <td>8.288136</td>\n",
       "      <td>1.073446</td>\n",
       "      <td>496.0</td>\n",
       "      <td>2.802260</td>\n",
       "      <td>37.85</td>\n",
       "      <td>-122.24</td>\n",
       "      <td>3.521</td>\n",
       "    </tr>\n",
       "    <tr>\n",
       "      <th>3</th>\n",
       "      <td>5.6431</td>\n",
       "      <td>52.0</td>\n",
       "      <td>5.817352</td>\n",
       "      <td>1.073059</td>\n",
       "      <td>558.0</td>\n",
       "      <td>2.547945</td>\n",
       "      <td>37.85</td>\n",
       "      <td>-122.25</td>\n",
       "      <td>3.413</td>\n",
       "    </tr>\n",
       "    <tr>\n",
       "      <th>4</th>\n",
       "      <td>3.8462</td>\n",
       "      <td>52.0</td>\n",
       "      <td>6.281853</td>\n",
       "      <td>1.081081</td>\n",
       "      <td>565.0</td>\n",
       "      <td>2.181467</td>\n",
       "      <td>37.85</td>\n",
       "      <td>-122.25</td>\n",
       "      <td>3.422</td>\n",
       "    </tr>\n",
       "  </tbody>\n",
       "</table>\n",
       "</div>"
      ],
      "text/plain": [
       "   MedInc  HouseAge  AveRooms  AveBedrms  Population  AveOccup  Latitude  \\\n",
       "0  8.3252      41.0  6.984127   1.023810       322.0  2.555556     37.88   \n",
       "1  8.3014      21.0  6.238137   0.971880      2401.0  2.109842     37.86   \n",
       "2  7.2574      52.0  8.288136   1.073446       496.0  2.802260     37.85   \n",
       "3  5.6431      52.0  5.817352   1.073059       558.0  2.547945     37.85   \n",
       "4  3.8462      52.0  6.281853   1.081081       565.0  2.181467     37.85   \n",
       "\n",
       "   Longitude  MedHouseVal  \n",
       "0    -122.23        4.526  \n",
       "1    -122.22        3.585  \n",
       "2    -122.24        3.521  \n",
       "3    -122.25        3.413  \n",
       "4    -122.25        3.422  "
      ]
     },
     "execution_count": 3,
     "metadata": {},
     "output_type": "execute_result"
    }
   ],
   "source": [
    "data.head()"
   ]
  },
  {
   "cell_type": "code",
   "execution_count": 4,
   "id": "a1b4ab60",
   "metadata": {},
   "outputs": [
    {
     "name": "stdout",
     "output_type": "stream",
     "text": [
      "<class 'pandas.core.frame.DataFrame'>\n",
      "RangeIndex: 20640 entries, 0 to 20639\n",
      "Data columns (total 9 columns):\n",
      " #   Column       Non-Null Count  Dtype  \n",
      "---  ------       --------------  -----  \n",
      " 0   MedInc       20640 non-null  float64\n",
      " 1   HouseAge     20640 non-null  float64\n",
      " 2   AveRooms     20640 non-null  float64\n",
      " 3   AveBedrms    20640 non-null  float64\n",
      " 4   Population   20640 non-null  float64\n",
      " 5   AveOccup     20640 non-null  float64\n",
      " 6   Latitude     20640 non-null  float64\n",
      " 7   Longitude    20640 non-null  float64\n",
      " 8   MedHouseVal  20640 non-null  float64\n",
      "dtypes: float64(9)\n",
      "memory usage: 1.4 MB\n"
     ]
    }
   ],
   "source": [
    "# Проверьте данные на наличие пропусков. Удалите их в случае обнаружения\n",
    "data.info()"
   ]
  },
  {
   "cell_type": "markdown",
   "id": "0728b37e",
   "metadata": {},
   "source": [
    "Пропусков в данных нет"
   ]
  },
  {
   "cell_type": "markdown",
   "id": "5442e1c3",
   "metadata": {},
   "source": [
    "Разделите выборку на обучающее и тестовое подмножества. 80% данных оставить на обучающее множество, 20% - на тестовое"
   ]
  },
  {
   "cell_type": "code",
   "execution_count": 5,
   "id": "475af9ce",
   "metadata": {},
   "outputs": [],
   "source": [
    "# сделаем функцию, чтобы считать модель линейной регрессии, метрики RMSE, R2 на обучающем и тестовом множестве"
   ]
  },
  {
   "cell_type": "code",
   "execution_count": 6,
   "id": "7f08e28d",
   "metadata": {},
   "outputs": [],
   "source": [
    "def metrics(X, y, random_seed=0, test_size=0.2):\n",
    "    model = LinearRegression()\n",
    "    X_train, X_test, y_train, y_test = train_test_split(X, y, test_size=test_size, random_state=random_seed)\n",
    "    model.fit(X_train, y_train)\n",
    "    y_pred_train = model.predict(X_train)\n",
    "    y_pred_test = model.predict(X_test)\n",
    "    rmse_train = np.sqrt(mean_squared_error(y_train, y_pred_train))\n",
    "    r2_train = r2_score(y_train, y_pred_train)\n",
    "    rmse_test = np.sqrt(mean_squared_error(y_test, y_pred_test))\n",
    "    r2_test = r2_score(y_test, y_pred_test)\n",
    "    print('Mean squared error regression loss train: ', rmse_train)\n",
    "    print('Regression score function train: ', r2_train)\n",
    "    print('Mean squared error regression loss test:', rmse_test)\n",
    "    print('Regression score function test: ', r2_test)\n",
    "    return rmse_train, r2_train, rmse_test, r2_test"
   ]
  },
  {
   "cell_type": "code",
   "execution_count": 7,
   "id": "1e4ff9a5",
   "metadata": {},
   "outputs": [
    {
     "name": "stdout",
     "output_type": "stream",
     "text": [
      "Mean squared error regression loss train:  0.7234924745376036\n",
      "Regression score function train:  0.6088968118672868\n",
      "Mean squared error regression loss test: 0.7273129773603124\n",
      "Regression score function test:  0.594323265246619\n"
     ]
    }
   ],
   "source": [
    "X = data.loc[:, data.columns != 'MedHouseVal']\n",
    "y = data[['MedHouseVal']]\n",
    "rmsetrain, r2train, rmsetest, r2test = metrics(X, y)\n",
    "d1 = [{'rmse_train': rmsetrain , 'r2train': r2train, 'rmsetest': rmsetest, 'r2test': r2test} ] \n",
    "\n",
    "# With two column indices, values same \n",
    "# as dictionary keys \n"
   ]
  },
  {
   "cell_type": "code",
   "execution_count": 8,
   "id": "aafd1470",
   "metadata": {},
   "outputs": [
    {
     "data": {
      "text/html": [
       "<div>\n",
       "<style scoped>\n",
       "    .dataframe tbody tr th:only-of-type {\n",
       "        vertical-align: middle;\n",
       "    }\n",
       "\n",
       "    .dataframe tbody tr th {\n",
       "        vertical-align: top;\n",
       "    }\n",
       "\n",
       "    .dataframe thead th {\n",
       "        text-align: right;\n",
       "    }\n",
       "</style>\n",
       "<table border=\"1\" class=\"dataframe\">\n",
       "  <thead>\n",
       "    <tr style=\"text-align: right;\">\n",
       "      <th></th>\n",
       "      <th>rmse_train</th>\n",
       "      <th>r2train</th>\n",
       "      <th>rmsetest</th>\n",
       "      <th>r2test</th>\n",
       "    </tr>\n",
       "  </thead>\n",
       "  <tbody>\n",
       "    <tr>\n",
       "      <th>исходная модель</th>\n",
       "      <td>0.723492</td>\n",
       "      <td>0.608897</td>\n",
       "      <td>0.727313</td>\n",
       "      <td>0.594323</td>\n",
       "    </tr>\n",
       "  </tbody>\n",
       "</table>\n",
       "</div>"
      ],
      "text/plain": [
       "                 rmse_train   r2train  rmsetest    r2test\n",
       "исходная модель    0.723492  0.608897  0.727313  0.594323"
      ]
     },
     "execution_count": 8,
     "metadata": {},
     "output_type": "execute_result"
    }
   ],
   "source": [
    "dframe1 = pd.DataFrame(d1, index =['исходная модель'], columns =['rmse_train', 'r2train', 'rmsetest', 'r2test' ]) \n",
    "dframe1\n"
   ]
  },
  {
   "cell_type": "markdown",
   "id": "00fcd108",
   "metadata": {},
   "source": [
    "Постройте график распределения целевой переменной. Сделайте вывод. Присутствуют ли в этом признаке выбросы?"
   ]
  },
  {
   "cell_type": "code",
   "execution_count": 9,
   "id": "e45c2e19",
   "metadata": {},
   "outputs": [
    {
     "data": {
      "text/plain": [
       "<Axes: >"
      ]
     },
     "execution_count": 9,
     "metadata": {},
     "output_type": "execute_result"
    },
    {
     "data": {
      "image/png": "[encoded data removed]",
      "text/plain": [
       "<Figure size 640x480 with 1 Axes>"
      ]
     },
     "metadata": {},
     "output_type": "display_data"
    }
   ],
   "source": [
    "sns.boxplot(data['MedHouseVal'])"
   ]
  },
  {
   "cell_type": "markdown",
   "id": "a30a9b59",
   "metadata": {},
   "source": [
    "выбросы есть"
   ]
  },
  {
   "cell_type": "markdown",
   "id": "716bbf24",
   "metadata": {},
   "source": [
    "Посчитайте и выведите корреляционную матрицу. Убедитесь, что ячейки матрицы поделены на цветные категории, в ячейках указано числовое значение корреляции.\n",
    "a. Сделайте выводы.\n",
    "b. Удалите признаки на основании полученных значений, выводов.\n",
    "c. Повторите п. 3, п. 4 на измененных данных"
   ]
  },
  {
   "cell_type": "code",
   "execution_count": 10,
   "id": "11b6b6ab",
   "metadata": {},
   "outputs": [
    {
     "data": {
      "text/plain": [
       "<Axes: >"
      ]
     },
     "execution_count": 10,
     "metadata": {},
     "output_type": "execute_result"
    },
    {
     "data": {
      "image/png": "[encoded data removed]",
      "text/plain": [
       "<Figure size 1500x1500 with 2 Axes>"
      ]
     },
     "metadata": {},
     "output_type": "display_data"
    }
   ],
   "source": [
    "fig, ax = plt.subplots(figsize=(15,15))\n",
    "sns.heatmap(data.corr(), annot = True, vmin=-1, vmax=1, center=0, cmap= 'coolwarm',ax=ax)"
   ]
  },
  {
   "cell_type": "code",
   "execution_count": 11,
   "id": "4ce78f16",
   "metadata": {},
   "outputs": [
    {
     "data": {
      "text/html": [
       "<div>\n",
       "<style scoped>\n",
       "    .dataframe tbody tr th:only-of-type {\n",
       "        vertical-align: middle;\n",
       "    }\n",
       "\n",
       "    .dataframe tbody tr th {\n",
       "        vertical-align: top;\n",
       "    }\n",
       "\n",
       "    .dataframe thead th {\n",
       "        text-align: right;\n",
       "    }\n",
       "</style>\n",
       "<table border=\"1\" class=\"dataframe\">\n",
       "  <thead>\n",
       "    <tr style=\"text-align: right;\">\n",
       "      <th></th>\n",
       "      <th>MedInc</th>\n",
       "      <th>HouseAge</th>\n",
       "      <th>AveRooms</th>\n",
       "      <th>AveBedrms</th>\n",
       "      <th>Population</th>\n",
       "      <th>AveOccup</th>\n",
       "      <th>Latitude</th>\n",
       "      <th>Longitude</th>\n",
       "      <th>MedHouseVal</th>\n",
       "    </tr>\n",
       "  </thead>\n",
       "  <tbody>\n",
       "    <tr>\n",
       "      <th>0</th>\n",
       "      <td>8.3252</td>\n",
       "      <td>41.0</td>\n",
       "      <td>6.984127</td>\n",
       "      <td>1.023810</td>\n",
       "      <td>322.0</td>\n",
       "      <td>2.555556</td>\n",
       "      <td>37.88</td>\n",
       "      <td>-122.23</td>\n",
       "      <td>4.526</td>\n",
       "    </tr>\n",
       "    <tr>\n",
       "      <th>1</th>\n",
       "      <td>8.3014</td>\n",
       "      <td>21.0</td>\n",
       "      <td>6.238137</td>\n",
       "      <td>0.971880</td>\n",
       "      <td>2401.0</td>\n",
       "      <td>2.109842</td>\n",
       "      <td>37.86</td>\n",
       "      <td>-122.22</td>\n",
       "      <td>3.585</td>\n",
       "    </tr>\n",
       "    <tr>\n",
       "      <th>2</th>\n",
       "      <td>7.2574</td>\n",
       "      <td>52.0</td>\n",
       "      <td>8.288136</td>\n",
       "      <td>1.073446</td>\n",
       "      <td>496.0</td>\n",
       "      <td>2.802260</td>\n",
       "      <td>37.85</td>\n",
       "      <td>-122.24</td>\n",
       "      <td>3.521</td>\n",
       "    </tr>\n",
       "    <tr>\n",
       "      <th>3</th>\n",
       "      <td>5.6431</td>\n",
       "      <td>52.0</td>\n",
       "      <td>5.817352</td>\n",
       "      <td>1.073059</td>\n",
       "      <td>558.0</td>\n",
       "      <td>2.547945</td>\n",
       "      <td>37.85</td>\n",
       "      <td>-122.25</td>\n",
       "      <td>3.413</td>\n",
       "    </tr>\n",
       "    <tr>\n",
       "      <th>4</th>\n",
       "      <td>3.8462</td>\n",
       "      <td>52.0</td>\n",
       "      <td>6.281853</td>\n",
       "      <td>1.081081</td>\n",
       "      <td>565.0</td>\n",
       "      <td>2.181467</td>\n",
       "      <td>37.85</td>\n",
       "      <td>-122.25</td>\n",
       "      <td>3.422</td>\n",
       "    </tr>\n",
       "  </tbody>\n",
       "</table>\n",
       "</div>"
      ],
      "text/plain": [
       "   MedInc  HouseAge  AveRooms  AveBedrms  Population  AveOccup  Latitude  \\\n",
       "0  8.3252      41.0  6.984127   1.023810       322.0  2.555556     37.88   \n",
       "1  8.3014      21.0  6.238137   0.971880      2401.0  2.109842     37.86   \n",
       "2  7.2574      52.0  8.288136   1.073446       496.0  2.802260     37.85   \n",
       "3  5.6431      52.0  5.817352   1.073059       558.0  2.547945     37.85   \n",
       "4  3.8462      52.0  6.281853   1.081081       565.0  2.181467     37.85   \n",
       "\n",
       "   Longitude  MedHouseVal  \n",
       "0    -122.23        4.526  \n",
       "1    -122.22        3.585  \n",
       "2    -122.24        3.521  \n",
       "3    -122.25        3.413  \n",
       "4    -122.25        3.422  "
      ]
     },
     "execution_count": 11,
     "metadata": {},
     "output_type": "execute_result"
    }
   ],
   "source": [
    "data.head()"
   ]
  },
  {
   "cell_type": "markdown",
   "id": "6f7b4e1d",
   "metadata": {},
   "source": [
    "a. Cильная корреляция 0.85 между признаками AveRooms и AveBedrms\n",
    "b. Удаляем признак AveBedrms"
   ]
  },
  {
   "cell_type": "code",
   "execution_count": 12,
   "id": "6749ae3c",
   "metadata": {},
   "outputs": [
    {
     "name": "stdout",
     "output_type": "stream",
     "text": [
      "Mean squared error regression loss train:  0.7314188174268145\n",
      "Regression score function train:  0.6002802761968508\n",
      "Mean squared error regression loss test: 0.7414501124382492\n",
      "Regression score function test:  0.5783993232750757\n"
     ]
    }
   ],
   "source": [
    "X2 = data.loc[:, (data.columns != 'MedHouseVal')&(data.columns != 'AveBedrms')]\n",
    "y2 = data[['MedHouseVal']]\n",
    "rmsetrain, r2train, rmsetest, r2test = metrics(X2, y2)\n",
    "d2 = [{'rmse_train': rmsetrain , 'r2train': r2train, 'rmsetest': rmsetest, 'r2test': r2test} ]"
   ]
  },
  {
   "cell_type": "code",
   "execution_count": 13,
   "id": "49222180",
   "metadata": {},
   "outputs": [
    {
     "data": {
      "text/html": [
       "<div>\n",
       "<style scoped>\n",
       "    .dataframe tbody tr th:only-of-type {\n",
       "        vertical-align: middle;\n",
       "    }\n",
       "\n",
       "    .dataframe tbody tr th {\n",
       "        vertical-align: top;\n",
       "    }\n",
       "\n",
       "    .dataframe thead th {\n",
       "        text-align: right;\n",
       "    }\n",
       "</style>\n",
       "<table border=\"1\" class=\"dataframe\">\n",
       "  <thead>\n",
       "    <tr style=\"text-align: right;\">\n",
       "      <th></th>\n",
       "      <th>rmse_train</th>\n",
       "      <th>r2train</th>\n",
       "      <th>rmsetest</th>\n",
       "      <th>r2test</th>\n",
       "    </tr>\n",
       "  </thead>\n",
       "  <tbody>\n",
       "    <tr>\n",
       "      <th>исходная модель</th>\n",
       "      <td>0.723492</td>\n",
       "      <td>0.608897</td>\n",
       "      <td>0.727313</td>\n",
       "      <td>0.594323</td>\n",
       "    </tr>\n",
       "    <tr>\n",
       "      <th>удаление корреляции</th>\n",
       "      <td>0.731419</td>\n",
       "      <td>0.600280</td>\n",
       "      <td>0.741450</td>\n",
       "      <td>0.578399</td>\n",
       "    </tr>\n",
       "  </tbody>\n",
       "</table>\n",
       "</div>"
      ],
      "text/plain": [
       "                     rmse_train   r2train  rmsetest    r2test\n",
       "исходная модель        0.723492  0.608897  0.727313  0.594323\n",
       "удаление корреляции    0.731419  0.600280  0.741450  0.578399"
      ]
     },
     "execution_count": 13,
     "metadata": {},
     "output_type": "execute_result"
    }
   ],
   "source": [
    "dframe2 = pd.DataFrame(d2, index =['удаление корреляции'], columns =['rmse_train', 'r2train', 'rmsetest', 'r2test' ])\n",
    "itog = pd.concat([dframe1, dframe2])\n",
    "itog"
   ]
  },
  {
   "cell_type": "markdown",
   "id": "bc706581",
   "metadata": {},
   "source": [
    "качество модели не улучшилось"
   ]
  },
  {
   "cell_type": "markdown",
   "id": "c6b38e23",
   "metadata": {},
   "source": [
    "Исследуйте оставленные признаки на выбросы.\n",
    "a. Удалите выбросы в случае обнаружения.\n",
    "b. Повторите п. 3, п. 4 на измененных данных."
   ]
  },
  {
   "cell_type": "code",
   "execution_count": 14,
   "id": "636918d8",
   "metadata": {},
   "outputs": [
    {
     "name": "stdout",
     "output_type": "stream",
     "text": [
      "<class 'pandas.core.frame.DataFrame'>\n",
      "RangeIndex: 20640 entries, 0 to 20639\n",
      "Data columns (total 7 columns):\n",
      " #   Column      Non-Null Count  Dtype  \n",
      "---  ------      --------------  -----  \n",
      " 0   MedInc      20640 non-null  float64\n",
      " 1   HouseAge    20640 non-null  float64\n",
      " 2   AveRooms    20640 non-null  float64\n",
      " 3   Population  20640 non-null  float64\n",
      " 4   AveOccup    20640 non-null  float64\n",
      " 5   Latitude    20640 non-null  float64\n",
      " 6   Longitude   20640 non-null  float64\n",
      "dtypes: float64(7)\n",
      "memory usage: 1.1 MB\n"
     ]
    }
   ],
   "source": [
    "X2.info()"
   ]
  },
  {
   "cell_type": "code",
   "execution_count": 15,
   "id": "803bf765",
   "metadata": {},
   "outputs": [
    {
     "data": {
      "text/plain": [
       "<Axes: >"
      ]
     },
     "execution_count": 15,
     "metadata": {},
     "output_type": "execute_result"
    },
    {
     "data": {
      "image/png": "[encoded data removed]",
      "text/plain": [
       "<Figure size 640x480 with 1 Axes>"
      ]
     },
     "metadata": {},
     "output_type": "display_data"
    }
   ],
   "source": [
    "sns.boxplot(X2['MedInc'])"
   ]
  },
  {
   "cell_type": "code",
   "execution_count": 16,
   "id": "be34d585",
   "metadata": {},
   "outputs": [
    {
     "data": {
      "text/plain": [
       "<Axes: >"
      ]
     },
     "execution_count": 16,
     "metadata": {},
     "output_type": "execute_result"
    },
    {
     "data": {
      "image/png": "[encoded data removed]",
      "text/plain": [
       "<Figure size 640x480 with 1 Axes>"
      ]
     },
     "metadata": {},
     "output_type": "display_data"
    }
   ],
   "source": [
    "sns.boxplot(X2['HouseAge'])"
   ]
  },
  {
   "cell_type": "code",
   "execution_count": 17,
   "id": "82a5a106",
   "metadata": {},
   "outputs": [
    {
     "data": {
      "text/plain": [
       "<Axes: >"
      ]
     },
     "execution_count": 17,
     "metadata": {},
     "output_type": "execute_result"
    },
    {
     "data": {
      "image/png": "[encoded data removed]",
      "text/plain": [
       "<Figure size 640x480 with 1 Axes>"
      ]
     },
     "metadata": {},
     "output_type": "display_data"
    }
   ],
   "source": [
    "sns.boxplot(X2['AveRooms'])"
   ]
  },
  {
   "cell_type": "code",
   "execution_count": 18,
   "id": "13663e57",
   "metadata": {},
   "outputs": [
    {
     "data": {
      "text/plain": [
       "<Axes: >"
      ]
     },
     "execution_count": 18,
     "metadata": {},
     "output_type": "execute_result"
    },
    {
     "data": {
      "image/png": "[encoded data removed]",
      "text/plain": [
       "<Figure size 640x480 with 1 Axes>"
      ]
     },
     "metadata": {},
     "output_type": "display_data"
    }
   ],
   "source": [
    "sns.boxplot(X2['Population'])"
   ]
  },
  {
   "cell_type": "code",
   "execution_count": 19,
   "id": "1ccc06b7",
   "metadata": {},
   "outputs": [
    {
     "data": {
      "text/plain": [
       "<Axes: >"
      ]
     },
     "execution_count": 19,
     "metadata": {},
     "output_type": "execute_result"
    },
    {
     "data": {
      "image/png": "[encoded data removed]",
      "text/plain": [
       "<Figure size 640x480 with 1 Axes>"
      ]
     },
     "metadata": {},
     "output_type": "display_data"
    }
   ],
   "source": [
    "sns.boxplot(X2['AveOccup'])"
   ]
  },
  {
   "cell_type": "markdown",
   "id": "a094b3ab",
   "metadata": {},
   "source": [
    "Видно, что выбросы есть везде, но только у одной переменной можно проигнорировть - возраст дома\n",
    " :Attribute Information:\n",
    " - MedInc редний доход MedInc в группе \n",
    " - HouseAge возраст дома\n",
    " - AveRooms среднее кол-во комнат на семью\n",
    " - AveBedrms среднее кол-во спален на семью\n",
    " - Population - кол-во людей в блоке\n",
    " - AveOccup среднее количество членов домохозяйства в среднем\n",
    " - Latitude block group latitude\n",
    " - Longitude block group longitude"
   ]
  },
  {
   "cell_type": "code",
   "execution_count": 20,
   "id": "c85ac045",
   "metadata": {},
   "outputs": [
    {
     "data": {
      "text/html": [
       "<div>\n",
       "<style scoped>\n",
       "    .dataframe tbody tr th:only-of-type {\n",
       "        vertical-align: middle;\n",
       "    }\n",
       "\n",
       "    .dataframe tbody tr th {\n",
       "        vertical-align: top;\n",
       "    }\n",
       "\n",
       "    .dataframe thead th {\n",
       "        text-align: right;\n",
       "    }\n",
       "</style>\n",
       "<table border=\"1\" class=\"dataframe\">\n",
       "  <thead>\n",
       "    <tr style=\"text-align: right;\">\n",
       "      <th></th>\n",
       "      <th>MedInc</th>\n",
       "      <th>HouseAge</th>\n",
       "      <th>AveRooms</th>\n",
       "      <th>AveBedrms</th>\n",
       "      <th>Population</th>\n",
       "      <th>AveOccup</th>\n",
       "      <th>Latitude</th>\n",
       "      <th>Longitude</th>\n",
       "      <th>MedHouseVal</th>\n",
       "    </tr>\n",
       "  </thead>\n",
       "  <tbody>\n",
       "    <tr>\n",
       "      <th>count</th>\n",
       "      <td>20640.000000</td>\n",
       "      <td>20640.000000</td>\n",
       "      <td>20640.000000</td>\n",
       "      <td>20640.000000</td>\n",
       "      <td>20640.000000</td>\n",
       "      <td>20640.000000</td>\n",
       "      <td>20640.000000</td>\n",
       "      <td>20640.000000</td>\n",
       "      <td>20640.000000</td>\n",
       "    </tr>\n",
       "    <tr>\n",
       "      <th>mean</th>\n",
       "      <td>3.870671</td>\n",
       "      <td>28.639486</td>\n",
       "      <td>5.429000</td>\n",
       "      <td>1.096675</td>\n",
       "      <td>1425.476744</td>\n",
       "      <td>3.070655</td>\n",
       "      <td>35.631861</td>\n",
       "      <td>-119.569704</td>\n",
       "      <td>2.068558</td>\n",
       "    </tr>\n",
       "    <tr>\n",
       "      <th>std</th>\n",
       "      <td>1.899822</td>\n",
       "      <td>12.585558</td>\n",
       "      <td>2.474173</td>\n",
       "      <td>0.473911</td>\n",
       "      <td>1132.462122</td>\n",
       "      <td>10.386050</td>\n",
       "      <td>2.135952</td>\n",
       "      <td>2.003532</td>\n",
       "      <td>1.153956</td>\n",
       "    </tr>\n",
       "    <tr>\n",
       "      <th>min</th>\n",
       "      <td>0.499900</td>\n",
       "      <td>1.000000</td>\n",
       "      <td>0.846154</td>\n",
       "      <td>0.333333</td>\n",
       "      <td>3.000000</td>\n",
       "      <td>0.692308</td>\n",
       "      <td>32.540000</td>\n",
       "      <td>-124.350000</td>\n",
       "      <td>0.149990</td>\n",
       "    </tr>\n",
       "    <tr>\n",
       "      <th>25%</th>\n",
       "      <td>2.563400</td>\n",
       "      <td>18.000000</td>\n",
       "      <td>4.440716</td>\n",
       "      <td>1.006079</td>\n",
       "      <td>787.000000</td>\n",
       "      <td>2.429741</td>\n",
       "      <td>33.930000</td>\n",
       "      <td>-121.800000</td>\n",
       "      <td>1.196000</td>\n",
       "    </tr>\n",
       "    <tr>\n",
       "      <th>50%</th>\n",
       "      <td>3.534800</td>\n",
       "      <td>29.000000</td>\n",
       "      <td>5.229129</td>\n",
       "      <td>1.048780</td>\n",
       "      <td>1166.000000</td>\n",
       "      <td>2.818116</td>\n",
       "      <td>34.260000</td>\n",
       "      <td>-118.490000</td>\n",
       "      <td>1.797000</td>\n",
       "    </tr>\n",
       "    <tr>\n",
       "      <th>75%</th>\n",
       "      <td>4.743250</td>\n",
       "      <td>37.000000</td>\n",
       "      <td>6.052381</td>\n",
       "      <td>1.099526</td>\n",
       "      <td>1725.000000</td>\n",
       "      <td>3.282261</td>\n",
       "      <td>37.710000</td>\n",
       "      <td>-118.010000</td>\n",
       "      <td>2.647250</td>\n",
       "    </tr>\n",
       "    <tr>\n",
       "      <th>max</th>\n",
       "      <td>15.000100</td>\n",
       "      <td>52.000000</td>\n",
       "      <td>141.909091</td>\n",
       "      <td>34.066667</td>\n",
       "      <td>35682.000000</td>\n",
       "      <td>1243.333333</td>\n",
       "      <td>41.950000</td>\n",
       "      <td>-114.310000</td>\n",
       "      <td>5.000010</td>\n",
       "    </tr>\n",
       "  </tbody>\n",
       "</table>\n",
       "</div>"
      ],
      "text/plain": [
       "             MedInc      HouseAge      AveRooms     AveBedrms    Population  \\\n",
       "count  20640.000000  20640.000000  20640.000000  20640.000000  20640.000000   \n",
       "mean       3.870671     28.639486      5.429000      1.096675   1425.476744   \n",
       "std        1.899822     12.585558      2.474173      0.473911   1132.462122   \n",
       "min        0.499900      1.000000      0.846154      0.333333      3.000000   \n",
       "25%        2.563400     18.000000      4.440716      1.006079    787.000000   \n",
       "50%        3.534800     29.000000      5.229129      1.048780   1166.000000   \n",
       "75%        4.743250     37.000000      6.052381      1.099526   1725.000000   \n",
       "max       15.000100     52.000000    141.909091     34.066667  35682.000000   \n",
       "\n",
       "           AveOccup      Latitude     Longitude   MedHouseVal  \n",
       "count  20640.000000  20640.000000  20640.000000  20640.000000  \n",
       "mean       3.070655     35.631861   -119.569704      2.068558  \n",
       "std       10.386050      2.135952      2.003532      1.153956  \n",
       "min        0.692308     32.540000   -124.350000      0.149990  \n",
       "25%        2.429741     33.930000   -121.800000      1.196000  \n",
       "50%        2.818116     34.260000   -118.490000      1.797000  \n",
       "75%        3.282261     37.710000   -118.010000      2.647250  \n",
       "max     1243.333333     41.950000   -114.310000      5.000010  "
      ]
     },
     "execution_count": 20,
     "metadata": {},
     "output_type": "execute_result"
    }
   ],
   "source": [
    "data.describe()"
   ]
  },
  {
   "cell_type": "code",
   "execution_count": 21,
   "id": "26e6173e",
   "metadata": {},
   "outputs": [
    {
     "name": "stdout",
     "output_type": "stream",
     "text": [
      "<class 'pandas.core.frame.DataFrame'>\n",
      "RangeIndex: 20640 entries, 0 to 20639\n",
      "Data columns (total 9 columns):\n",
      " #   Column       Non-Null Count  Dtype  \n",
      "---  ------       --------------  -----  \n",
      " 0   MedInc       20640 non-null  float64\n",
      " 1   HouseAge     20640 non-null  float64\n",
      " 2   AveRooms     20640 non-null  float64\n",
      " 3   AveBedrms    20640 non-null  float64\n",
      " 4   Population   20640 non-null  float64\n",
      " 5   AveOccup     20640 non-null  float64\n",
      " 6   Latitude     20640 non-null  float64\n",
      " 7   Longitude    20640 non-null  float64\n",
      " 8   MedHouseVal  20640 non-null  float64\n",
      "dtypes: float64(9)\n",
      "memory usage: 1.4 MB\n"
     ]
    }
   ],
   "source": [
    "data.info()"
   ]
  },
  {
   "cell_type": "code",
   "execution_count": 22,
   "id": "88bf9d9d",
   "metadata": {},
   "outputs": [],
   "source": [
    "# начнем удалять выбросы\n",
    "t = data[(data['AveRooms']<10)&(data['Population']<5000)&(data['AveOccup']<5)]"
   ]
  },
  {
   "cell_type": "code",
   "execution_count": 23,
   "id": "de47cd55",
   "metadata": {},
   "outputs": [
    {
     "data": {
      "text/html": [
       "<div>\n",
       "<style scoped>\n",
       "    .dataframe tbody tr th:only-of-type {\n",
       "        vertical-align: middle;\n",
       "    }\n",
       "\n",
       "    .dataframe tbody tr th {\n",
       "        vertical-align: top;\n",
       "    }\n",
       "\n",
       "    .dataframe thead th {\n",
       "        text-align: right;\n",
       "    }\n",
       "</style>\n",
       "<table border=\"1\" class=\"dataframe\">\n",
       "  <thead>\n",
       "    <tr style=\"text-align: right;\">\n",
       "      <th></th>\n",
       "      <th>MedInc</th>\n",
       "      <th>HouseAge</th>\n",
       "      <th>AveRooms</th>\n",
       "      <th>AveBedrms</th>\n",
       "      <th>Population</th>\n",
       "      <th>AveOccup</th>\n",
       "      <th>Latitude</th>\n",
       "      <th>Longitude</th>\n",
       "      <th>MedHouseVal</th>\n",
       "    </tr>\n",
       "  </thead>\n",
       "  <tbody>\n",
       "    <tr>\n",
       "      <th>count</th>\n",
       "      <td>19782.000000</td>\n",
       "      <td>19782.000000</td>\n",
       "      <td>19782.000000</td>\n",
       "      <td>19782.000000</td>\n",
       "      <td>19782.000000</td>\n",
       "      <td>19782.000000</td>\n",
       "      <td>19782.00000</td>\n",
       "      <td>19782.000000</td>\n",
       "      <td>19782.000000</td>\n",
       "    </tr>\n",
       "    <tr>\n",
       "      <th>mean</th>\n",
       "      <td>3.873599</td>\n",
       "      <td>28.954757</td>\n",
       "      <td>5.282674</td>\n",
       "      <td>1.065978</td>\n",
       "      <td>1343.162572</td>\n",
       "      <td>2.874721</td>\n",
       "      <td>35.63928</td>\n",
       "      <td>-119.594788</td>\n",
       "      <td>2.079858</td>\n",
       "    </tr>\n",
       "    <tr>\n",
       "      <th>std</th>\n",
       "      <td>1.896208</td>\n",
       "      <td>12.487941</td>\n",
       "      <td>1.221182</td>\n",
       "      <td>0.128059</td>\n",
       "      <td>820.890245</td>\n",
       "      <td>0.671034</td>\n",
       "      <td>2.13548</td>\n",
       "      <td>2.006852</td>\n",
       "      <td>1.159505</td>\n",
       "    </tr>\n",
       "    <tr>\n",
       "      <th>min</th>\n",
       "      <td>0.499900</td>\n",
       "      <td>1.000000</td>\n",
       "      <td>0.846154</td>\n",
       "      <td>0.333333</td>\n",
       "      <td>3.000000</td>\n",
       "      <td>0.750000</td>\n",
       "      <td>32.54000</td>\n",
       "      <td>-124.350000</td>\n",
       "      <td>0.149990</td>\n",
       "    </tr>\n",
       "    <tr>\n",
       "      <th>25%</th>\n",
       "      <td>2.563925</td>\n",
       "      <td>19.000000</td>\n",
       "      <td>4.444444</td>\n",
       "      <td>1.004916</td>\n",
       "      <td>789.000000</td>\n",
       "      <td>2.424448</td>\n",
       "      <td>33.93000</td>\n",
       "      <td>-121.820000</td>\n",
       "      <td>1.194000</td>\n",
       "    </tr>\n",
       "    <tr>\n",
       "      <th>50%</th>\n",
       "      <td>3.538500</td>\n",
       "      <td>29.000000</td>\n",
       "      <td>5.221196</td>\n",
       "      <td>1.047775</td>\n",
       "      <td>1157.000000</td>\n",
       "      <td>2.807229</td>\n",
       "      <td>34.26000</td>\n",
       "      <td>-118.510000</td>\n",
       "      <td>1.815000</td>\n",
       "    </tr>\n",
       "    <tr>\n",
       "      <th>75%</th>\n",
       "      <td>4.751125</td>\n",
       "      <td>37.000000</td>\n",
       "      <td>6.017661</td>\n",
       "      <td>1.096988</td>\n",
       "      <td>1688.750000</td>\n",
       "      <td>3.251288</td>\n",
       "      <td>37.72000</td>\n",
       "      <td>-118.020000</td>\n",
       "      <td>2.667000</td>\n",
       "    </tr>\n",
       "    <tr>\n",
       "      <th>max</th>\n",
       "      <td>15.000100</td>\n",
       "      <td>52.000000</td>\n",
       "      <td>9.979167</td>\n",
       "      <td>3.411111</td>\n",
       "      <td>4992.000000</td>\n",
       "      <td>4.995816</td>\n",
       "      <td>41.95000</td>\n",
       "      <td>-114.550000</td>\n",
       "      <td>5.000010</td>\n",
       "    </tr>\n",
       "  </tbody>\n",
       "</table>\n",
       "</div>"
      ],
      "text/plain": [
       "             MedInc      HouseAge      AveRooms     AveBedrms    Population  \\\n",
       "count  19782.000000  19782.000000  19782.000000  19782.000000  19782.000000   \n",
       "mean       3.873599     28.954757      5.282674      1.065978   1343.162572   \n",
       "std        1.896208     12.487941      1.221182      0.128059    820.890245   \n",
       "min        0.499900      1.000000      0.846154      0.333333      3.000000   \n",
       "25%        2.563925     19.000000      4.444444      1.004916    789.000000   \n",
       "50%        3.538500     29.000000      5.221196      1.047775   1157.000000   \n",
       "75%        4.751125     37.000000      6.017661      1.096988   1688.750000   \n",
       "max       15.000100     52.000000      9.979167      3.411111   4992.000000   \n",
       "\n",
       "           AveOccup     Latitude     Longitude   MedHouseVal  \n",
       "count  19782.000000  19782.00000  19782.000000  19782.000000  \n",
       "mean       2.874721     35.63928   -119.594788      2.079858  \n",
       "std        0.671034      2.13548      2.006852      1.159505  \n",
       "min        0.750000     32.54000   -124.350000      0.149990  \n",
       "25%        2.424448     33.93000   -121.820000      1.194000  \n",
       "50%        2.807229     34.26000   -118.510000      1.815000  \n",
       "75%        3.251288     37.72000   -118.020000      2.667000  \n",
       "max        4.995816     41.95000   -114.550000      5.000010  "
      ]
     },
     "execution_count": 23,
     "metadata": {},
     "output_type": "execute_result"
    }
   ],
   "source": [
    "t.describe()"
   ]
  },
  {
   "cell_type": "code",
   "execution_count": 24,
   "id": "20f8fdbe",
   "metadata": {},
   "outputs": [
    {
     "name": "stdout",
     "output_type": "stream",
     "text": [
      "Mean squared error regression loss train:  0.6723822845613345\n",
      "Regression score function train:  0.6658289258914594\n",
      "Mean squared error regression loss test: 0.6625870081878683\n",
      "Regression score function test:  0.6648591011855207\n"
     ]
    },
    {
     "data": {
      "text/html": [
       "<div>\n",
       "<style scoped>\n",
       "    .dataframe tbody tr th:only-of-type {\n",
       "        vertical-align: middle;\n",
       "    }\n",
       "\n",
       "    .dataframe tbody tr th {\n",
       "        vertical-align: top;\n",
       "    }\n",
       "\n",
       "    .dataframe thead th {\n",
       "        text-align: right;\n",
       "    }\n",
       "</style>\n",
       "<table border=\"1\" class=\"dataframe\">\n",
       "  <thead>\n",
       "    <tr style=\"text-align: right;\">\n",
       "      <th></th>\n",
       "      <th>rmse_train</th>\n",
       "      <th>r2train</th>\n",
       "      <th>rmsetest</th>\n",
       "      <th>r2test</th>\n",
       "    </tr>\n",
       "  </thead>\n",
       "  <tbody>\n",
       "    <tr>\n",
       "      <th>исходная модель</th>\n",
       "      <td>0.723492</td>\n",
       "      <td>0.608897</td>\n",
       "      <td>0.727313</td>\n",
       "      <td>0.594323</td>\n",
       "    </tr>\n",
       "    <tr>\n",
       "      <th>удаление корреляции</th>\n",
       "      <td>0.731419</td>\n",
       "      <td>0.600280</td>\n",
       "      <td>0.741450</td>\n",
       "      <td>0.578399</td>\n",
       "    </tr>\n",
       "    <tr>\n",
       "      <th>удаление выбросов</th>\n",
       "      <td>0.672382</td>\n",
       "      <td>0.665829</td>\n",
       "      <td>0.662587</td>\n",
       "      <td>0.664859</td>\n",
       "    </tr>\n",
       "  </tbody>\n",
       "</table>\n",
       "</div>"
      ],
      "text/plain": [
       "                     rmse_train   r2train  rmsetest    r2test\n",
       "исходная модель        0.723492  0.608897  0.727313  0.594323\n",
       "удаление корреляции    0.731419  0.600280  0.741450  0.578399\n",
       "удаление выбросов      0.672382  0.665829  0.662587  0.664859"
      ]
     },
     "execution_count": 24,
     "metadata": {},
     "output_type": "execute_result"
    }
   ],
   "source": [
    "X3 = t.loc[:, (t.columns != 'MedHouseVal')&(t.columns != 'AveBedrms')]\n",
    "y3 = t[['MedHouseVal']]\n",
    "rmsetrain, r2train, rmsetest, r2test = metrics(X3, y3)\n",
    "d3 = [{'rmse_train': rmsetrain , 'r2train': r2train, 'rmsetest': rmsetest, 'r2test': r2test} ]\n",
    "dframe3 = pd.DataFrame(d3, index =['удаление выбросов'], columns =['rmse_train', 'r2train', 'rmsetest', 'r2test' ]) \n",
    "itog = pd.concat([dframe1, dframe2, dframe3])\n",
    "itog"
   ]
  },
  {
   "cell_type": "markdown",
   "id": "ef0c951b",
   "metadata": {},
   "source": [
    "RMSE стала хуже, а вот R2 стала заметно лучше"
   ]
  },
  {
   "cell_type": "markdown",
   "id": "41bcabc8",
   "metadata": {},
   "source": [
    "Измените несколько признаков на выбор математически. Например, вычислите логарифм, возведите в квадрат, извлеките квадратный корень.\n",
    "a. Повторите п. 3, п. 4 на измененных данных."
   ]
  },
  {
   "cell_type": "code",
   "execution_count": 25,
   "id": "753f3e6f",
   "metadata": {},
   "outputs": [
    {
     "data": {
      "text/html": [
       "<div>\n",
       "<style scoped>\n",
       "    .dataframe tbody tr th:only-of-type {\n",
       "        vertical-align: middle;\n",
       "    }\n",
       "\n",
       "    .dataframe tbody tr th {\n",
       "        vertical-align: top;\n",
       "    }\n",
       "\n",
       "    .dataframe thead th {\n",
       "        text-align: right;\n",
       "    }\n",
       "</style>\n",
       "<table border=\"1\" class=\"dataframe\">\n",
       "  <thead>\n",
       "    <tr style=\"text-align: right;\">\n",
       "      <th></th>\n",
       "      <th>MedInc</th>\n",
       "      <th>HouseAge</th>\n",
       "      <th>AveRooms</th>\n",
       "      <th>AveBedrms</th>\n",
       "      <th>Population</th>\n",
       "      <th>AveOccup</th>\n",
       "      <th>Latitude</th>\n",
       "      <th>Longitude</th>\n",
       "      <th>MedHouseVal</th>\n",
       "    </tr>\n",
       "  </thead>\n",
       "  <tbody>\n",
       "    <tr>\n",
       "      <th>0</th>\n",
       "      <td>0.539668</td>\n",
       "      <td>0.784314</td>\n",
       "      <td>0.672064</td>\n",
       "      <td>1.023810</td>\n",
       "      <td>322.0</td>\n",
       "      <td>2.555556</td>\n",
       "      <td>37.88</td>\n",
       "      <td>-122.23</td>\n",
       "      <td>4.526</td>\n",
       "    </tr>\n",
       "    <tr>\n",
       "      <th>1</th>\n",
       "      <td>0.538027</td>\n",
       "      <td>0.392157</td>\n",
       "      <td>0.590384</td>\n",
       "      <td>0.971880</td>\n",
       "      <td>2401.0</td>\n",
       "      <td>2.109842</td>\n",
       "      <td>37.86</td>\n",
       "      <td>-122.22</td>\n",
       "      <td>3.585</td>\n",
       "    </tr>\n",
       "    <tr>\n",
       "      <th>2</th>\n",
       "      <td>0.466028</td>\n",
       "      <td>1.000000</td>\n",
       "      <td>0.814844</td>\n",
       "      <td>1.073446</td>\n",
       "      <td>496.0</td>\n",
       "      <td>2.802260</td>\n",
       "      <td>37.85</td>\n",
       "      <td>-122.24</td>\n",
       "      <td>3.521</td>\n",
       "    </tr>\n",
       "    <tr>\n",
       "      <th>3</th>\n",
       "      <td>0.354699</td>\n",
       "      <td>1.000000</td>\n",
       "      <td>0.544311</td>\n",
       "      <td>1.073059</td>\n",
       "      <td>558.0</td>\n",
       "      <td>2.547945</td>\n",
       "      <td>37.85</td>\n",
       "      <td>-122.25</td>\n",
       "      <td>3.413</td>\n",
       "    </tr>\n",
       "    <tr>\n",
       "      <th>4</th>\n",
       "      <td>0.230776</td>\n",
       "      <td>1.000000</td>\n",
       "      <td>0.595170</td>\n",
       "      <td>1.081081</td>\n",
       "      <td>565.0</td>\n",
       "      <td>2.181467</td>\n",
       "      <td>37.85</td>\n",
       "      <td>-122.25</td>\n",
       "      <td>3.422</td>\n",
       "    </tr>\n",
       "  </tbody>\n",
       "</table>\n",
       "</div>"
      ],
      "text/plain": [
       "     MedInc  HouseAge  AveRooms  AveBedrms  Population  AveOccup  Latitude  \\\n",
       "0  0.539668  0.784314  0.672064   1.023810       322.0  2.555556     37.88   \n",
       "1  0.538027  0.392157  0.590384   0.971880      2401.0  2.109842     37.86   \n",
       "2  0.466028  1.000000  0.814844   1.073446       496.0  2.802260     37.85   \n",
       "3  0.354699  1.000000  0.544311   1.073059       558.0  2.547945     37.85   \n",
       "4  0.230776  1.000000  0.595170   1.081081       565.0  2.181467     37.85   \n",
       "\n",
       "   Longitude  MedHouseVal  \n",
       "0    -122.23        4.526  \n",
       "1    -122.22        3.585  \n",
       "2    -122.24        3.521  \n",
       "3    -122.25        3.413  \n",
       "4    -122.25        3.422  "
      ]
     },
     "execution_count": 25,
     "metadata": {},
     "output_type": "execute_result"
    }
   ],
   "source": [
    "# сделаем нормализацию по двум колонкам Population, AveOccup\n",
    "temp = t.copy()\n",
    "x = temp.iloc [:,0:3]\n",
    "temp.iloc [:,0:3] = (x-x. min ())/ (x. max () - x. min ())\n",
    "temp.head()"
   ]
  },
  {
   "cell_type": "code",
   "execution_count": 26,
   "id": "b6415942",
   "metadata": {},
   "outputs": [
    {
     "name": "stdout",
     "output_type": "stream",
     "text": [
      "Mean squared error regression loss train:  0.6723822845613345\n",
      "Regression score function train:  0.6658289258914594\n",
      "Mean squared error regression loss test: 0.6625870081878671\n",
      "Regression score function test:  0.6648591011855218\n"
     ]
    },
    {
     "data": {
      "text/html": [
       "<div>\n",
       "<style scoped>\n",
       "    .dataframe tbody tr th:only-of-type {\n",
       "        vertical-align: middle;\n",
       "    }\n",
       "\n",
       "    .dataframe tbody tr th {\n",
       "        vertical-align: top;\n",
       "    }\n",
       "\n",
       "    .dataframe thead th {\n",
       "        text-align: right;\n",
       "    }\n",
       "</style>\n",
       "<table border=\"1\" class=\"dataframe\">\n",
       "  <thead>\n",
       "    <tr style=\"text-align: right;\">\n",
       "      <th></th>\n",
       "      <th>rmse_train</th>\n",
       "      <th>r2train</th>\n",
       "      <th>rmsetest</th>\n",
       "      <th>r2test</th>\n",
       "    </tr>\n",
       "  </thead>\n",
       "  <tbody>\n",
       "    <tr>\n",
       "      <th>исходная модель</th>\n",
       "      <td>0.723492</td>\n",
       "      <td>0.608897</td>\n",
       "      <td>0.727313</td>\n",
       "      <td>0.594323</td>\n",
       "    </tr>\n",
       "    <tr>\n",
       "      <th>удаление корреляции</th>\n",
       "      <td>0.731419</td>\n",
       "      <td>0.600280</td>\n",
       "      <td>0.741450</td>\n",
       "      <td>0.578399</td>\n",
       "    </tr>\n",
       "    <tr>\n",
       "      <th>удаление выбросов</th>\n",
       "      <td>0.672382</td>\n",
       "      <td>0.665829</td>\n",
       "      <td>0.662587</td>\n",
       "      <td>0.664859</td>\n",
       "    </tr>\n",
       "    <tr>\n",
       "      <th>нормализация</th>\n",
       "      <td>0.672382</td>\n",
       "      <td>0.665829</td>\n",
       "      <td>0.662587</td>\n",
       "      <td>0.664859</td>\n",
       "    </tr>\n",
       "  </tbody>\n",
       "</table>\n",
       "</div>"
      ],
      "text/plain": [
       "                     rmse_train   r2train  rmsetest    r2test\n",
       "исходная модель        0.723492  0.608897  0.727313  0.594323\n",
       "удаление корреляции    0.731419  0.600280  0.741450  0.578399\n",
       "удаление выбросов      0.672382  0.665829  0.662587  0.664859\n",
       "нормализация           0.672382  0.665829  0.662587  0.664859"
      ]
     },
     "execution_count": 26,
     "metadata": {},
     "output_type": "execute_result"
    }
   ],
   "source": [
    "X4 = temp.loc[:, (t.columns != 'MedHouseVal')&(t.columns != 'AveBedrms')]\n",
    "y4 = temp[['MedHouseVal']]\n",
    "rmsetrain, r2train, rmsetest, r2test = metrics(X4, y4)\n",
    "d4 = [{'rmse_train': rmsetrain , 'r2train': r2train, 'rmsetest': rmsetest, 'r2test': r2test} ]\n",
    "dframe4 = pd.DataFrame(d4, index =['нормализация'], columns =['rmse_train', 'r2train', 'rmsetest', 'r2test' ]) \n",
    "itog = pd.concat([dframe1, dframe2, dframe3, dframe4])\n",
    "itog"
   ]
  },
  {
   "cell_type": "markdown",
   "id": "6d467f06",
   "metadata": {},
   "source": [
    "Сформулируйте выводы по проделанной работе.\n",
    "a. Кратко опишите какие преобразования были сделаны с данными.\n",
    "b. Сравните метрики всех моделей. Желательно оформление в виде таблицы вида |модель|RMSE|R2|признаки, на которых проводилось обучение с указанием их преобразований|.\n",
    "c. Напишите свое мнение, в полной ли мере модели справились с поставленной задачей.\n",
    "Для получения зачета по этому домашнему заданию, минимально, должно быть реализовано обучение трех моделей классификации: на основе всех неизмененных признаков; на основе признаков, отобранных по значениям корреляций; на основе признаков, отобранных по значениям корреляций и с удалением выбросов в них. Должны быть выведены метрики RMSE, R2 моделей. Желательно добиться улучшения метрик."
   ]
  },
  {
   "cell_type": "code",
   "execution_count": 27,
   "id": "b64773f5",
   "metadata": {},
   "outputs": [
    {
     "data": {
      "text/plain": [
       "array([[ 0.02384821,  0.11744781,  0.0200066 , ...,  0.0073206 ,\n",
       "         0.10851032, -0.3501377 ],\n",
       "       [ 0.00345241,  0.00873355,  0.00259434, ...,  0.00087745,\n",
       "         0.01574533, -0.05082923],\n",
       "       [ 0.01409205,  0.10097098,  0.01609348, ...,  0.00544129,\n",
       "         0.07349522, -0.23735947],\n",
       "       ...,\n",
       "       [ 0.00167455,  0.01674554,  0.00512762, ...,  0.00229082,\n",
       "         0.0388398 , -0.11940554],\n",
       "       [ 0.00248252,  0.02393171,  0.0070858 , ...,  0.00282289,\n",
       "         0.05242375, -0.16129975],\n",
       "       [ 0.00171478,  0.0114864 ,  0.00377236, ...,  0.00187873,\n",
       "         0.02826372, -0.0870382 ]])"
      ]
     },
     "execution_count": 27,
     "metadata": {},
     "output_type": "execute_result"
    }
   ],
   "source": [
    "\n",
    "from sklearn.preprocessing import Normalizer\n",
    "X5 = data.loc[:, (data.columns != 'MedHouseVal')&(data.columns != 'AveBedrms')]\n",
    "y5 = data[['MedHouseVal']]\n",
    "transformer = Normalizer().fit(X5)\n",
    "transformer\n",
    "transformer.transform(X5)"
   ]
  },
  {
   "cell_type": "code",
   "execution_count": 28,
   "id": "1090e3ce",
   "metadata": {},
   "outputs": [
    {
     "name": "stdout",
     "output_type": "stream",
     "text": [
      "Mean squared error regression loss train:  0.7314188174268145\n",
      "Regression score function train:  0.6002802761968508\n",
      "Mean squared error regression loss test: 0.7414501124382492\n",
      "Regression score function test:  0.5783993232750757\n"
     ]
    },
    {
     "data": {
      "text/html": [
       "<div>\n",
       "<style scoped>\n",
       "    .dataframe tbody tr th:only-of-type {\n",
       "        vertical-align: middle;\n",
       "    }\n",
       "\n",
       "    .dataframe tbody tr th {\n",
       "        vertical-align: top;\n",
       "    }\n",
       "\n",
       "    .dataframe thead th {\n",
       "        text-align: right;\n",
       "    }\n",
       "</style>\n",
       "<table border=\"1\" class=\"dataframe\">\n",
       "  <thead>\n",
       "    <tr style=\"text-align: right;\">\n",
       "      <th></th>\n",
       "      <th>rmse_train</th>\n",
       "      <th>r2train</th>\n",
       "      <th>rmsetest</th>\n",
       "      <th>r2test</th>\n",
       "    </tr>\n",
       "  </thead>\n",
       "  <tbody>\n",
       "    <tr>\n",
       "      <th>исходная модель</th>\n",
       "      <td>0.723492</td>\n",
       "      <td>0.608897</td>\n",
       "      <td>0.727313</td>\n",
       "      <td>0.594323</td>\n",
       "    </tr>\n",
       "    <tr>\n",
       "      <th>удаление корреляции</th>\n",
       "      <td>0.731419</td>\n",
       "      <td>0.600280</td>\n",
       "      <td>0.741450</td>\n",
       "      <td>0.578399</td>\n",
       "    </tr>\n",
       "    <tr>\n",
       "      <th>удаление выбросов</th>\n",
       "      <td>0.672382</td>\n",
       "      <td>0.665829</td>\n",
       "      <td>0.662587</td>\n",
       "      <td>0.664859</td>\n",
       "    </tr>\n",
       "    <tr>\n",
       "      <th>нормализация</th>\n",
       "      <td>0.672382</td>\n",
       "      <td>0.665829</td>\n",
       "      <td>0.662587</td>\n",
       "      <td>0.664859</td>\n",
       "    </tr>\n",
       "    <tr>\n",
       "      <th>Normalizer sklearn без удаление выбросов</th>\n",
       "      <td>0.731419</td>\n",
       "      <td>0.600280</td>\n",
       "      <td>0.741450</td>\n",
       "      <td>0.578399</td>\n",
       "    </tr>\n",
       "  </tbody>\n",
       "</table>\n",
       "</div>"
      ],
      "text/plain": [
       "                                          rmse_train   r2train  rmsetest  \\\n",
       "исходная модель                             0.723492  0.608897  0.727313   \n",
       "удаление корреляции                         0.731419  0.600280  0.741450   \n",
       "удаление выбросов                           0.672382  0.665829  0.662587   \n",
       "нормализация                                0.672382  0.665829  0.662587   \n",
       "Normalizer sklearn без удаление выбросов    0.731419  0.600280  0.741450   \n",
       "\n",
       "                                            r2test  \n",
       "исходная модель                           0.594323  \n",
       "удаление корреляции                       0.578399  \n",
       "удаление выбросов                         0.664859  \n",
       "нормализация                              0.664859  \n",
       "Normalizer sklearn без удаление выбросов  0.578399  "
      ]
     },
     "execution_count": 28,
     "metadata": {},
     "output_type": "execute_result"
    }
   ],
   "source": [
    "rmsetrain, r2train, rmsetest, r2test = metrics(X5, y5)\n",
    "d5 = [{'rmse_train': rmsetrain , 'r2train': r2train, 'rmsetest': rmsetest, 'r2test': r2test} ] \n",
    "dframe5 = pd.DataFrame(d5, index =['Normalizer sklearn без удаление выбросов'], columns =['rmse_train', 'r2train', 'rmsetest', 'r2test' ]) \n",
    "itog = pd.concat([dframe1, dframe2, dframe3, dframe4, dframe5])\n",
    "itog"
   ]
  },
  {
   "cell_type": "code",
   "execution_count": 29,
   "id": "0d7b4e10",
   "metadata": {},
   "outputs": [
    {
     "name": "stdout",
     "output_type": "stream",
     "text": [
      "Mean squared error regression loss train:  0.7314188174268145\n",
      "Regression score function train:  0.6002802761968508\n",
      "Mean squared error regression loss test: 0.7414501124382501\n",
      "Regression score function test:  0.5783993232750746\n"
     ]
    },
    {
     "data": {
      "text/html": [
       "<div>\n",
       "<style scoped>\n",
       "    .dataframe tbody tr th:only-of-type {\n",
       "        vertical-align: middle;\n",
       "    }\n",
       "\n",
       "    .dataframe tbody tr th {\n",
       "        vertical-align: top;\n",
       "    }\n",
       "\n",
       "    .dataframe thead th {\n",
       "        text-align: right;\n",
       "    }\n",
       "</style>\n",
       "<table border=\"1\" class=\"dataframe\">\n",
       "  <thead>\n",
       "    <tr style=\"text-align: right;\">\n",
       "      <th></th>\n",
       "      <th>rmse_train</th>\n",
       "      <th>r2train</th>\n",
       "      <th>rmsetest</th>\n",
       "      <th>r2test</th>\n",
       "    </tr>\n",
       "  </thead>\n",
       "  <tbody>\n",
       "    <tr>\n",
       "      <th>нормализация</th>\n",
       "      <td>0.672382</td>\n",
       "      <td>0.665829</td>\n",
       "      <td>0.662587</td>\n",
       "      <td>0.664859</td>\n",
       "    </tr>\n",
       "    <tr>\n",
       "      <th>удаление выбросов</th>\n",
       "      <td>0.672382</td>\n",
       "      <td>0.665829</td>\n",
       "      <td>0.662587</td>\n",
       "      <td>0.664859</td>\n",
       "    </tr>\n",
       "    <tr>\n",
       "      <th>исходная модель</th>\n",
       "      <td>0.723492</td>\n",
       "      <td>0.608897</td>\n",
       "      <td>0.727313</td>\n",
       "      <td>0.594323</td>\n",
       "    </tr>\n",
       "    <tr>\n",
       "      <th>удаление корреляции</th>\n",
       "      <td>0.731419</td>\n",
       "      <td>0.600280</td>\n",
       "      <td>0.741450</td>\n",
       "      <td>0.578399</td>\n",
       "    </tr>\n",
       "    <tr>\n",
       "      <th>Normalizer sklearn без удаление выбросов</th>\n",
       "      <td>0.731419</td>\n",
       "      <td>0.600280</td>\n",
       "      <td>0.741450</td>\n",
       "      <td>0.578399</td>\n",
       "    </tr>\n",
       "    <tr>\n",
       "      <th>StandardScaler sklearn без удаление выбросов</th>\n",
       "      <td>0.731419</td>\n",
       "      <td>0.600280</td>\n",
       "      <td>0.741450</td>\n",
       "      <td>0.578399</td>\n",
       "    </tr>\n",
       "  </tbody>\n",
       "</table>\n",
       "</div>"
      ],
      "text/plain": [
       "                                              rmse_train   r2train  rmsetest  \\\n",
       "нормализация                                    0.672382  0.665829  0.662587   \n",
       "удаление выбросов                               0.672382  0.665829  0.662587   \n",
       "исходная модель                                 0.723492  0.608897  0.727313   \n",
       "удаление корреляции                             0.731419  0.600280  0.741450   \n",
       "Normalizer sklearn без удаление выбросов        0.731419  0.600280  0.741450   \n",
       "StandardScaler sklearn без удаление выбросов    0.731419  0.600280  0.741450   \n",
       "\n",
       "                                                r2test  \n",
       "нормализация                                  0.664859  \n",
       "удаление выбросов                             0.664859  \n",
       "исходная модель                               0.594323  \n",
       "удаление корреляции                           0.578399  \n",
       "Normalizer sklearn без удаление выбросов      0.578399  \n",
       "StandardScaler sklearn без удаление выбросов  0.578399  "
      ]
     },
     "execution_count": 29,
     "metadata": {},
     "output_type": "execute_result"
    }
   ],
   "source": [
    "from sklearn.preprocessing import StandardScaler\n",
    "scaler = StandardScaler()\n",
    "X6 = data.loc[:, (data.columns != 'MedHouseVal')&(data.columns != 'AveBedrms')]\n",
    "y6 = data[['MedHouseVal']]\n",
    "X6 = scaler.fit_transform(X6)\n",
    "\n",
    "rmsetrain, r2train, rmsetest, r2test = metrics(X6, y6)\n",
    "d6 = [{'rmse_train': rmsetrain , 'r2train': r2train, 'rmsetest': rmsetest, 'r2test': r2test} ] \n",
    "dframe6 = pd.DataFrame(d6, index =['StandardScaler sklearn без удаление выбросов'], columns =['rmse_train', 'r2train', 'rmsetest', 'r2test' ]) \n",
    "itog = pd.concat([dframe1, dframe2, dframe3, dframe4, dframe5, dframe6])\n",
    "itog = itog.sort_values (by = ['r2train', 'r2test'], ascending=False)\n",
    "itog"
   ]
  },
  {
   "cell_type": "markdown",
   "id": "b4b15238",
   "metadata": {},
   "source": [
    "Лучшие результаты по метрикам получились при использовании  инструментов удаление выбросов и нормализации (не встроенные функции)"
   ]
  },
  {
   "cell_type": "code",
   "execution_count": null,
   "id": "65dc6082",
   "metadata": {},
   "outputs": [],
   "source": []
  }
 ],
 "metadata": {
  "kernelspec": {
   "display_name": "Python 3 (ipykernel)",
   "language": "python",
   "name": "python3"
  },
  "language_info": {
   "codemirror_mode": {
    "name": "ipython",
    "version": 3
   },
   "file_extension": ".py",
   "mimetype": "text/x-python",
   "name": "python",
   "nbconvert_exporter": "python",
   "pygments_lexer": "ipython3",
   "version": "3.11.5"
  }
 },
 "nbformat": 4,
 "nbformat_minor": 5
}
