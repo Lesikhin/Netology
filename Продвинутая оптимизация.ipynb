{
 "cells": [
  {
   "cell_type": "code",
   "execution_count": 1,
   "id": "ce8024cc",
   "metadata": {},
   "outputs": [],
   "source": [
    "import numpy as np\n",
    "from scipy.optimize import differential_evolution\n",
    "import matplotlib.pyplot as plt\n",
    "\n",
    "%matplotlib inline"
   ]
  },
  {
   "cell_type": "code",
   "execution_count": 2,
   "id": "1a146909",
   "metadata": {},
   "outputs": [
    {
     "data": {
      "text/plain": [
       "     fun: 4.440892098500626e-16\n",
       " message: 'Optimization terminated successfully.'\n",
       "    nfev: 2793\n",
       "     nit: 90\n",
       " success: True\n",
       "       x: array([0., 0.])"
      ]
     },
     "execution_count": 2,
     "metadata": {},
     "output_type": "execute_result"
    }
   ],
   "source": [
    "def ackley(x):\n",
    "    arg1 = -0.2 * np.sqrt(0.5 * (x[0] ** 2 + x[1] ** 2))\n",
    "    arg2 = 0.5 * (np.cos(2. * np.pi * x[0]) + np.cos(2. * np.pi * x[1]))\n",
    "    return -20. * np.exp(arg1) - np.exp(arg2) + 20. + np.e\n",
    "\n",
    "bounds = [(-10, 10), (-10, 10)]\n",
    "\n",
    "result = differential_evolution(ackley, bounds, seed=42)\n",
    "result"
   ]
  },
  {
   "cell_type": "markdown",
   "id": "3e271fc6",
   "metadata": {},
   "source": [
    "поэкспериментируйте с параметрами алгоритма differential_evolution: strategy, popsize, mutation\n",
    "The differential evolution strategy to use. Should be one of:\n",
    "‘best1bin’\n",
    "‘best1exp’\n",
    "‘rand1exp’\n",
    "‘randtobest1exp’\n",
    "‘currenttobest1exp’\n",
    "‘best2exp’\n",
    "‘rand2exp’\n",
    "‘randtobest1bin’\n",
    "‘currenttobest1bin’\n",
    "‘best2bin’\n",
    "‘rand2bin’\n",
    "‘rand1bin’"
   ]
  },
  {
   "cell_type": "code",
   "execution_count": 3,
   "id": "99f0b620",
   "metadata": {},
   "outputs": [],
   "source": [
    "st = [\n",
    "'best1bin',\n",
    "'best1exp',\n",
    "'rand1exp',\n",
    "'randtobest1exp',\n",
    "'currenttobest1exp',\n",
    "'best2exp',\n",
    "'rand2exp',\n",
    "'randtobest1bin',\n",
    "'currenttobest1bin',\n",
    "'best2bin',\n",
    "'rand2bin',\n",
    "'rand1bin'   \n",
    "]"
   ]
  },
  {
   "cell_type": "code",
   "execution_count": 4,
   "id": "8aa45ba2",
   "metadata": {},
   "outputs": [
    {
     "data": {
      "text/plain": [
       "     fun: 4.440892098500626e-16\n",
       " message: 'Optimization terminated successfully.'\n",
       "    nfev: 5073\n",
       "     nit: 166\n",
       " success: True\n",
       "       x: array([0., 0.])"
      ]
     },
     "execution_count": 4,
     "metadata": {},
     "output_type": "execute_result"
    }
   ],
   "source": [
    "result = differential_evolution(ackley, bounds,  strategy='best2bin', seed=42)\n",
    "result"
   ]
  },
  {
   "cell_type": "code",
   "execution_count": 5,
   "id": "47d44992",
   "metadata": {},
   "outputs": [
    {
     "data": {
      "text/plain": [
       "166"
      ]
     },
     "execution_count": 5,
     "metadata": {},
     "output_type": "execute_result"
    }
   ],
   "source": [
    "result.nit"
   ]
  },
  {
   "cell_type": "code",
   "execution_count": 6,
   "id": "84a0e40a",
   "metadata": {},
   "outputs": [
    {
     "name": "stdout",
     "output_type": "stream",
     "text": [
      "Strategy =  best1bin , Message :  Optimization terminated successfully. , nit =  90 , x =  [0. 0.]\n",
      "Strategy =  best1exp , Message :  Optimization terminated successfully. , nit =  147 , x =  [0. 0.]\n",
      "Strategy =  rand1exp , Message :  Optimization terminated successfully. , nit =  246 , x =  [0. 0.]\n",
      "Strategy =  randtobest1exp , Message :  Optimization terminated successfully. , nit =  156 , x =  [0. 0.]\n",
      "Strategy =  currenttobest1exp , Message :  Maximum number of iterations has been exceeded. , nit =  1000 , x =  [0. 0.]\n",
      "Strategy =  best2exp , Message :  Optimization terminated successfully. , nit =  244 , x =  [0. 0.]\n",
      "Strategy =  rand2exp , Message :  Optimization terminated successfully. , nit =  341 , x =  [0. 0.]\n",
      "Strategy =  randtobest1bin , Message :  Optimization terminated successfully. , nit =  101 , x =  [0. 0.]\n",
      "Strategy =  currenttobest1bin , Message :  Maximum number of iterations has been exceeded. , nit =  1000 , x =  [0. 0.]\n",
      "Strategy =  best2bin , Message :  Optimization terminated successfully. , nit =  166 , x =  [0. 0.]\n",
      "Strategy =  rand2bin , Message :  Optimization terminated successfully. , nit =  232 , x =  [0. 0.]\n",
      "Strategy =  rand1bin , Message :  Optimization terminated successfully. , nit =  168 , x =  [0. 0.]\n"
     ]
    }
   ],
   "source": [
    "for i in st:\n",
    "    result = differential_evolution(ackley, bounds,  strategy=i, seed=42)\n",
    "    print ('Strategy = ', i, ', Message : ', result.message,', nit = ', result.nit, ', x = ', result.x )"
   ]
  },
  {
   "cell_type": "code",
   "execution_count": 7,
   "id": "97997c2b",
   "metadata": {},
   "outputs": [
    {
     "name": "stdout",
     "output_type": "stream",
     "text": [
      "Strategy =  best1bin , Message :  Optimization terminated successfully. , nit =  13 , x =  [ 1.30536302e-09 -3.06323007e-09]\n",
      "Strategy =  best1exp , Message :  Optimization terminated successfully. , nit =  10 , x =  [-2.10666760e-08  9.52166436e-01]\n",
      "Strategy =  rand1exp , Message :  Optimization terminated successfully. , nit =  42 , x =  [ 9.52166533e-01 -3.10046562e-09]\n",
      "Strategy =  randtobest1exp , Message :  Optimization terminated successfully. , nit =  19 , x =  [-2.05112714e-09 -6.05856129e-09]\n",
      "Strategy =  currenttobest1exp , Message :  Optimization terminated successfully. , nit =  10 , x =  [-2.91990985e-08  9.52166429e-01]\n",
      "Strategy =  best2exp , Message :  Optimization terminated successfully. , nit =  54 , x =  [-0.00334679  0.12258096]\n",
      "Strategy =  rand2exp , Message :  Maximum number of iterations has been exceeded. , nit =  1000 , x =  [-1.98599060e-14 -3.14942599e-12]\n",
      "Strategy =  randtobest1bin , Message :  Optimization terminated successfully. , nit =  22 , x =  [-9.52166533e-01  1.96071927e-07]\n",
      "Strategy =  currenttobest1bin , Message :  Optimization terminated successfully. , nit =  13 , x =  [ 1.35380315e-09 -3.01620191e-09]\n",
      "Strategy =  best2bin , Message :  Optimization terminated successfully. , nit =  43 , x =  [-4.99717803e-09 -4.98663850e-09]\n",
      "Strategy =  rand2bin , Message :  Maximum number of iterations has been exceeded. , nit =  1000 , x =  [-1.41286982e-10  4.44089210e-15]\n",
      "Strategy =  rand1bin , Message :  Optimization terminated successfully. , nit =  13 , x =  [-5.13940622e-09 -2.94096426e-10]\n"
     ]
    }
   ],
   "source": [
    "nit = []\n",
    "for i in st:\n",
    "    result = differential_evolution(ackley, bounds,  strategy=i, seed=42, popsize = 3, mutation =1)\n",
    "    print ('Strategy = ', i, ', Message : ', result.message,', nit = ', result.nit , ', x = ', result.x)\n",
    "    nit.append(result.nit)\n",
    "    "
   ]
  },
  {
   "cell_type": "code",
   "execution_count": 8,
   "id": "83e86369",
   "metadata": {},
   "outputs": [
    {
     "data": {
      "image/png": "[encoded data removed]",
      "text/plain": [
       "<Figure size 1152x648 with 1 Axes>"
      ]
     },
     "metadata": {
      "needs_background": "light"
     },
     "output_type": "display_data"
    }
   ],
   "source": [
    "plt.rcParams ['figure.figsize'] = [16, 9]\n",
    "plt.xticks(rotation=90)\n",
    "plt.bar(st, nit,color = 'blue')   \n",
    "plt.title('Зависимость nit от стратегии при popsize = 3, mutation =1')   \n",
    "plt.xlabel('strategy')   \n",
    "plt.ylabel('nit')   \n",
    "plt.show()   \n"
   ]
  },
  {
   "cell_type": "code",
   "execution_count": null,
   "id": "dfac504d",
   "metadata": {},
   "outputs": [],
   "source": []
  }
 ],
 "metadata": {
  "kernelspec": {
   "display_name": "Python 3 (ipykernel)",
   "language": "python",
   "name": "python3"
  },
  "language_info": {
   "codemirror_mode": {
    "name": "ipython",
    "version": 3
   },
   "file_extension": ".py",
   "mimetype": "text/x-python",
   "name": "python",
   "nbconvert_exporter": "python",
   "pygments_lexer": "ipython3",
   "version": "3.9.12"
  }
 },
 "nbformat": 4,
 "nbformat_minor": 5
}
