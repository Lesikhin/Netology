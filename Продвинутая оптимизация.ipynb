{
 "cells": [
  {
   "cell_type": "code",
   "execution_count": 1,
   "id": "aa443007",
   "metadata": {},
   "outputs": [],
   "source": [
    "import numpy as np\n",
    "from scipy.optimize import differential_evolution\n",
    "import matplotlib.pyplot as plt\n",
    "\n",
    "%matplotlib inline"
   ]
  },
  {
   "cell_type": "code",
   "execution_count": 2,
   "id": "df6799b6",
   "metadata": {},
   "outputs": [
    {
     "data": {
      "text/plain": [
       "     fun: 4.440892098500626e-16\n",
       " message: 'Optimization terminated successfully.'\n",
       "    nfev: 2793\n",
       "     nit: 90\n",
       " success: True\n",
       "       x: array([0., 0.])"
      ]
     },
     "execution_count": 2,
     "metadata": {},
     "output_type": "execute_result"
    }
   ],
   "source": [
    "def ackley(x):\n",
    "    arg1 = -0.2 * np.sqrt(0.5 * (x[0] ** 2 + x[1] ** 2))\n",
    "    arg2 = 0.5 * (np.cos(2. * np.pi * x[0]) + np.cos(2. * np.pi * x[1]))\n",
    "    return -20. * np.exp(arg1) - np.exp(arg2) + 20. + np.e\n",
    "\n",
    "bounds = [(-10, 10), (-10, 10)]\n",
    "\n",
    "result = differential_evolution(ackley, bounds, seed=42)\n",
    "result"
   ]
  },
  {
   "cell_type": "markdown",
   "id": "6b19235c",
   "metadata": {},
   "source": [
    "поэкспериментируйте с параметрами алгоритма differential_evolution: strategy, popsize, mutation\n",
    "The differential evolution strategy to use. Should be one of:\n",
    "‘best1bin’\n",
    "‘best1exp’\n",
    "‘rand1exp’\n",
    "‘randtobest1exp’\n",
    "‘currenttobest1exp’\n",
    "‘best2exp’\n",
    "‘rand2exp’\n",
    "‘randtobest1bin’\n",
    "‘currenttobest1bin’\n",
    "‘best2bin’\n",
    "‘rand2bin’\n",
    "‘rand1bin’"
   ]
  },
  {
   "cell_type": "code",
   "execution_count": 3,
   "id": "312b6a17",
   "metadata": {},
   "outputs": [],
   "source": [
    "st = [\n",
    "'best1bin',\n",
    "'best1exp',\n",
    "'rand1exp',\n",
    "'randtobest1exp',\n",
    "'currenttobest1exp',\n",
    "'best2exp',\n",
    "'rand2exp',\n",
    "'randtobest1bin',\n",
    "'currenttobest1bin',\n",
    "'best2bin',\n",
    "'rand2bin',\n",
    "'rand1bin'   \n",
    "]"
   ]
  },
  {
   "cell_type": "code",
   "execution_count": 4,
   "id": "cf8a36c2",
   "metadata": {},
   "outputs": [
    {
     "data": {
      "text/plain": [
       "     fun: 4.440892098500626e-16\n",
       " message: 'Optimization terminated successfully.'\n",
       "    nfev: 5073\n",
       "     nit: 166\n",
       " success: True\n",
       "       x: array([0., 0.])"
      ]
     },
     "execution_count": 4,
     "metadata": {},
     "output_type": "execute_result"
    }
   ],
   "source": [
    "result = differential_evolution(ackley, bounds,  strategy='best2bin', seed=42)\n",
    "result"
   ]
  },
  {
   "cell_type": "code",
   "execution_count": 5,
   "id": "46d010a3",
   "metadata": {},
   "outputs": [
    {
     "data": {
      "text/plain": [
       "166"
      ]
     },
     "execution_count": 5,
     "metadata": {},
     "output_type": "execute_result"
    }
   ],
   "source": [
    "result.nit"
   ]
  },
  {
   "cell_type": "code",
   "execution_count": 6,
   "id": "22b9e49f",
   "metadata": {},
   "outputs": [
    {
     "name": "stdout",
     "output_type": "stream",
     "text": [
      "Strategy =  best1bin , Message :  Optimization terminated successfully. , nit =  90 , x =  [0. 0.]\n",
      "Strategy =  best1exp , Message :  Optimization terminated successfully. , nit =  147 , x =  [0. 0.]\n",
      "Strategy =  rand1exp , Message :  Optimization terminated successfully. , nit =  246 , x =  [0. 0.]\n",
      "Strategy =  randtobest1exp , Message :  Optimization terminated successfully. , nit =  156 , x =  [0. 0.]\n",
      "Strategy =  currenttobest1exp , Message :  Maximum number of iterations has been exceeded. , nit =  1000 , x =  [0. 0.]\n",
      "Strategy =  best2exp , Message :  Optimization terminated successfully. , nit =  244 , x =  [0. 0.]\n",
      "Strategy =  rand2exp , Message :  Optimization terminated successfully. , nit =  341 , x =  [0. 0.]\n",
      "Strategy =  randtobest1bin , Message :  Optimization terminated successfully. , nit =  101 , x =  [0. 0.]\n",
      "Strategy =  currenttobest1bin , Message :  Maximum number of iterations has been exceeded. , nit =  1000 , x =  [0. 0.]\n",
      "Strategy =  best2bin , Message :  Optimization terminated successfully. , nit =  166 , x =  [0. 0.]\n",
      "Strategy =  rand2bin , Message :  Optimization terminated successfully. , nit =  232 , x =  [0. 0.]\n",
      "Strategy =  rand1bin , Message :  Optimization terminated successfully. , nit =  168 , x =  [0. 0.]\n"
     ]
    }
   ],
   "source": [
    "for i in st:\n",
    "    result = differential_evolution(ackley, bounds,  strategy=i, seed=42)\n",
    "    print ('Strategy = ', i, ', Message : ', result.message,', nit = ', result.nit, ', x = ', result.x )"
   ]
  },
  {
   "cell_type": "code",
   "execution_count": 7,
   "id": "9e4c6e00",
   "metadata": {},
   "outputs": [
    {
     "name": "stdout",
     "output_type": "stream",
     "text": [
      "Strategy =  best1bin , Message :  Optimization terminated successfully. , nit =  13 , x =  [ 1.30536302e-09 -3.06323007e-09]\n",
      "Strategy =  best1exp , Message :  Optimization terminated successfully. , nit =  10 , x =  [-2.10666760e-08  9.52166436e-01]\n",
      "Strategy =  rand1exp , Message :  Optimization terminated successfully. , nit =  42 , x =  [ 9.52166533e-01 -3.10046562e-09]\n",
      "Strategy =  randtobest1exp , Message :  Optimization terminated successfully. , nit =  19 , x =  [-2.05112714e-09 -6.05856129e-09]\n",
      "Strategy =  currenttobest1exp , Message :  Optimization terminated successfully. , nit =  10 , x =  [-2.91990985e-08  9.52166429e-01]\n",
      "Strategy =  best2exp , Message :  Optimization terminated successfully. , nit =  54 , x =  [-0.00334679  0.12258096]\n",
      "Strategy =  rand2exp , Message :  Maximum number of iterations has been exceeded. , nit =  1000 , x =  [-1.98599060e-14 -3.14942599e-12]\n",
      "Strategy =  randtobest1bin , Message :  Optimization terminated successfully. , nit =  22 , x =  [-9.52166533e-01  1.96071927e-07]\n",
      "Strategy =  currenttobest1bin , Message :  Optimization terminated successfully. , nit =  13 , x =  [ 1.35380315e-09 -3.01620191e-09]\n",
      "Strategy =  best2bin , Message :  Optimization terminated successfully. , nit =  43 , x =  [-4.99717803e-09 -4.98663850e-09]\n",
      "Strategy =  rand2bin , Message :  Maximum number of iterations has been exceeded. , nit =  1000 , x =  [-1.41286982e-10  4.44089210e-15]\n",
      "Strategy =  rand1bin , Message :  Optimization terminated successfully. , nit =  13 , x =  [-5.13940622e-09 -2.94096426e-10]\n"
     ]
    }
   ],
   "source": [
    "nit = []\n",
    "for i in st:\n",
    "    result = differential_evolution(ackley, bounds,  strategy=i, seed=42, popsize = 3, mutation =1)\n",
    "    print ('Strategy = ', i, ', Message : ', result.message,', nit = ', result.nit , ', x = ', result.x)\n",
    "    nit.append(result.nit)\n",
    "    "
   ]
  },
  {
   "cell_type": "code",
   "execution_count": 8,
   "id": "4d32cf46",
   "metadata": {},
   "outputs": [
    {
     "data": {
      "image/png": "[encoded data removed]",
      "text/plain": [
       "<Figure size 1152x648 with 1 Axes>"
      ]
     },
     "metadata": {
      "needs_background": "light"
     },
     "output_type": "display_data"
    }
   ],
   "source": [
    "plt.rcParams ['figure.figsize'] = [16, 9]\n",
    "plt.xticks(rotation=90)\n",
    "plt.bar(st, nit,color = 'blue')   \n",
    "plt.title('Зависимость nit от стратегии при popsize = 3, mutation =1')   \n",
    "plt.xlabel('strategy')   \n",
    "plt.ylabel('nit')   \n",
    "plt.show()   \n"
   ]
  },
  {
   "cell_type": "code",
   "execution_count": 12,
   "id": "169b408a",
   "metadata": {},
   "outputs": [
    {
     "name": "stdout",
     "output_type": "stream",
     "text": [
      "Strategy =  best1bin , Message :  Optimization terminated successfully. , nit =  43 , x =  [-1.25508626e-09 -2.97514121e-10]\n",
      "Strategy =  best1exp , Message :  Optimization terminated successfully. , nit =  23 , x =  [ 9.52166543e-01 -2.76815444e-08]\n",
      "Strategy =  rand1exp , Message :  Optimization terminated successfully. , nit =  304 , x =  [-5.10573866e-09 -5.07940028e-09]\n",
      "Strategy =  randtobest1exp , Message :  Optimization terminated successfully. , nit =  733 , x =  [ 0.00000000e+00 -2.22044605e-15]\n",
      "Strategy =  currenttobest1exp , Message :  Maximum number of iterations has been exceeded. , nit =  1000 , x =  [-2.72441261e-09  1.42859873e-09]\n",
      "Strategy =  best2exp , Message :  Maximum number of iterations has been exceeded. , nit =  1000 , x =  [-6.71784850e-11 -8.28970226e-11]\n",
      "Strategy =  rand2exp , Message :  Maximum number of iterations has been exceeded. , nit =  1000 , x =  [-4.52934946e-10  4.51650468e-10]\n",
      "Strategy =  randtobest1bin , Message :  Optimization terminated successfully. , nit =  245 , x =  [-5.04733347e-09  3.09917063e-11]\n",
      "Strategy =  currenttobest1bin , Message :  Maximum number of iterations has been exceeded. , nit =  1000 , x =  [-1.77635684e-14  0.00000000e+00]\n",
      "Strategy =  best2bin , Message :  Optimization terminated successfully. , nit =  836 , x =  [-2.22044605e-15  2.22044605e-15]\n",
      "Strategy =  rand2bin , Message :  Maximum number of iterations has been exceeded. , nit =  1000 , x =  [-4.36710123e-09 -3.82199719e-09]\n",
      "Strategy =  rand1bin , Message :  Optimization terminated successfully. , nit =  75 , x =  [-4.71136040e-09 -4.77694155e-09]\n"
     ]
    },
    {
     "data": {
      "image/png": "[encoded data removed]",
      "text/plain": [
       "<Figure size 1152x648 with 1 Axes>"
      ]
     },
     "metadata": {
      "needs_background": "light"
     },
     "output_type": "display_data"
    }
   ],
   "source": [
    "nit = []\n",
    "for i in st:\n",
    "    result = differential_evolution(ackley, bounds,  strategy=i, seed=42, popsize = 3, mutation =1.95)\n",
    "    print ('Strategy = ', i, ', Message : ', result.message,', nit = ', result.nit , ', x = ', result.x)\n",
    "    nit.append(result.nit)\n",
    "plt.rcParams ['figure.figsize'] = [16, 9]\n",
    "plt.xticks(rotation=90)\n",
    "plt.bar(st, nit,color = 'blue')   \n",
    "plt.title('Зависимость nit от стратегии при popsize = 3, mutation =1.95')   \n",
    "plt.xlabel('strategy')   \n",
    "plt.ylabel('nit')   \n",
    "plt.show() "
   ]
  },
  {
   "cell_type": "markdown",
   "id": "f02f61a4",
   "metadata": {},
   "source": [
    "что-то рабочее получается при popsize = 3, mutation =1"
   ]
  },
  {
   "cell_type": "markdown",
   "id": "2c0712de",
   "metadata": {},
   "source": [
    "Поэкспериментируйте с параметрами и оптимизацией через minimize:"
   ]
  },
  {
   "cell_type": "code",
   "execution_count": 9,
   "id": "16cb7979",
   "metadata": {},
   "outputs": [
    {
     "data": {
      "text/plain": [
       " final_simplex: (array([[ 0.00000000e+00,  0.00000000e+00],\n",
       "       [-1.60675049e-05, -8.45336914e-06],\n",
       "       [-1.40380859e-06, -3.11279297e-05]]), array([4.44089210e-16, 5.13604405e-05, 8.81584216e-05]))\n",
       "           fun: 4.440892098500626e-16\n",
       "       message: 'Optimization terminated successfully.'\n",
       "          nfev: 17\n",
       "           nit: 8\n",
       "        status: 0\n",
       "       success: True\n",
       "             x: array([0., 0.])"
      ]
     },
     "execution_count": 9,
     "metadata": {},
     "output_type": "execute_result"
    }
   ],
   "source": [
    "from scipy.optimize import minimize\n",
    "\n",
    "x0 = [0,0]\n",
    "\n",
    "result_m = minimize(ackley, x0,  method='Nelder-Mead')\n",
    "result_m"
   ]
  },
  {
   "cell_type": "code",
   "execution_count": 10,
   "id": "c3849fc0",
   "metadata": {},
   "outputs": [],
   "source": [
    "met = [\n",
    "'BFGS',\n",
    "'CG',\n",
    "'Nelder-Mead',\n",
    "'Powell',\n",
    "'SLSQP',\n",
    "'TNC',\n",
    "'trust-constr']"
   ]
  },
  {
   "cell_type": "code",
   "execution_count": 11,
   "id": "7dbc350d",
   "metadata": {},
   "outputs": [
    {
     "name": "stdout",
     "output_type": "stream",
     "text": [
      "Method:  BFGS\n",
      "      fun: 4.440892098500626e-16\n",
      " hess_inv: array([[1, 0],\n",
      "       [0, 1]])\n",
      "      jac: array([2.82842755, 2.82842755])\n",
      "  message: 'Desired error not necessarily achieved due to precision loss.'\n",
      "     nfev: 165\n",
      "      nit: 0\n",
      "     njev: 51\n",
      "   status: 2\n",
      "  success: False\n",
      "        x: array([0., 0.])\n",
      "--------------------------\n",
      "Method:  CG\n",
      "     fun: 4.440892098500626e-16\n",
      "     jac: array([2.82842755, 2.82842755])\n",
      " message: 'Desired error not necessarily achieved due to precision loss.'\n",
      "    nfev: 165\n",
      "     nit: 0\n",
      "    njev: 51\n",
      "  status: 2\n",
      " success: False\n",
      "       x: array([0., 0.])\n",
      "--------------------------\n",
      "Method:  Nelder-Mead\n",
      " final_simplex: (array([[ 0.00000000e+00,  0.00000000e+00],\n",
      "       [-1.60675049e-05, -8.45336914e-06],\n",
      "       [-1.40380859e-06, -3.11279297e-05]]), array([4.44089210e-16, 5.13604405e-05, 8.81584216e-05]))\n",
      "           fun: 4.440892098500626e-16\n",
      "       message: 'Optimization terminated successfully.'\n",
      "          nfev: 17\n",
      "           nit: 8\n",
      "        status: 0\n",
      "       success: True\n",
      "             x: array([0., 0.])\n",
      "--------------------------\n",
      "Method:  Powell\n",
      "   direc: array([[1., 0.],\n",
      "       [0., 1.]])\n",
      "     fun: 4.440892098500626e-16\n",
      " message: 'Optimization terminated successfully.'\n",
      "    nfev: 63\n",
      "     nit: 1\n",
      "  status: 0\n",
      " success: True\n",
      "       x: array([0., 0.])\n",
      "--------------------------\n",
      "Method:  SLSQP\n",
      "     fun: 3.605866716327455e-10\n",
      "     jac: array([-1.84288955, -1.84288955])\n",
      " message: 'Optimization terminated successfully'\n",
      "    nfev: 30\n",
      "     nit: 5\n",
      "    njev: 5\n",
      "  status: 0\n",
      " success: True\n",
      "       x: array([-9.01466425e-11, -9.01469759e-11])\n",
      "--------------------------\n",
      "Method:  TNC\n",
      "     fun: 4.440892098500626e-16\n",
      "     jac: array([2.82842727, 2.82842727])\n",
      " message: 'Linear search failed'\n",
      "    nfev: 18\n",
      "     nit: 0\n",
      "  status: 4\n",
      " success: False\n",
      "       x: array([0., 0.])\n",
      "--------------------------\n",
      "Method:  trust-constr\n",
      "         cg_niter: 26\n",
      "     cg_stop_cond: 2\n",
      "           constr: []\n",
      "      constr_nfev: []\n",
      "      constr_nhev: []\n",
      "      constr_njev: []\n",
      "   constr_penalty: 1.0\n",
      " constr_violation: 0\n",
      "   execution_time: 0.020308971405029297\n",
      "              fun: 4.440892098500626e-16\n",
      "             grad: array([2.82842755, 2.82842755])\n",
      "              jac: []\n",
      "  lagrangian_grad: array([2.82842755, 2.82842755])\n",
      "          message: '`xtol` termination condition is satisfied.'\n",
      "           method: 'equality_constrained_sqp'\n",
      "             nfev: 81\n",
      "             nhev: 0\n",
      "              nit: 27\n",
      "            niter: 27\n",
      "             njev: 27\n",
      "       optimality: 2.82842755317688\n",
      "           status: 2\n",
      "          success: True\n",
      "        tr_radius: 5.9722439633672185e-09\n",
      "                v: []\n",
      "                x: array([0., 0.])\n",
      "--------------------------\n"
     ]
    }
   ],
   "source": [
    "for i in met:\n",
    "    result_m = minimize(ackley, x0,  method=i, )\n",
    "    print ('Method: ', i)\n",
    "    print(result_m)\n",
    "    print ('--------------------------')\n",
    "    "
   ]
  },
  {
   "cell_type": "markdown",
   "id": "ffcdf045",
   "metadata": {},
   "source": [
    "часть методов не работает типа Newton-CG, dogleg и trust-ncg. Требует Якобиан. Часть методов не смогла проветси минимизацию"
   ]
  },
  {
   "cell_type": "code",
   "execution_count": null,
   "id": "26425301",
   "metadata": {},
   "outputs": [],
   "source": []
  }
 ],
 "metadata": {
  "kernelspec": {
   "display_name": "Python 3 (ipykernel)",
   "language": "python",
   "name": "python3"
  },
  "language_info": {
   "codemirror_mode": {
    "name": "ipython",
    "version": 3
   },
   "file_extension": ".py",
   "mimetype": "text/x-python",
   "name": "python",
   "nbconvert_exporter": "python",
   "pygments_lexer": "ipython3",
   "version": "3.9.12"
  }
 },
 "nbformat": 4,
 "nbformat_minor": 5
}
