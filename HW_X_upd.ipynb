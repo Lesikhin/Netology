{
 "cells": [
  {
   "cell_type": "markdown",
   "metadata": {
    "id": "g1hQiFW7isGe"
   },
   "source": [
    "# Итоговая работа."
   ]
  },
  {
   "cell_type": "code",
   "execution_count": 1,
   "metadata": {
    "id": "NyZ7GotDi1Mp"
   },
   "outputs": [],
   "source": [
    "import matplotlib.pyplot as plt\n",
    "import numpy as np\n",
    "\n",
    "from scipy.optimize import differential_evolution\n",
    "from scipy.optimize import minimize\n",
    "from scipy.stats import norm\n",
    "from sympy import *\n",
    "%matplotlib inline"
   ]
  },
  {
   "cell_type": "markdown",
   "metadata": {
    "id": "VZFf_auXisJd"
   },
   "source": [
    "## Задание 1"
   ]
  },
  {
   "cell_type": "markdown",
   "metadata": {
    "id": "39rGnTIojFlV"
   },
   "source": [
    "\n",
    "Вычислите производную функции: \n",
    "\n",
    "$tg^2(sin(x) + cos(2x+3))$ \n",
    "\n",
    "в точке $x_0=1$\n"
   ]
  },
  {
   "cell_type": "code",
   "execution_count": 2,
   "metadata": {
    "id": "9NqehLwAL-p6"
   },
   "outputs": [
    {
     "data": {
      "text/latex": [
       "$\\displaystyle \\tan^{2}{\\left(\\sin{\\left(x \\right)} + \\cos{\\left(2 x + 3 \\right)} \\right)}$"
      ],
      "text/plain": [
       "tan(sin(x) + cos(2*x + 3))**2"
      ]
     },
     "execution_count": 2,
     "metadata": {},
     "output_type": "execute_result"
    }
   ],
   "source": [
    "# описывем функцию\n",
    "x = Symbol('x')\n",
    "f = tan(sin(x)+cos(2*x+3))**2\n",
    "f"
   ]
  },
  {
   "cell_type": "code",
   "execution_count": 3,
   "metadata": {},
   "outputs": [
    {
     "name": "stdout",
     "output_type": "stream",
     "text": [
      "first derivative в точке 1:  55.3859176353379\n"
     ]
    }
   ],
   "source": [
    "#import sympy as sym\n",
    "\n",
    "#x = Symbol('x')\n",
    "#f = tan(sin(x)+cos(2*x+3))**2\n",
    "\n",
    "print('first derivative в точке 1: ', diff(f).evalf(subs={'x':1}))"
   ]
  },
  {
   "cell_type": "markdown",
   "metadata": {
    "id": "P0dJuDCHlitb"
   },
   "source": [
    "## Задание 2"
   ]
  },
  {
   "cell_type": "markdown",
   "metadata": {
    "id": "9t_CAEu4ljXX"
   },
   "source": [
    "Дан объект в $2D$ пространстве"
   ]
  },
  {
   "cell_type": "code",
   "execution_count": 4,
   "metadata": {
    "colab": {
     "base_uri": "https://localhost:8080/",
     "height": 286
    },
    "id": "jOSkPagdljlG",
    "outputId": "82d8f12e-7f64-4653-fb17-000eb83b0e3c"
   },
   "outputs": [
    {
     "data": {
      "text/plain": [
       "(-200.0, 200.0)"
      ]
     },
     "execution_count": 4,
     "metadata": {},
     "output_type": "execute_result"
    },
    {
     "data": {
      "image/png": "[encoded data removed]",
      "text/plain": [
       "<Figure size 432x288 with 1 Axes>"
      ]
     },
     "metadata": {
      "needs_background": "light"
     },
     "output_type": "display_data"
    }
   ],
   "source": [
    "import numpy as np\n",
    "import matplotlib.pyplot as plt\n",
    "\n",
    "A = [\n",
    "[-100, -100, 1],\n",
    "[0, 100, 1],\n",
    "[100, -100, 1],\n",
    "[-100, -100, 1]\n",
    "]\n",
    "\n",
    "A = np.array(A)\n",
    "\n",
    "x = A[:,0]\n",
    "y = A[:,1]\n",
    "plt.plot(x, y)\n",
    "plt.ylim([-200, 200])\n",
    "plt.xlim([-200, 200]) "
   ]
  },
  {
   "cell_type": "markdown",
   "metadata": {
    "id": "ALnwba_5lkFh"
   },
   "source": [
    "При помощи матричных операций выполните:\n",
    "- Масштабирование и смещение объекта (применить 2 матрицы трансформаций). Масштабирование на (0.5, 1.2) и смещение на (200, 300)\n"
   ]
  },
  {
   "cell_type": "code",
   "execution_count": 5,
   "metadata": {
    "id": "k1J7lbkRlkON",
    "scrolled": true
   },
   "outputs": [
    {
     "data": {
      "text/plain": [
       "(-200.0, 200.0)"
      ]
     },
     "execution_count": 5,
     "metadata": {},
     "output_type": "execute_result"
    },
    {
     "data": {
      "image/png": "[encoded data removed]",
      "text/plain": [
       "<Figure size 432x288 with 1 Axes>"
      ]
     },
     "metadata": {
      "needs_background": "light"
     },
     "output_type": "display_data"
    }
   ],
   "source": [
    "# масштабирование на 0.5\n",
    "A2 = [[0.5, 0.5, 1],\n",
    "[0.5, 0.5, 1],\n",
    "[0.5, 0.5, 1],\n",
    "[0.5, 0.5, 1]]\n",
    "A2 = np.array(A2)\n",
    "i= A*A2\n",
    "x = i[:,0]\n",
    "y = i[:,1]\n",
    "plt.plot(x, y)\n",
    "plt.ylim([-200, 200])\n",
    "plt.xlim([-200, 200])"
   ]
  },
  {
   "cell_type": "code",
   "execution_count": 6,
   "metadata": {},
   "outputs": [
    {
     "data": {
      "text/plain": [
       "(-200.0, 200.0)"
      ]
     },
     "execution_count": 6,
     "metadata": {},
     "output_type": "execute_result"
    },
    {
     "data": {
      "image/png": "[encoded data removed]",
      "text/plain": [
       "<Figure size 432x288 with 1 Axes>"
      ]
     },
     "metadata": {
      "needs_background": "light"
     },
     "output_type": "display_data"
    }
   ],
   "source": [
    "# масштабирование на 1.2\n",
    "A2 = [[1.2, 1.2, 1],\n",
    "[1.2, 1.2, 1],\n",
    "[1.2, 1.2, 1],\n",
    "[1.2, 1.2, 1]]\n",
    "A2 = np.array(A2)\n",
    "i= A*A2\n",
    "x = i[:,0]\n",
    "y = i[:,1]\n",
    "plt.plot(x, y)\n",
    "plt.ylim([-200, 200])\n",
    "plt.xlim([-200, 200])"
   ]
  },
  {
   "cell_type": "code",
   "execution_count": 7,
   "metadata": {},
   "outputs": [
    {
     "data": {
      "text/plain": [
       "(0.0, 400.0)"
      ]
     },
     "execution_count": 7,
     "metadata": {},
     "output_type": "execute_result"
    },
    {
     "data": {
      "image/png": "[encoded data removed]",
      "text/plain": [
       "<Figure size 432x288 with 1 Axes>"
      ]
     },
     "metadata": {
      "needs_background": "light"
     },
     "output_type": "display_data"
    }
   ],
   "source": [
    "# смещение на 200 по горизонтали и 300 по вертикали\n",
    "A2 = [[200, 300, 1],\n",
    "[200, 300, 1],\n",
    "[200, 300, 1],\n",
    "[200, 300, 1]]\n",
    "A2 = np.array(A2)\n",
    "i= A+A2\n",
    "x = i[:,0]\n",
    "y = i[:,1]\n",
    "plt.plot(x, y)\n",
    "plt.ylim([100, 500])\n",
    "plt.xlim([0, 400])"
   ]
  },
  {
   "cell_type": "markdown",
   "metadata": {
    "id": "QRJEo5ydjFjG"
   },
   "source": [
    "## Задание 3\n"
   ]
  },
  {
   "cell_type": "markdown",
   "metadata": {
    "id": "j1IOvxF8L1v4"
   },
   "source": [
    "Найдите собственные значения и собственные вектора матрицы:"
   ]
  },
  {
   "cell_type": "code",
   "execution_count": 8,
   "metadata": {
    "id": "6aq0Aa8NL4gW"
   },
   "outputs": [
    {
     "name": "stdout",
     "output_type": "stream",
     "text": [
      "[[1 4]\n",
      " [1 1]]\n"
     ]
    }
   ],
   "source": [
    "m = np.array([[1, 4],\n",
    "              [1, 1]])\n",
    "print(m)"
   ]
  },
  {
   "cell_type": "code",
   "execution_count": 9,
   "metadata": {
    "id": "UOAdFwznMdY5"
   },
   "outputs": [],
   "source": [
    "v,w =np.linalg.eigh(m)"
   ]
  },
  {
   "cell_type": "code",
   "execution_count": 10,
   "metadata": {},
   "outputs": [
    {
     "data": {
      "text/plain": [
       "array([0., 2.])"
      ]
     },
     "execution_count": 10,
     "metadata": {},
     "output_type": "execute_result"
    }
   ],
   "source": [
    "# значения\n",
    "v"
   ]
  },
  {
   "cell_type": "code",
   "execution_count": 11,
   "metadata": {},
   "outputs": [
    {
     "data": {
      "text/plain": [
       "array([[-0.70710678,  0.70710678],\n",
       "       [ 0.70710678,  0.70710678]])"
      ]
     },
     "execution_count": 11,
     "metadata": {},
     "output_type": "execute_result"
    }
   ],
   "source": [
    "#матрица собственнных векторов\n",
    "w"
   ]
  },
  {
   "cell_type": "markdown",
   "metadata": {
    "id": "T1y3_xiwjFpC"
   },
   "source": [
    "## Задание 4\n"
   ]
  },
  {
   "cell_type": "markdown",
   "metadata": {
    "id": "iJnhteBQMScA"
   },
   "source": [
    "Дана функция с неизвестными параметрами a и b, вам также известны значения функции `fx` в точках `x`. \n",
    "\n",
    "Найдите оптимальные параметры a, b, минимизирующие абсолютную ошибку `error`.\n"
   ]
  },
  {
   "cell_type": "code",
   "execution_count": 12,
   "metadata": {
    "id": "eCUHicv7MSix"
   },
   "outputs": [],
   "source": [
    "def f(x, a, b):\n",
    "    return np.e**a * np.sin(b*x) + x"
   ]
  },
  {
   "cell_type": "code",
   "execution_count": 13,
   "metadata": {
    "id": "99KsJtMSMSk7"
   },
   "outputs": [],
   "source": [
    "x = np.array([0.        , 0.26315789, 0.52631579, 0.78947368, 1.05263158,\n",
    "              1.31578947, 1.57894737, 1.84210526, 2.10526316, 2.36842105,\n",
    "              2.63157895, 2.89473684, 3.15789474, 3.42105263, 3.68421053,\n",
    "              3.94736842, 4.21052632, 4.47368421, 4.73684211, 5.        ])\n",
    "\n",
    "y = np.array([  0.        , -12.01819092, -18.90968634, -17.68786571,\n",
    "                -8.7529108 ,   4.27524517,  16.06801336,  21.81250213,\n",
    "                19.22059845,   9.48411207,  -3.22273056, -13.48576488,\n",
    "               -16.91096359, -11.95866834,  -0.58630088,  12.56873816,\n",
    "                22.12489421,  24.20292139,  18.04522521,   6.33211092])"
   ]
  },
  {
   "cell_type": "code",
   "execution_count": 14,
   "metadata": {
    "id": "ZVBTEvLlMSnf"
   },
   "outputs": [
    {
     "data": {
      "image/png": "[encoded data removed]",
      "text/plain": [
       "<Figure size 432x288 with 1 Axes>"
      ]
     },
     "metadata": {
      "needs_background": "light"
     },
     "output_type": "display_data"
    }
   ],
   "source": [
    "plt.plot(x, y)\n",
    "plt.show()"
   ]
  },
  {
   "cell_type": "code",
   "execution_count": 15,
   "metadata": {
    "id": "S_hiJIdNMSpt"
   },
   "outputs": [],
   "source": [
    "def error(params):\n",
    "    return np.sum(np.abs(y - f(x, params[0], params[1])))"
   ]
  },
  {
   "cell_type": "code",
   "execution_count": 16,
   "metadata": {
    "id": "oJTy6SZQMcpG"
   },
   "outputs": [
    {
     "data": {
      "text/plain": [
       "(array([1.6051432 , 1.58606242]),\n",
       " array([[ 0.80741618, -0.02752967],\n",
       "        [-0.02752967,  0.10819338]]))"
      ]
     },
     "execution_count": 16,
     "metadata": {},
     "output_type": "execute_result"
    }
   ],
   "source": [
    "from scipy.optimize import curve_fit\n",
    "#p, p_cov = curve_fit(f, x, y, p0=[4,4], method = 'trf') \n",
    "p, p_cov = curve_fit(f, x, y, method = 'trf') \n",
    "\n",
    "p, p_cov\n"
   ]
  },
  {
   "cell_type": "code",
   "execution_count": 17,
   "metadata": {},
   "outputs": [],
   "source": [
    "a, b  = p[0], p[1]\n",
    "y_fit = np.e**a * np.sin(b*x) + x"
   ]
  },
  {
   "cell_type": "code",
   "execution_count": 18,
   "metadata": {},
   "outputs": [
    {
     "data": {
      "text/plain": [
       "[<matplotlib.lines.Line2D at 0x21bda820130>]"
      ]
     },
     "execution_count": 18,
     "metadata": {},
     "output_type": "execute_result"
    },
    {
     "data": {
      "image/png": "[encoded data removed]",
      "text/plain": [
       "<Figure size 864x576 with 1 Axes>"
      ]
     },
     "metadata": {
      "needs_background": "light"
     },
     "output_type": "display_data"
    }
   ],
   "source": [
    "plt.figure(figsize=(12, 8))\n",
    "plt.plot(x, y, color='blue')\n",
    "# сместим немного график, чтобы сравнить\n",
    "plt.plot(x+0.2, y_fit, color='red')\n"
   ]
  },
  {
   "cell_type": "code",
   "execution_count": 19,
   "metadata": {},
   "outputs": [
    {
     "data": {
      "text/plain": [
       "230.4401655559851"
      ]
     },
     "execution_count": 19,
     "metadata": {},
     "output_type": "execute_result"
    }
   ],
   "source": [
    "# проверяем ошибку\n",
    "e = error(p)\n",
    "e"
   ]
  },
  {
   "cell_type": "code",
   "execution_count": 20,
   "metadata": {},
   "outputs": [
    {
     "name": "stdout",
     "output_type": "stream",
     "text": [
      "[ 3.  -2.5] [[ 2.68953114e-18 -5.23197091e-20]\n",
      " [-5.23197091e-20  2.80481703e-19]]\n",
      "error:  0\n"
     ]
    },
    {
     "data": {
      "image/png": "[encoded data removed]",
      "text/plain": [
       "<Figure size 864x576 with 1 Axes>"
      ]
     },
     "metadata": {
      "needs_background": "light"
     },
     "output_type": "display_data"
    }
   ],
   "source": [
    "#финал , подбираем p0\n",
    "from scipy.optimize import curve_fit\n",
    "p, p_cov = curve_fit(f, x, y, p0=[4,4], method = 'trf') \n",
    "print (p, p_cov)\n",
    "a, b  = p[0], p[1]\n",
    "y_fit = np.e**a * np.sin(b*x) + x\n",
    "plt.figure(figsize=(12, 8))\n",
    "plt.plot(x, y, color='blue')\n",
    "# сместим немного график, чтобы сравнить\n",
    "plt.plot(x+0.2, y_fit, color='red')\n",
    "print ('error: ', round(error(p)))"
   ]
  },
  {
   "cell_type": "markdown",
   "metadata": {
    "id": "w994ooEPPv5W"
   },
   "source": [
    "## Задание 5\n",
    "\n"
   ]
  },
  {
   "cell_type": "markdown",
   "metadata": {
    "id": "ABMPXsuhisMO"
   },
   "source": [
    "Дана матрица рейтингов фильмов (строки - пользователи (10 человек), столбцы - фильмы (15 фильмов))"
   ]
  },
  {
   "cell_type": "code",
   "execution_count": 21,
   "metadata": {
    "id": "D4_Vshevi-4P"
   },
   "outputs": [],
   "source": [
    "raitings = np.array([[ 4,  4,  9,  4,  1,  6, 10,  7,  9,  6,  9,  2,  8,  6,  6],\n",
    "                     [ 9,  2,  5, 10,  7,  8, 10,  5,  6,  2,  1,  6,  8,  9,  7],\n",
    "                     [ 1,  6,  8,  8,  4,  9,  3,  8, 10,  5,  2,  6,  8,  1,  6],\n",
    "                     [ 6,  1,  9,  7,  7,  9,  2,  3,  5,  1,  6,  6,  3,  2,  7],\n",
    "                     [ 3,  7,  3,  5,  7,  9,  9,  6,  2,  9,  1,  2,  8, 10,  6],\n",
    "                     [ 8,  3,  7,  3,  8,  6,  1,  8,  8,  6,  1,  9,  4, 10,  1],\n",
    "                     [ 9,  8,  4,  8,  8, 10,  6,  1,  1,  2,  9,  5,  2,  7,  2],\n",
    "                     [ 4,  1,  6,  4,  3, 10,  4,  4,  2,  8,  7,  9,  3,  8,  3],\n",
    "                     [ 2,  7,  7,  6, 10,  6,  8,  9,  8,  6, 10,  1,  7, 10,  4],\n",
    "                     [ 5, 10,  8,  8,  9,  7,  2,  9,  9, 10,  8,  8,  8,  6, 10]])"
   ]
  },
  {
   "cell_type": "markdown",
   "metadata": {
    "id": "FuYpBPsTjBVa"
   },
   "source": [
    "Необходимо найти наиболее похожего пользователя по косинусной метрике для каждого из пользователей (ответ: 10 пар вида (x, y), где y - наиболее похожий пользователь на пользователя x)."
   ]
  },
  {
   "cell_type": "code",
   "execution_count": 22,
   "metadata": {
    "scrolled": true
   },
   "outputs": [
    {
     "name": "stdout",
     "output_type": "stream",
     "text": [
      "\n",
      "Пользователь  8  - наиболее похожий пользователь на пользователя  0 косинусная мера : 24.40330593975743\n",
      "[ 4  4  9  4  1  6 10  7  9  6  9  2  8  6  6]\n",
      "[ 2  7  7  6 10  6  8  9  8  6 10  1  7 10  4]\n",
      "\n",
      "\n",
      "Пользователь  4  - наиболее похожий пользователь на пользователя  1 косинусная мера : 29.38053644405199\n",
      "[ 9  2  5 10  7  8 10  5  6  2  1  6  8  9  7]\n",
      "[ 3  7  3  5  7  9  9  6  2  9  1  2  8 10  6]\n",
      "\n",
      "\n",
      "Пользователь  9  - наиболее похожий пользователь на пользователя  2 косинусная мера : 23.25880816485584\n",
      "[ 1  6  8  8  4  9  3  8 10  5  2  6  8  1  6]\n",
      "[ 5 10  8  8  9  7  2  9  9 10  8  8  8  6 10]\n",
      "\n",
      "\n",
      "Пользователь  9  - наиболее похожий пользователь на пользователя  3 косинусная мера : 30.810203550867165\n",
      "[6 1 9 7 7 9 2 3 5 1 6 6 3 2 7]\n",
      "[ 5 10  8  8  9  7  2  9  9 10  8  8  8  6 10]\n",
      "\n",
      "\n",
      "Пользователь  8  - наиболее похожий пользователь на пользователя  4 косинусная мера : 28.419725938773073\n",
      "[ 3  7  3  5  7  9  9  6  2  9  1  2  8 10  6]\n",
      "[ 2  7  7  6 10  6  8  9  8  6 10  1  7 10  4]\n",
      "\n",
      "\n",
      "Пользователь  9  - наиболее похожий пользователь на пользователя  5 косинусная мера : 31.223791994280965\n",
      "[ 8  3  7  3  8  6  1  8  8  6  1  9  4 10  1]\n",
      "[ 5 10  8  8  9  7  2  9  9 10  8  8  8  6 10]\n",
      "\n",
      "\n",
      "Пользователь  3  - наиболее похожий пользователь на пользователя  6 косинусная мера : 33.61854221212546\n",
      "[ 9  8  4  8  8 10  6  1  1  2  9  5  2  7  2]\n",
      "[6 1 9 7 7 9 2 3 5 1 6 6 3 2 7]\n",
      "\n",
      "\n",
      "Пользователь  5  - наиболее похожий пользователь на пользователя  7 косинусная мера : 32.37979261694321\n",
      "[ 4  1  6  4  3 10  4  4  2  8  7  9  3  8  3]\n",
      "[ 8  3  7  3  8  6  1  8  8  6  1  9  4 10  1]\n",
      "\n",
      "\n",
      "Пользователь  0  - наиболее похожий пользователь на пользователя  8 косинусная мера : 24.40330593975743\n",
      "[ 2  7  7  6 10  6  8  9  8  6 10  1  7 10  4]\n",
      "[ 4  4  9  4  1  6 10  7  9  6  9  2  8  6  6]\n",
      "\n",
      "\n",
      "Пользователь  2  - наиболее похожий пользователь на пользователя  9 косинусная мера : 23.25880816485584\n",
      "[ 5 10  8  8  9  7  2  9  9 10  8  8  8  6 10]\n",
      "[ 1  6  8  8  4  9  3  8 10  5  2  6  8  1  6]\n",
      "\n"
     ]
    }
   ],
   "source": [
    "for i in range (0,10):\n",
    "    min = 100\n",
    "    for j in range (0,10):\n",
    "        if (i!=j):\n",
    "            z = np.rad2deg( np.arccos(np.dot(raitings [i],raitings [j])/(np.linalg.norm(raitings [i]) * np.linalg.norm(raitings [j]) )))\n",
    "            #print ( 'User ', i , ' и User ', j, ': ', z)\n",
    "            if z < min:\n",
    "                min =z\n",
    "                similar = j\n",
    "    print()\n",
    "    print ( 'Пользователь ', similar, ' - наиболее похожий пользователь на пользователя ', i, 'косинусная мера :', min)\n",
    "    print (raitings [i])\n",
    "    print (raitings[similar])\n",
    "    print()"
   ]
  },
  {
   "cell_type": "code",
   "execution_count": null,
   "metadata": {},
   "outputs": [],
   "source": []
  }
 ],
 "metadata": {
  "colab": {
   "collapsed_sections": [],
   "name": "HW_X_upd",
   "provenance": []
  },
  "kernelspec": {
   "display_name": "Python 3 (ipykernel)",
   "language": "python",
   "name": "python3"
  },
  "language_info": {
   "codemirror_mode": {
    "name": "ipython",
    "version": 3
   },
   "file_extension": ".py",
   "mimetype": "text/x-python",
   "name": "python",
   "nbconvert_exporter": "python",
   "pygments_lexer": "ipython3",
   "version": "3.9.12"
  }
 },
 "nbformat": 4,
 "nbformat_minor": 1
}
