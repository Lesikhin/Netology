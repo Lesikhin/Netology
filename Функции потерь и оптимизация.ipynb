{
 "cells": [
  {
   "cell_type": "markdown",
   "id": "264d5a4f",
   "metadata": {},
   "source": [
    "Функции потерь и оптимизация"
   ]
  },
  {
   "cell_type": "code",
   "execution_count": 1,
   "id": "03fbd145",
   "metadata": {},
   "outputs": [],
   "source": [
    "from sklearn import datasets\n",
    "import numpy as np\n",
    "import pandas as pd\n",
    "from datetime import datetime\n",
    "from sklearn.model_selection import train_test_split\n",
    "from sklearn.metrics import accuracy_score\n",
    "import matplotlib.pyplot as plt"
   ]
  },
  {
   "cell_type": "markdown",
   "id": "4b9eecf9",
   "metadata": {},
   "source": [
    "Самостоятельно реализуйте логистическую регрессию, без использования метода LogisticRegression из библиотеки. Можете использовать библиотеки pandas, numpy, math для реализации. Оформите в виде функции. *Оформите в виде класса с методами"
   ]
  },
  {
   "cell_type": "code",
   "execution_count": 2,
   "id": "3b76fd8d",
   "metadata": {},
   "outputs": [],
   "source": [
    "#загружаем данные\n",
    "iris = pd.read_csv('https://gist.githubusercontent.com/netj/8836201/raw/6f9306ad21398ea43cba4f7d537619d0e07d5ae3/iris.csv')"
   ]
  },
  {
   "cell_type": "code",
   "execution_count": 3,
   "id": "19ab6c39",
   "metadata": {},
   "outputs": [
    {
     "data": {
      "text/html": [
       "<div>\n",
       "<style scoped>\n",
       "    .dataframe tbody tr th:only-of-type {\n",
       "        vertical-align: middle;\n",
       "    }\n",
       "\n",
       "    .dataframe tbody tr th {\n",
       "        vertical-align: top;\n",
       "    }\n",
       "\n",
       "    .dataframe thead th {\n",
       "        text-align: right;\n",
       "    }\n",
       "</style>\n",
       "<table border=\"1\" class=\"dataframe\">\n",
       "  <thead>\n",
       "    <tr style=\"text-align: right;\">\n",
       "      <th></th>\n",
       "      <th>sepal.length</th>\n",
       "      <th>sepal.width</th>\n",
       "      <th>petal.length</th>\n",
       "      <th>petal.width</th>\n",
       "      <th>variety</th>\n",
       "    </tr>\n",
       "  </thead>\n",
       "  <tbody>\n",
       "    <tr>\n",
       "      <th>0</th>\n",
       "      <td>5.1</td>\n",
       "      <td>3.5</td>\n",
       "      <td>1.4</td>\n",
       "      <td>0.2</td>\n",
       "      <td>Setosa</td>\n",
       "    </tr>\n",
       "    <tr>\n",
       "      <th>1</th>\n",
       "      <td>4.9</td>\n",
       "      <td>3.0</td>\n",
       "      <td>1.4</td>\n",
       "      <td>0.2</td>\n",
       "      <td>Setosa</td>\n",
       "    </tr>\n",
       "    <tr>\n",
       "      <th>2</th>\n",
       "      <td>4.7</td>\n",
       "      <td>3.2</td>\n",
       "      <td>1.3</td>\n",
       "      <td>0.2</td>\n",
       "      <td>Setosa</td>\n",
       "    </tr>\n",
       "    <tr>\n",
       "      <th>3</th>\n",
       "      <td>4.6</td>\n",
       "      <td>3.1</td>\n",
       "      <td>1.5</td>\n",
       "      <td>0.2</td>\n",
       "      <td>Setosa</td>\n",
       "    </tr>\n",
       "    <tr>\n",
       "      <th>4</th>\n",
       "      <td>5.0</td>\n",
       "      <td>3.6</td>\n",
       "      <td>1.4</td>\n",
       "      <td>0.2</td>\n",
       "      <td>Setosa</td>\n",
       "    </tr>\n",
       "    <tr>\n",
       "      <th>...</th>\n",
       "      <td>...</td>\n",
       "      <td>...</td>\n",
       "      <td>...</td>\n",
       "      <td>...</td>\n",
       "      <td>...</td>\n",
       "    </tr>\n",
       "    <tr>\n",
       "      <th>145</th>\n",
       "      <td>6.7</td>\n",
       "      <td>3.0</td>\n",
       "      <td>5.2</td>\n",
       "      <td>2.3</td>\n",
       "      <td>Virginica</td>\n",
       "    </tr>\n",
       "    <tr>\n",
       "      <th>146</th>\n",
       "      <td>6.3</td>\n",
       "      <td>2.5</td>\n",
       "      <td>5.0</td>\n",
       "      <td>1.9</td>\n",
       "      <td>Virginica</td>\n",
       "    </tr>\n",
       "    <tr>\n",
       "      <th>147</th>\n",
       "      <td>6.5</td>\n",
       "      <td>3.0</td>\n",
       "      <td>5.2</td>\n",
       "      <td>2.0</td>\n",
       "      <td>Virginica</td>\n",
       "    </tr>\n",
       "    <tr>\n",
       "      <th>148</th>\n",
       "      <td>6.2</td>\n",
       "      <td>3.4</td>\n",
       "      <td>5.4</td>\n",
       "      <td>2.3</td>\n",
       "      <td>Virginica</td>\n",
       "    </tr>\n",
       "    <tr>\n",
       "      <th>149</th>\n",
       "      <td>5.9</td>\n",
       "      <td>3.0</td>\n",
       "      <td>5.1</td>\n",
       "      <td>1.8</td>\n",
       "      <td>Virginica</td>\n",
       "    </tr>\n",
       "  </tbody>\n",
       "</table>\n",
       "<p>150 rows × 5 columns</p>\n",
       "</div>"
      ],
      "text/plain": [
       "     sepal.length  sepal.width  petal.length  petal.width    variety\n",
       "0             5.1          3.5           1.4          0.2     Setosa\n",
       "1             4.9          3.0           1.4          0.2     Setosa\n",
       "2             4.7          3.2           1.3          0.2     Setosa\n",
       "3             4.6          3.1           1.5          0.2     Setosa\n",
       "4             5.0          3.6           1.4          0.2     Setosa\n",
       "..            ...          ...           ...          ...        ...\n",
       "145           6.7          3.0           5.2          2.3  Virginica\n",
       "146           6.3          2.5           5.0          1.9  Virginica\n",
       "147           6.5          3.0           5.2          2.0  Virginica\n",
       "148           6.2          3.4           5.4          2.3  Virginica\n",
       "149           5.9          3.0           5.1          1.8  Virginica\n",
       "\n",
       "[150 rows x 5 columns]"
      ]
     },
     "execution_count": 3,
     "metadata": {},
     "output_type": "execute_result"
    }
   ],
   "source": [
    "iris"
   ]
  },
  {
   "cell_type": "code",
   "execution_count": 4,
   "id": "ee0632ea",
   "metadata": {},
   "outputs": [
    {
     "data": {
      "text/html": [
       "<div>\n",
       "<style scoped>\n",
       "    .dataframe tbody tr th:only-of-type {\n",
       "        vertical-align: middle;\n",
       "    }\n",
       "\n",
       "    .dataframe tbody tr th {\n",
       "        vertical-align: top;\n",
       "    }\n",
       "\n",
       "    .dataframe thead th {\n",
       "        text-align: right;\n",
       "    }\n",
       "</style>\n",
       "<table border=\"1\" class=\"dataframe\">\n",
       "  <thead>\n",
       "    <tr style=\"text-align: right;\">\n",
       "      <th></th>\n",
       "      <th>sepal.length</th>\n",
       "      <th>sepal.width</th>\n",
       "      <th>petal.length</th>\n",
       "      <th>petal.width</th>\n",
       "      <th>variety</th>\n",
       "    </tr>\n",
       "  </thead>\n",
       "  <tbody>\n",
       "    <tr>\n",
       "      <th>50</th>\n",
       "      <td>7.0</td>\n",
       "      <td>3.2</td>\n",
       "      <td>4.7</td>\n",
       "      <td>1.4</td>\n",
       "      <td>Versicolor</td>\n",
       "    </tr>\n",
       "    <tr>\n",
       "      <th>51</th>\n",
       "      <td>6.4</td>\n",
       "      <td>3.2</td>\n",
       "      <td>4.5</td>\n",
       "      <td>1.5</td>\n",
       "      <td>Versicolor</td>\n",
       "    </tr>\n",
       "    <tr>\n",
       "      <th>52</th>\n",
       "      <td>6.9</td>\n",
       "      <td>3.1</td>\n",
       "      <td>4.9</td>\n",
       "      <td>1.5</td>\n",
       "      <td>Versicolor</td>\n",
       "    </tr>\n",
       "    <tr>\n",
       "      <th>53</th>\n",
       "      <td>5.5</td>\n",
       "      <td>2.3</td>\n",
       "      <td>4.0</td>\n",
       "      <td>1.3</td>\n",
       "      <td>Versicolor</td>\n",
       "    </tr>\n",
       "    <tr>\n",
       "      <th>54</th>\n",
       "      <td>6.5</td>\n",
       "      <td>2.8</td>\n",
       "      <td>4.6</td>\n",
       "      <td>1.5</td>\n",
       "      <td>Versicolor</td>\n",
       "    </tr>\n",
       "    <tr>\n",
       "      <th>...</th>\n",
       "      <td>...</td>\n",
       "      <td>...</td>\n",
       "      <td>...</td>\n",
       "      <td>...</td>\n",
       "      <td>...</td>\n",
       "    </tr>\n",
       "    <tr>\n",
       "      <th>145</th>\n",
       "      <td>6.7</td>\n",
       "      <td>3.0</td>\n",
       "      <td>5.2</td>\n",
       "      <td>2.3</td>\n",
       "      <td>Virginica</td>\n",
       "    </tr>\n",
       "    <tr>\n",
       "      <th>146</th>\n",
       "      <td>6.3</td>\n",
       "      <td>2.5</td>\n",
       "      <td>5.0</td>\n",
       "      <td>1.9</td>\n",
       "      <td>Virginica</td>\n",
       "    </tr>\n",
       "    <tr>\n",
       "      <th>147</th>\n",
       "      <td>6.5</td>\n",
       "      <td>3.0</td>\n",
       "      <td>5.2</td>\n",
       "      <td>2.0</td>\n",
       "      <td>Virginica</td>\n",
       "    </tr>\n",
       "    <tr>\n",
       "      <th>148</th>\n",
       "      <td>6.2</td>\n",
       "      <td>3.4</td>\n",
       "      <td>5.4</td>\n",
       "      <td>2.3</td>\n",
       "      <td>Virginica</td>\n",
       "    </tr>\n",
       "    <tr>\n",
       "      <th>149</th>\n",
       "      <td>5.9</td>\n",
       "      <td>3.0</td>\n",
       "      <td>5.1</td>\n",
       "      <td>1.8</td>\n",
       "      <td>Virginica</td>\n",
       "    </tr>\n",
       "  </tbody>\n",
       "</table>\n",
       "<p>100 rows × 5 columns</p>\n",
       "</div>"
      ],
      "text/plain": [
       "     sepal.length  sepal.width  petal.length  petal.width     variety\n",
       "50            7.0          3.2           4.7          1.4  Versicolor\n",
       "51            6.4          3.2           4.5          1.5  Versicolor\n",
       "52            6.9          3.1           4.9          1.5  Versicolor\n",
       "53            5.5          2.3           4.0          1.3  Versicolor\n",
       "54            6.5          2.8           4.6          1.5  Versicolor\n",
       "..            ...          ...           ...          ...         ...\n",
       "145           6.7          3.0           5.2          2.3   Virginica\n",
       "146           6.3          2.5           5.0          1.9   Virginica\n",
       "147           6.5          3.0           5.2          2.0   Virginica\n",
       "148           6.2          3.4           5.4          2.3   Virginica\n",
       "149           5.9          3.0           5.1          1.8   Virginica\n",
       "\n",
       "[100 rows x 5 columns]"
      ]
     },
     "execution_count": 4,
     "metadata": {},
     "output_type": "execute_result"
    }
   ],
   "source": [
    "#В данных оставьте только 2 класса: Iris Versicolor, Iris Virginica\n",
    "iris = iris.loc[iris['variety'] != 'Setosa']\n",
    "iris"
   ]
  },
  {
   "cell_type": "code",
   "execution_count": 5,
   "id": "86b52369",
   "metadata": {},
   "outputs": [
    {
     "name": "stdout",
     "output_type": "stream",
     "text": [
      "<class 'pandas.core.frame.DataFrame'>\n",
      "Int64Index: 100 entries, 50 to 149\n",
      "Data columns (total 5 columns):\n",
      " #   Column        Non-Null Count  Dtype  \n",
      "---  ------        --------------  -----  \n",
      " 0   sepal.length  100 non-null    float64\n",
      " 1   sepal.width   100 non-null    float64\n",
      " 2   petal.length  100 non-null    float64\n",
      " 3   petal.width   100 non-null    float64\n",
      " 4   variety       100 non-null    object \n",
      "dtypes: float64(4), object(1)\n",
      "memory usage: 4.7+ KB\n"
     ]
    }
   ],
   "source": [
    "# проверяем на пустые данные или потери\n",
    "iris.info()"
   ]
  },
  {
   "cell_type": "code",
   "execution_count": 6,
   "id": "c99ea589",
   "metadata": {},
   "outputs": [
    {
     "name": "stderr",
     "output_type": "stream",
     "text": [
      "C:\\Users\\yuril\\AppData\\Local\\Temp\\ipykernel_9384\\1099680765.py:2: SettingWithCopyWarning: \n",
      "A value is trying to be set on a copy of a slice from a DataFrame.\n",
      "Try using .loc[row_indexer,col_indexer] = value instead\n",
      "\n",
      "See the caveats in the documentation: https://pandas.pydata.org/pandas-docs/stable/user_guide/indexing.html#returning-a-view-versus-a-copy\n",
      "  iris['variety'] = iris['variety'].map({'Versicolor': 0, 'Virginica': 1})\n"
     ]
    }
   ],
   "source": [
    "#готовим данные\n",
    "iris['variety'] = iris['variety'].map({'Versicolor': 0, 'Virginica': 1})\n",
    "y = np.array(iris['variety'])\n",
    "X = np.array(iris.drop(['variety'], axis = 1))"
   ]
  },
  {
   "cell_type": "code",
   "execution_count": 7,
   "id": "fd6d245a",
   "metadata": {},
   "outputs": [
    {
     "data": {
      "text/plain": [
       "(array([[7. , 3.2, 4.7, 1.4],\n",
       "        [6.4, 3.2, 4.5, 1.5],\n",
       "        [6.9, 3.1, 4.9, 1.5],\n",
       "        [5.5, 2.3, 4. , 1.3],\n",
       "        [6.5, 2.8, 4.6, 1.5],\n",
       "        [5.7, 2.8, 4.5, 1.3],\n",
       "        [6.3, 3.3, 4.7, 1.6],\n",
       "        [4.9, 2.4, 3.3, 1. ],\n",
       "        [6.6, 2.9, 4.6, 1.3],\n",
       "        [5.2, 2.7, 3.9, 1.4]]),\n",
       " array([0, 0, 0, 0, 0, 0, 0, 0, 0, 0], dtype=int64))"
      ]
     },
     "execution_count": 7,
     "metadata": {},
     "output_type": "execute_result"
    }
   ],
   "source": [
    "X[:10], y[:10]"
   ]
  },
  {
   "cell_type": "markdown",
   "id": "5a814982",
   "metadata": {},
   "source": [
    "Реализуйте метод градиентного спуска. Обучите логистическую регрессию этим методом. Выберете и посчитайте метрику качества. Метрика должна быть одинакова для всех пунктов домашнего задания. Для упрощения сравнения выберете только одну метрику."
   ]
  },
  {
   "cell_type": "code",
   "execution_count": 8,
   "id": "4f2f6363",
   "metadata": {},
   "outputs": [],
   "source": [
    "class LogR():\n",
    "    def sigmoid(self, theta):\n",
    "        return 1/(1 + np.exp(-theta))\n",
    "\n",
    "    def theta(self, theta, X):\n",
    "        return theta[0] + theta[1] * X[:, 0] + theta[2] * X[:, 1] + theta[3] * X[:, 2] + theta[4] * X[:, 3]\n",
    "   \n",
    "    # бинарная кросс энтропия (функция потерь)\n",
    "    def cost_2(self, y, sigmoid):\n",
    "        eps = 1e-6    \n",
    "        cf = - np.mean(y * np.log(sigmoid + eps) + (1 - y + eps) * np.log(1 - sigmoid + eps))\n",
    "        cf = np.sum(cf)\n",
    "        return cf\n",
    "\n",
    "    def predict(self, theta, X):\n",
    "        return self.sigmoid(self.theta(theta, X))\n",
    "\n",
    "    def cost_1(self, Y, sigmoid):\n",
    "        return np.sum(np.square(sigmoid - Y)) / (2 * len(sigmoid))\n",
    "         \n",
    "    def predict_grad(self, X, Y, epochs, lr, theta):\n",
    "        losses = []\n",
    "        for _ in range(epochs):\n",
    "            sigmoid = self.predict(theta, X)\n",
    "            #loss = self.cost_1(Y, sigmoid)\n",
    "            loss = self.cost_2(Y, sigmoid)\n",
    "            losses.append(loss)\n",
    "            theta[0] = theta[0] - lr * np.sum(sigmoid - Y) / len(sigmoid)\n",
    "            theta[1] = theta[1] - lr * np.sum((sigmoid - Y) * X[:, 0])/len(sigmoid)\n",
    "            theta[2] = theta[2] - lr * np.sum((sigmoid - Y) * X[:, 1])/len(sigmoid)\n",
    "            theta[3] = theta[3] - lr * np.sum((sigmoid - Y) * X[:, 2])/len(sigmoid)\n",
    "            theta[4] = theta[4] - lr * np.sum((sigmoid - Y) * X[:, 3])/len(sigmoid)\n",
    "        return [theta, losses, self.errors(X, Y, theta)]\n",
    "\n",
    "    def predict_rmsprop(self, X, Y, epochs, lr, epsilon, gamma, theta):\n",
    "        # заполняем 0 \n",
    "        grad = np.zeros(5)\n",
    "        sq_grad = np.zeros(5)\n",
    "        losses = []\n",
    "        for _ in range(epochs):\n",
    "            sigmoid = self.predict(theta, X)\n",
    "            loss = self.cost_2(Y, sigmoid)\n",
    "            losses.append(loss)\n",
    "            grad[0] = np.sum(sigmoid - Y)/len(sigmoid)\n",
    "            grad[1] = np.sum((sigmoid - Y) * X[:, 0])/len(sigmoid)\n",
    "            grad[2] = np.sum((sigmoid - Y) * X[:, 1])/len(sigmoid)\n",
    "            grad[3] = np.sum((sigmoid - Y) * X[:, 2])/len(sigmoid)\n",
    "            grad[4] = np.sum((sigmoid - Y) * X[:, 3])/len(sigmoid)\n",
    "            sq_grad = gamma * sq_grad + (1 - gamma)  * grad ** 2\n",
    "            theta -= lr * grad / np.sqrt(sq_grad + epsilon)\n",
    "        return [theta, losses, self.errors(X, Y, theta)]\n",
    "\n",
    "    def predict_nadam(self, X, Y, epochs, lr, gamma, theta):\n",
    "        # заполняем 0 \n",
    "        vt = np.zeros(5)\n",
    "        vt_prev = np.zeros(5)\n",
    "        losses = []\n",
    "        for _ in range(epochs):\n",
    "            sigmoid = self.predict(theta, X)\n",
    "            loss = self.cost_2(Y, sigmoid)\n",
    "            losses.append(loss)\n",
    "            sigmoid = self.predict(theta - gamma * vt_prev, X)\n",
    "            vt[0] = (gamma * vt_prev[0] + lr * np.sum(sigmoid - Y))/len(sigmoid)\n",
    "            vt[1] = (gamma * vt_prev[1] + lr * np.sum((sigmoid - Y) * X[:, 0]))/len(sigmoid)\n",
    "            vt[2] = (gamma * vt_prev[2] + lr * np.sum((sigmoid - Y) * X[:, 1]))/len(sigmoid)\n",
    "            vt[3] = (gamma * vt_prev[3] + lr * np.sum((sigmoid - Y) * X[:, 2]))/len(sigmoid)\n",
    "            vt[4] = (gamma * vt_prev[4] + lr * np.sum((sigmoid - Y) * X[:, 3]))/len(sigmoid)\n",
    "            theta -= vt\n",
    "            vt_prev = vt\n",
    "        return [theta, losses, self.errors(X, Y, theta)]\n",
    "\n",
    "    def errors(self, X, Y, theta):\n",
    "        count = 0\n",
    "        for index, item in enumerate(np.around(self.predict(theta, X))):\n",
    "            if int(item) != Y[index].item():\n",
    "                count += 1\n",
    "        return count"
   ]
  },
  {
   "cell_type": "code",
   "execution_count": 9,
   "id": "ac6c13ea",
   "metadata": {},
   "outputs": [
    {
     "name": "stdout",
     "output_type": "stream",
     "text": [
      "CPU times: total: 31.2 ms\n",
      "Wall time: 84.1 ms\n"
     ]
    }
   ],
   "source": [
    "%%time\n",
    "# присвоим первоначальные значения\n",
    "theta = [1, 1, 1, 1, 1 ]\n",
    "rg = LogR()\n",
    "r =rg.predict_grad(X, y, 1000, 0.02, theta)\n"
   ]
  },
  {
   "cell_type": "code",
   "execution_count": 10,
   "id": "2094ac04",
   "metadata": {},
   "outputs": [
    {
     "data": {
      "text/plain": [
       "([0.20755683479542816,\n",
       "  -1.378675447136359,\n",
       "  -0.6254951156300759,\n",
       "  1.4694839338565107,\n",
       "  1.868472608790738],\n",
       " 5)"
      ]
     },
     "execution_count": 10,
     "metadata": {},
     "output_type": "execute_result"
    }
   ],
   "source": [
    "r[0], r[2]"
   ]
  },
  {
   "cell_type": "code",
   "execution_count": 11,
   "id": "2d51408c",
   "metadata": {
    "scrolled": true
   },
   "outputs": [
    {
     "data": {
      "image/png": "[encoded data removed]",
      "text/plain": [
       "<Figure size 1080x720 with 1 Axes>"
      ]
     },
     "metadata": {
      "needs_background": "light"
     },
     "output_type": "display_data"
    }
   ],
   "source": [
    "plt.figure(figsize=(15, 10))\n",
    "plt.plot(r[1])\n",
    "plt.show()"
   ]
  },
  {
   "cell_type": "code",
   "execution_count": 12,
   "id": "32d436ba",
   "metadata": {},
   "outputs": [
    {
     "name": "stdout",
     "output_type": "stream",
     "text": [
      "CPU times: total: 46.9 ms\n",
      "Wall time: 88.2 ms\n"
     ]
    }
   ],
   "source": [
    "%%time\n",
    "#Повторите п. 3 для метода скользящего среднего (Root Mean Square Propagation, RMSProp)\n",
    "theta = [1, 1, 1, 1, 1 ]\n",
    "r = rg.predict_rmsprop(X, y, 1000, 0.02, 0.9999, 0.99999, theta)"
   ]
  },
  {
   "cell_type": "code",
   "execution_count": 13,
   "id": "63a65d3b",
   "metadata": {},
   "outputs": [
    {
     "data": {
      "text/plain": [
       "(array([ 0.20736912, -1.3780013 , -0.62564782,  1.46875602,  1.86846729]), 5)"
      ]
     },
     "execution_count": 13,
     "metadata": {},
     "output_type": "execute_result"
    }
   ],
   "source": [
    "r[0], r[2]"
   ]
  },
  {
   "cell_type": "code",
   "execution_count": 14,
   "id": "1186a149",
   "metadata": {},
   "outputs": [
    {
     "data": {
      "image/png": "[encoded data removed]",
      "text/plain": [
       "<Figure size 1080x720 with 1 Axes>"
      ]
     },
     "metadata": {
      "needs_background": "light"
     },
     "output_type": "display_data"
    }
   ],
   "source": [
    "plt.figure(figsize=(15, 10))\n",
    "plt.plot(r[1])\n",
    "plt.show()"
   ]
  },
  {
   "cell_type": "code",
   "execution_count": 15,
   "id": "5045e480",
   "metadata": {},
   "outputs": [
    {
     "name": "stdout",
     "output_type": "stream",
     "text": [
      "CPU times: total: 31.2 ms\n",
      "Wall time: 98.3 ms\n"
     ]
    }
   ],
   "source": [
    "%%time\n",
    "#Повторите п. 3 для ускоренного по Нестерову метода адаптивной оценки моментов \n",
    "#(Nesterov–accelerated Adaptive Moment Estimation, Nadam).\n",
    "theta = [1, 1, 1, 1, 1 ]\n",
    "r = rg.predict_nadam(X, y, 1000, 0.02, 0.9, theta)\n"
   ]
  },
  {
   "cell_type": "code",
   "execution_count": 16,
   "id": "3430d726",
   "metadata": {},
   "outputs": [
    {
     "data": {
      "text/plain": [
       "(array([ 0.2040515 , -1.38379327, -0.63122465,  1.47767656,  1.87542595]), 5)"
      ]
     },
     "execution_count": 16,
     "metadata": {},
     "output_type": "execute_result"
    }
   ],
   "source": [
    "r[0], r[2]"
   ]
  },
  {
   "cell_type": "code",
   "execution_count": 17,
   "id": "3fcd907f",
   "metadata": {},
   "outputs": [
    {
     "data": {
      "image/png": "[encoded data removed]",
      "text/plain": [
       "<Figure size 1080x720 with 1 Axes>"
      ]
     },
     "metadata": {
      "needs_background": "light"
     },
     "output_type": "display_data"
    }
   ],
   "source": [
    "plt.figure(figsize=(15, 10))\n",
    "plt.plot(r[1])\n",
    "plt.show()\n"
   ]
  },
  {
   "cell_type": "markdown",
   "id": "d7ed5be4",
   "metadata": {},
   "source": [
    "Сравните значение метрик для реализованных методов оптимизации. Можно оформить в виде таблицы вида |метод|метрика|время работы| (время работы опционально). Напишите вывод. "
   ]
  },
  {
   "cell_type": "markdown",
   "id": "a8104ef8",
   "metadata": {},
   "source": [
    " Время выполнения примерно одинаковое, кол-во ошибок ( в качестве метрики ) тоже одинаковое.."
   ]
  }
 ],
 "metadata": {
  "kernelspec": {
   "display_name": "Python 3 (ipykernel)",
   "language": "python",
   "name": "python3"
  },
  "language_info": {
   "codemirror_mode": {
    "name": "ipython",
    "version": 3
   },
   "file_extension": ".py",
   "mimetype": "text/x-python",
   "name": "python",
   "nbconvert_exporter": "python",
   "pygments_lexer": "ipython3",
   "version": "3.9.12"
  }
 },
 "nbformat": 4,
 "nbformat_minor": 5
}
